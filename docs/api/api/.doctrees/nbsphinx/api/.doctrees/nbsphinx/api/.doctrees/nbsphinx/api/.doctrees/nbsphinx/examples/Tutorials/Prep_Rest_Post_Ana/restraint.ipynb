{
 "cells": [
  {
   "cell_type": "markdown",
   "metadata": {},
   "source": [
    "<h1 style=\"align: center;font-size: 18pt;\">Restraint</h1>\n",
    "\n",
    "<hr style=\"height:2.5px\">\n",
    "\n",
    "This tutorial shows the user how to appropriately use the `Restraint class` to building the ensemble by importing the data files that were prepared from the previous tutorial [Preparation](https://biceps.readthedocs.io/en/latest/examples/Tutorials/Prep_Rest_Post_Ana/Preparation.html) via the `Preparation class`. **Please note** that in order to compute the relative free energies, one must perform sampling for at least two lambda values. For simplicity, we will construct an ensemble for only a single lambda value.\n",
    "\n",
    "<hr style=\"height:2.5px\">"
   ]
  },
  {
   "cell_type": "code",
   "execution_count": 28,
   "metadata": {},
   "outputs": [],
   "source": [
    "import sys, os\n",
    "import numpy as np\n",
    "import biceps"
   ]
  },
  {
   "cell_type": "code",
   "execution_count": 29,
   "metadata": {},
   "outputs": [
    {
     "name": "stdout",
     "output_type": "stream",
     "text": [
      "[['../../datasets/cineromycin_B/noe_J/0.J', '../../datasets/cineromycin_B/noe_J/0.noe'], ['../../datasets/cineromycin_B/noe_J/1.J', '../../datasets/cineromycin_B/noe_J/1.noe'], ['../../datasets/cineromycin_B/noe_J/2.J', '../../datasets/cineromycin_B/noe_J/2.noe'], ['../../datasets/cineromycin_B/noe_J/3.J', '../../datasets/cineromycin_B/noe_J/3.noe'], ['../../datasets/cineromycin_B/noe_J/4.J', '../../datasets/cineromycin_B/noe_J/4.noe'], ['../../datasets/cineromycin_B/noe_J/5.J', '../../datasets/cineromycin_B/noe_J/5.noe'], ['../../datasets/cineromycin_B/noe_J/6.J', '../../datasets/cineromycin_B/noe_J/6.noe'], ['../../datasets/cineromycin_B/noe_J/7.J', '../../datasets/cineromycin_B/noe_J/7.noe'], ['../../datasets/cineromycin_B/noe_J/8.J', '../../datasets/cineromycin_B/noe_J/8.noe'], ['../../datasets/cineromycin_B/noe_J/9.J', '../../datasets/cineromycin_B/noe_J/9.noe'], ['../../datasets/cineromycin_B/noe_J/10.J', '../../datasets/cineromycin_B/noe_J/10.noe'], ['../../datasets/cineromycin_B/noe_J/11.J', '../../datasets/cineromycin_B/noe_J/11.noe'], ['../../datasets/cineromycin_B/noe_J/12.J', '../../datasets/cineromycin_B/noe_J/12.noe'], ['../../datasets/cineromycin_B/noe_J/13.J', '../../datasets/cineromycin_B/noe_J/13.noe'], ['../../datasets/cineromycin_B/noe_J/14.J', '../../datasets/cineromycin_B/noe_J/14.noe'], ['../../datasets/cineromycin_B/noe_J/15.J', '../../datasets/cineromycin_B/noe_J/15.noe'], ['../../datasets/cineromycin_B/noe_J/16.J', '../../datasets/cineromycin_B/noe_J/16.noe'], ['../../datasets/cineromycin_B/noe_J/17.J', '../../datasets/cineromycin_B/noe_J/17.noe'], ['../../datasets/cineromycin_B/noe_J/18.J', '../../datasets/cineromycin_B/noe_J/18.noe'], ['../../datasets/cineromycin_B/noe_J/19.J', '../../datasets/cineromycin_B/noe_J/19.noe'], ['../../datasets/cineromycin_B/noe_J/20.J', '../../datasets/cineromycin_B/noe_J/20.noe'], ['../../datasets/cineromycin_B/noe_J/21.J', '../../datasets/cineromycin_B/noe_J/21.noe'], ['../../datasets/cineromycin_B/noe_J/22.J', '../../datasets/cineromycin_B/noe_J/22.noe'], ['../../datasets/cineromycin_B/noe_J/23.J', '../../datasets/cineromycin_B/noe_J/23.noe'], ['../../datasets/cineromycin_B/noe_J/24.J', '../../datasets/cineromycin_B/noe_J/24.noe'], ['../../datasets/cineromycin_B/noe_J/25.J', '../../datasets/cineromycin_B/noe_J/25.noe'], ['../../datasets/cineromycin_B/noe_J/26.J', '../../datasets/cineromycin_B/noe_J/26.noe'], ['../../datasets/cineromycin_B/noe_J/27.J', '../../datasets/cineromycin_B/noe_J/27.noe'], ['../../datasets/cineromycin_B/noe_J/28.J', '../../datasets/cineromycin_B/noe_J/28.noe'], ['../../datasets/cineromycin_B/noe_J/29.J', '../../datasets/cineromycin_B/noe_J/29.noe'], ['../../datasets/cineromycin_B/noe_J/30.J', '../../datasets/cineromycin_B/noe_J/30.noe'], ['../../datasets/cineromycin_B/noe_J/31.J', '../../datasets/cineromycin_B/noe_J/31.noe'], ['../../datasets/cineromycin_B/noe_J/32.J', '../../datasets/cineromycin_B/noe_J/32.noe'], ['../../datasets/cineromycin_B/noe_J/33.J', '../../datasets/cineromycin_B/noe_J/33.noe'], ['../../datasets/cineromycin_B/noe_J/34.J', '../../datasets/cineromycin_B/noe_J/34.noe'], ['../../datasets/cineromycin_B/noe_J/35.J', '../../datasets/cineromycin_B/noe_J/35.noe'], ['../../datasets/cineromycin_B/noe_J/36.J', '../../datasets/cineromycin_B/noe_J/36.noe'], ['../../datasets/cineromycin_B/noe_J/37.J', '../../datasets/cineromycin_B/noe_J/37.noe'], ['../../datasets/cineromycin_B/noe_J/38.J', '../../datasets/cineromycin_B/noe_J/38.noe'], ['../../datasets/cineromycin_B/noe_J/39.J', '../../datasets/cineromycin_B/noe_J/39.noe'], ['../../datasets/cineromycin_B/noe_J/40.J', '../../datasets/cineromycin_B/noe_J/40.noe'], ['../../datasets/cineromycin_B/noe_J/41.J', '../../datasets/cineromycin_B/noe_J/41.noe'], ['../../datasets/cineromycin_B/noe_J/42.J', '../../datasets/cineromycin_B/noe_J/42.noe'], ['../../datasets/cineromycin_B/noe_J/43.J', '../../datasets/cineromycin_B/noe_J/43.noe'], ['../../datasets/cineromycin_B/noe_J/44.J', '../../datasets/cineromycin_B/noe_J/44.noe'], ['../../datasets/cineromycin_B/noe_J/45.J', '../../datasets/cineromycin_B/noe_J/45.noe'], ['../../datasets/cineromycin_B/noe_J/46.J', '../../datasets/cineromycin_B/noe_J/46.noe'], ['../../datasets/cineromycin_B/noe_J/47.J', '../../datasets/cineromycin_B/noe_J/47.noe'], ['../../datasets/cineromycin_B/noe_J/48.J', '../../datasets/cineromycin_B/noe_J/48.noe'], ['../../datasets/cineromycin_B/noe_J/49.J', '../../datasets/cineromycin_B/noe_J/49.noe'], ['../../datasets/cineromycin_B/noe_J/50.J', '../../datasets/cineromycin_B/noe_J/50.noe'], ['../../datasets/cineromycin_B/noe_J/51.J', '../../datasets/cineromycin_B/noe_J/51.noe'], ['../../datasets/cineromycin_B/noe_J/52.J', '../../datasets/cineromycin_B/noe_J/52.noe'], ['../../datasets/cineromycin_B/noe_J/53.J', '../../datasets/cineromycin_B/noe_J/53.noe'], ['../../datasets/cineromycin_B/noe_J/54.J', '../../datasets/cineromycin_B/noe_J/54.noe'], ['../../datasets/cineromycin_B/noe_J/55.J', '../../datasets/cineromycin_B/noe_J/55.noe'], ['../../datasets/cineromycin_B/noe_J/56.J', '../../datasets/cineromycin_B/noe_J/56.noe'], ['../../datasets/cineromycin_B/noe_J/57.J', '../../datasets/cineromycin_B/noe_J/57.noe'], ['../../datasets/cineromycin_B/noe_J/58.J', '../../datasets/cineromycin_B/noe_J/58.noe'], ['../../datasets/cineromycin_B/noe_J/59.J', '../../datasets/cineromycin_B/noe_J/59.noe'], ['../../datasets/cineromycin_B/noe_J/60.J', '../../datasets/cineromycin_B/noe_J/60.noe'], ['../../datasets/cineromycin_B/noe_J/61.J', '../../datasets/cineromycin_B/noe_J/61.noe'], ['../../datasets/cineromycin_B/noe_J/62.J', '../../datasets/cineromycin_B/noe_J/62.noe'], ['../../datasets/cineromycin_B/noe_J/63.J', '../../datasets/cineromycin_B/noe_J/63.noe'], ['../../datasets/cineromycin_B/noe_J/64.J', '../../datasets/cineromycin_B/noe_J/64.noe'], ['../../datasets/cineromycin_B/noe_J/65.J', '../../datasets/cineromycin_B/noe_J/65.noe'], ['../../datasets/cineromycin_B/noe_J/66.J', '../../datasets/cineromycin_B/noe_J/66.noe'], ['../../datasets/cineromycin_B/noe_J/67.J', '../../datasets/cineromycin_B/noe_J/67.noe'], ['../../datasets/cineromycin_B/noe_J/68.J', '../../datasets/cineromycin_B/noe_J/68.noe'], ['../../datasets/cineromycin_B/noe_J/69.J', '../../datasets/cineromycin_B/noe_J/69.noe'], ['../../datasets/cineromycin_B/noe_J/70.J', '../../datasets/cineromycin_B/noe_J/70.noe'], ['../../datasets/cineromycin_B/noe_J/71.J', '../../datasets/cineromycin_B/noe_J/71.noe'], ['../../datasets/cineromycin_B/noe_J/72.J', '../../datasets/cineromycin_B/noe_J/72.noe'], ['../../datasets/cineromycin_B/noe_J/73.J', '../../datasets/cineromycin_B/noe_J/73.noe'], ['../../datasets/cineromycin_B/noe_J/74.J', '../../datasets/cineromycin_B/noe_J/74.noe'], ['../../datasets/cineromycin_B/noe_J/75.J', '../../datasets/cineromycin_B/noe_J/75.noe'], ['../../datasets/cineromycin_B/noe_J/76.J', '../../datasets/cineromycin_B/noe_J/76.noe'], ['../../datasets/cineromycin_B/noe_J/77.J', '../../datasets/cineromycin_B/noe_J/77.noe'], ['../../datasets/cineromycin_B/noe_J/78.J', '../../datasets/cineromycin_B/noe_J/78.noe'], ['../../datasets/cineromycin_B/noe_J/79.J', '../../datasets/cineromycin_B/noe_J/79.noe'], ['../../datasets/cineromycin_B/noe_J/80.J', '../../datasets/cineromycin_B/noe_J/80.noe'], ['../../datasets/cineromycin_B/noe_J/81.J', '../../datasets/cineromycin_B/noe_J/81.noe'], ['../../datasets/cineromycin_B/noe_J/82.J', '../../datasets/cineromycin_B/noe_J/82.noe'], ['../../datasets/cineromycin_B/noe_J/83.J', '../../datasets/cineromycin_B/noe_J/83.noe'], ['../../datasets/cineromycin_B/noe_J/84.J', '../../datasets/cineromycin_B/noe_J/84.noe'], ['../../datasets/cineromycin_B/noe_J/85.J', '../../datasets/cineromycin_B/noe_J/85.noe'], ['../../datasets/cineromycin_B/noe_J/86.J', '../../datasets/cineromycin_B/noe_J/86.noe'], ['../../datasets/cineromycin_B/noe_J/87.J', '../../datasets/cineromycin_B/noe_J/87.noe'], ['../../datasets/cineromycin_B/noe_J/88.J', '../../datasets/cineromycin_B/noe_J/88.noe'], ['../../datasets/cineromycin_B/noe_J/89.J', '../../datasets/cineromycin_B/noe_J/89.noe'], ['../../datasets/cineromycin_B/noe_J/90.J', '../../datasets/cineromycin_B/noe_J/90.noe'], ['../../datasets/cineromycin_B/noe_J/91.J', '../../datasets/cineromycin_B/noe_J/91.noe'], ['../../datasets/cineromycin_B/noe_J/92.J', '../../datasets/cineromycin_B/noe_J/92.noe'], ['../../datasets/cineromycin_B/noe_J/93.J', '../../datasets/cineromycin_B/noe_J/93.noe'], ['../../datasets/cineromycin_B/noe_J/94.J', '../../datasets/cineromycin_B/noe_J/94.noe'], ['../../datasets/cineromycin_B/noe_J/95.J', '../../datasets/cineromycin_B/noe_J/95.noe'], ['../../datasets/cineromycin_B/noe_J/96.J', '../../datasets/cineromycin_B/noe_J/96.noe'], ['../../datasets/cineromycin_B/noe_J/97.J', '../../datasets/cineromycin_B/noe_J/97.noe'], ['../../datasets/cineromycin_B/noe_J/98.J', '../../datasets/cineromycin_B/noe_J/98.noe'], ['../../datasets/cineromycin_B/noe_J/99.J', '../../datasets/cineromycin_B/noe_J/99.noe']]\n",
      "100 2\n"
     ]
    }
   ],
   "source": [
    "data_dir = \"../../datasets/cineromycin_B/\"\n",
    "\n",
    "#########################################\n",
    "# Let's create our ensemble of structures\n",
    "############ Initialization #############    \n",
    "# Specify necessary argument values\n",
    "dataFiles = data_dir+'noe_J'                  # output directory of BICePs formated input file from this scripts\n",
    "out_dir=dataFiles       \n",
    "data = biceps.toolbox.sort_data(dataFiles)   # sorting data in the folder and figure out what types of data are used\n",
    "print(data)\n",
    "print(len(data),len(data[0]))\n",
    "\n",
    "energies_filename =  data_dir+'cineromycinB_QMenergies.dat'\n",
    "energies = np.loadtxt(energies_filename)*627.509  # convert from hartrees to kcal/mol\n",
    "energies = energies/0.5959   # convert to reduced free energies F = f/kT\n",
    "energies -= energies.min()  # set ground state to zero, just in case\n",
    "outdir = 'results'\n",
    "\n",
    "# Make a new directory if we have to\n",
    "biceps.toolbox.mkdir(outdir)"
   ]
  },
  {
   "cell_type": "code",
   "execution_count": 30,
   "metadata": {},
   "outputs": [
    {
     "name": "stdout",
     "output_type": "stream",
     "text": [
      "['J', 'noe']\n"
     ]
    }
   ],
   "source": [
    "res = biceps.toolbox.list_res(data)\n",
    "print(res)"
   ]
  },
  {
   "cell_type": "markdown",
   "metadata": {},
   "source": [
    "Another key parameter for BICePs set-up is the type of reference potential for each experimental observables. More information of reference potential can be found [here](https://biceps.readthedocs.io/en/latest/theory.html).\n",
    "\n",
    "Three reference potentials are supported in BICePs: uniform ('uniform'), exponential ('exp'), Gaussian ('gau').  \n",
    "\n",
    "As we found in previous research, exponential reference potential is useful in most cases. Some higher level task may require more in reference potential selection (e.g [force field parametrization](https://pubs.acs.org/doi/10.1021/acs.jpcb.7b11871)).\n",
    "\n",
    "(Noet: It will be helpful to print out what is the order of experimental observables included in BICePs sampling as shown above.)"
   ]
  },
  {
   "cell_type": "code",
   "execution_count": 31,
   "metadata": {},
   "outputs": [],
   "source": [
    "ref=['uniform','exp']\n",
    "uncern=[[0.05,20.0,1.02],[0.05,5.0,1.02]]\n",
    "gamma = [0.2,5.0,1.01]"
   ]
  },
  {
   "cell_type": "markdown",
   "metadata": {},
   "source": [
    "#### Quick note on lambda values:\n",
    "We need to specify what lambda value(s) we want to use in BICePs samplings. Briefly, lambda values are similar to the parameters used in free energy perturbation (FEP) and has effect on the BICePs score. The lambda values represent how much prior information from computational modeling is included in BICePs sampling (1.0 means all, 0.0 means none). As we explained in [this work](https://pubs.acs.org/doi/10.1021/acs.jpcb.7b11871), one can consider BICePs score as the relative free energy change between different models. More lambda values will increase the samplings for [multistate Bennett acceptance ratio (MBAR)](http://www.alchemistry.org/wiki/Multistate_Bennett_Acceptance_Ratio) predictions in free energy change and populations. However more lambda values also will slow down the whole process of BICePs (as more samplings need to run), so balancing the accuracy and efficiency is important. To successfully finish a BICePs sampling, lambda values of 0.0 and 1.0 are necessary. Based on our experience, the lambda values of 0.0,0.5,1.0 are good enough for BICePs sampling.\n",
    "**In this tutorial, we will go through a single lambda for simplicity.**"
   ]
  },
  {
   "cell_type": "code",
   "execution_count": 34,
   "metadata": {},
   "outputs": [
    {
     "name": "stdout",
     "output_type": "stream",
     "text": [
      "[[<biceps.Restraint.Restraint_J object at 0x1a1803dad0>, <biceps.Restraint.Restraint_noe object at 0x1a181cdb50>], [<biceps.Restraint.Restraint_J object at 0x1a1803d850>, <biceps.Restraint.Restraint_noe object at 0x1a184f1bd0>], [<biceps.Restraint.Restraint_J object at 0x1a180d3310>, <biceps.Restraint.Restraint_noe object at 0x1a184f1f10>], [<biceps.Restraint.Restraint_J object at 0x1a180d3190>, <biceps.Restraint.Restraint_noe object at 0x1a18356510>], [<biceps.Restraint.Restraint_J object at 0x1a180d3050>, <biceps.Restraint.Restraint_noe object at 0x1a18356ad0>], [<biceps.Restraint.Restraint_J object at 0x1a18356810>, <biceps.Restraint.Restraint_noe object at 0x1a18e16e90>], [<biceps.Restraint.Restraint_J object at 0x1a181c1a50>, <biceps.Restraint.Restraint_noe object at 0x1a182d5910>], [<biceps.Restraint.Restraint_J object at 0x105911b10>, <biceps.Restraint.Restraint_noe object at 0x1a18e34990>], [<biceps.Restraint.Restraint_J object at 0x1a182d5490>, <biceps.Restraint.Restraint_noe object at 0x1a18e72810>], [<biceps.Restraint.Restraint_J object at 0x1a18e40f10>, <biceps.Restraint.Restraint_noe object at 0x1a18e6ac50>], [<biceps.Restraint.Restraint_J object at 0x1a183c06d0>, <biceps.Restraint.Restraint_noe object at 0x1a18e8c690>], [<biceps.Restraint.Restraint_J object at 0x1a18832f10>, <biceps.Restraint.Restraint_noe object at 0x1a18ec2750>], [<biceps.Restraint.Restraint_J object at 0x1a18eb4910>, <biceps.Restraint.Restraint_noe object at 0x1a18ec26d0>], [<biceps.Restraint.Restraint_J object at 0x1a18eaacd0>, <biceps.Restraint.Restraint_noe object at 0x1a18ec0f10>], [<biceps.Restraint.Restraint_J object at 0x1a18912d50>, <biceps.Restraint.Restraint_noe object at 0x1a18ecff50>], [<biceps.Restraint.Restraint_J object at 0x1a18ec0d90>, <biceps.Restraint.Restraint_noe object at 0x1a1895bc10>], [<biceps.Restraint.Restraint_J object at 0x1a18a04f10>, <biceps.Restraint.Restraint_noe object at 0x1a18dd88d0>], [<biceps.Restraint.Restraint_J object at 0x1a18482bd0>, <biceps.Restraint.Restraint_noe object at 0x1a189813d0>], [<biceps.Restraint.Restraint_J object at 0x1a1868b550>, <biceps.Restraint.Restraint_noe object at 0x1a184e06d0>], [<biceps.Restraint.Restraint_J object at 0x1a189a91d0>, <biceps.Restraint.Restraint_noe object at 0x1a186f0090>], [<biceps.Restraint.Restraint_J object at 0x1a189d9110>, <biceps.Restraint.Restraint_noe object at 0x1a186d67d0>], [<biceps.Restraint.Restraint_J object at 0x1a187e0390>, <biceps.Restraint.Restraint_noe object at 0x1a186d60d0>], [<biceps.Restraint.Restraint_J object at 0x1a185c5810>, <biceps.Restraint.Restraint_noe object at 0x1a1844a090>], [<biceps.Restraint.Restraint_J object at 0x1a186d6ad0>, <biceps.Restraint.Restraint_noe object at 0x1a18537ed0>], [<biceps.Restraint.Restraint_J object at 0x1a1844aa90>, <biceps.Restraint.Restraint_noe object at 0x1a187bbf50>], [<biceps.Restraint.Restraint_J object at 0x1a18537810>, <biceps.Restraint.Restraint_noe object at 0x1a187bb1d0>], [<biceps.Restraint.Restraint_J object at 0x1a1845b110>, <biceps.Restraint.Restraint_noe object at 0x1a18496610>], [<biceps.Restraint.Restraint_J object at 0x1a187bbad0>, <biceps.Restraint.Restraint_noe object at 0x1a18a50090>], [<biceps.Restraint.Restraint_J object at 0x1a184ea3d0>, <biceps.Restraint.Restraint_noe object at 0x1a1816f810>], [<biceps.Restraint.Restraint_J object at 0x1a184ea210>, <biceps.Restraint.Restraint_noe object at 0x1a1841ffd0>], [<biceps.Restraint.Restraint_J object at 0x1a18a501d0>, <biceps.Restraint.Restraint_noe object at 0x1a189a5710>], [<biceps.Restraint.Restraint_J object at 0x1a18cbf310>, <biceps.Restraint.Restraint_noe object at 0x1a18a24250>], [<biceps.Restraint.Restraint_J object at 0x1a187f7d10>, <biceps.Restraint.Restraint_noe object at 0x1a183a6f50>], [<biceps.Restraint.Restraint_J object at 0x1a18286350>, <biceps.Restraint.Restraint_noe object at 0x1a183a4410>], [<biceps.Restraint.Restraint_J object at 0x1a183e8710>, <biceps.Restraint.Restraint_noe object at 0x1a183b95d0>], [<biceps.Restraint.Restraint_J object at 0x1a18893090>, <biceps.Restraint.Restraint_noe object at 0x1a183b9c10>], [<biceps.Restraint.Restraint_J object at 0x1a183a66d0>, <biceps.Restraint.Restraint_noe object at 0x1a183c7c50>], [<biceps.Restraint.Restraint_J object at 0x1a183a6d90>, <biceps.Restraint.Restraint_noe object at 0x1a1826c450>], [<biceps.Restraint.Restraint_J object at 0x1a183b9c50>, <biceps.Restraint.Restraint_noe object at 0x1a183194d0>], [<biceps.Restraint.Restraint_J object at 0x1a1833d550>, <biceps.Restraint.Restraint_noe object at 0x1a1829ff50>], [<biceps.Restraint.Restraint_J object at 0x1a181f5790>, <biceps.Restraint.Restraint_noe object at 0x1a18144450>], [<biceps.Restraint.Restraint_J object at 0x1a1831c0d0>, <biceps.Restraint.Restraint_noe object at 0x1a1820bc90>], [<biceps.Restraint.Restraint_J object at 0x1a180f2510>, <biceps.Restraint.Restraint_noe object at 0x1a181457d0>], [<biceps.Restraint.Restraint_J object at 0x1a1828b5d0>, <biceps.Restraint.Restraint_noe object at 0x1a18247550>], [<biceps.Restraint.Restraint_J object at 0x1a1828b150>, <biceps.Restraint.Restraint_noe object at 0x1a180dfed0>], [<biceps.Restraint.Restraint_J object at 0x1a181f7110>, <biceps.Restraint.Restraint_noe object at 0x1a18243650>], [<biceps.Restraint.Restraint_J object at 0x1a1821c0d0>, <biceps.Restraint.Restraint_noe object at 0x1a1814c710>], [<biceps.Restraint.Restraint_J object at 0x1a181ff250>, <biceps.Restraint.Restraint_noe object at 0x1a181c0b50>], [<biceps.Restraint.Restraint_J object at 0x1a1835dc50>, <biceps.Restraint.Restraint_noe object at 0x1a1821f150>], [<biceps.Restraint.Restraint_J object at 0x1a181ee8d0>, <biceps.Restraint.Restraint_noe object at 0x1a1818f090>], [<biceps.Restraint.Restraint_J object at 0x1a181d6e10>, <biceps.Restraint.Restraint_noe object at 0x1a181c0210>], [<biceps.Restraint.Restraint_J object at 0x1a181d6190>, <biceps.Restraint.Restraint_noe object at 0x1a183b19d0>], [<biceps.Restraint.Restraint_J object at 0x1a181c0910>, <biceps.Restraint.Restraint_noe object at 0x1a1822c650>], [<biceps.Restraint.Restraint_J object at 0x1a18719290>, <biceps.Restraint.Restraint_noe object at 0x1a1835c990>], [<biceps.Restraint.Restraint_J object at 0x1a187196d0>, <biceps.Restraint.Restraint_noe object at 0x1a18731350>], [<biceps.Restraint.Restraint_J object at 0x1a18220590>, <biceps.Restraint.Restraint_noe object at 0x1a1828d650>], [<biceps.Restraint.Restraint_J object at 0x1a1822ca90>, <biceps.Restraint.Restraint_noe object at 0x1a181ef850>], [<biceps.Restraint.Restraint_J object at 0x1a1828ff90>, <biceps.Restraint.Restraint_noe object at 0x1a188a3310>], [<biceps.Restraint.Restraint_J object at 0x1a1849ee90>, <biceps.Restraint.Restraint_noe object at 0x1a18405b10>], [<biceps.Restraint.Restraint_J object at 0x1a183e4850>, <biceps.Restraint.Restraint_noe object at 0x1a188ad550>], [<biceps.Restraint.Restraint_J object at 0x1a183f84d0>, <biceps.Restraint.Restraint_noe object at 0x1a18449b90>], [<biceps.Restraint.Restraint_J object at 0x1a188a3210>, <biceps.Restraint.Restraint_noe object at 0x1a187da490>], [<biceps.Restraint.Restraint_J object at 0x1a188a3fd0>, <biceps.Restraint.Restraint_noe object at 0x1a185188d0>], [<biceps.Restraint.Restraint_J object at 0x1a187dab10>, <biceps.Restraint.Restraint_noe object at 0x1a187d5d90>], [<biceps.Restraint.Restraint_J object at 0x1a1872cd10>, <biceps.Restraint.Restraint_noe object at 0x1a1844be10>], [<biceps.Restraint.Restraint_J object at 0x1a18164250>, <biceps.Restraint.Restraint_noe object at 0x1a18440990>], [<biceps.Restraint.Restraint_J object at 0x1a183d3350>, <biceps.Restraint.Restraint_noe object at 0x1a187ebad0>], [<biceps.Restraint.Restraint_J object at 0x1a18460790>, <biceps.Restraint.Restraint_noe object at 0x1a18579610>], [<biceps.Restraint.Restraint_J object at 0x1a1844b050>, <biceps.Restraint.Restraint_noe object at 0x1a1862ecd0>], [<biceps.Restraint.Restraint_J object at 0x1a1857fdd0>, <biceps.Restraint.Restraint_noe object at 0x1a187248d0>], [<biceps.Restraint.Restraint_J object at 0x1a18690950>, <biceps.Restraint.Restraint_noe object at 0x1a1846b350>], [<biceps.Restraint.Restraint_J object at 0x1a18690b50>, <biceps.Restraint.Restraint_noe object at 0x1a1813e390>], [<biceps.Restraint.Restraint_J object at 0x1a1872d7d0>, <biceps.Restraint.Restraint_noe object at 0x1a186a7ed0>], [<biceps.Restraint.Restraint_J object at 0x1a1846b090>, <biceps.Restraint.Restraint_noe object at 0x1a182fdb90>], [<biceps.Restraint.Restraint_J object at 0x1a183c9b50>, <biceps.Restraint.Restraint_noe object at 0x1a1873f3d0>], [<biceps.Restraint.Restraint_J object at 0x1a18698610>, <biceps.Restraint.Restraint_noe object at 0x1a1874d350>], [<biceps.Restraint.Restraint_J object at 0x1a18179090>, <biceps.Restraint.Restraint_noe object at 0x1a1876b390>], [<biceps.Restraint.Restraint_J object at 0x1a18773d10>, <biceps.Restraint.Restraint_noe object at 0x1a18f21350>], [<biceps.Restraint.Restraint_J object at 0x1a18f11d50>, <biceps.Restraint.Restraint_noe object at 0x1a18f35390>], [<biceps.Restraint.Restraint_J object at 0x1a18f20d10>, <biceps.Restraint.Restraint_noe object at 0x1a18f4a350>], [<biceps.Restraint.Restraint_J object at 0x1a18f34d50>, <biceps.Restraint.Restraint_noe object at 0x1a18f5e390>], [<biceps.Restraint.Restraint_J object at 0x1a18f4bd10>, <biceps.Restraint.Restraint_noe object at 0x1a18f71350>], [<biceps.Restraint.Restraint_J object at 0x1a18f5fd50>, <biceps.Restraint.Restraint_noe object at 0x1a18f83350>], [<biceps.Restraint.Restraint_J object at 0x1a18f72d10>, <biceps.Restraint.Restraint_noe object at 0x1a18f8c390>], [<biceps.Restraint.Restraint_J object at 0x1a18f84d50>, <biceps.Restraint.Restraint_noe object at 0x1a18fa82d0>], [<biceps.Restraint.Restraint_J object at 0x1a18f96d10>, <biceps.Restraint.Restraint_noe object at 0x1a18fc02d0>], [<biceps.Restraint.Restraint_J object at 0x1a18facd10>, <biceps.Restraint.Restraint_noe object at 0x1a18fd32d0>], [<biceps.Restraint.Restraint_J object at 0x1a18fbdd50>, <biceps.Restraint.Restraint_noe object at 0x1a18fe42d0>], [<biceps.Restraint.Restraint_J object at 0x1a18fd4d10>, <biceps.Restraint.Restraint_noe object at 0x1a18ffa2d0>], [<biceps.Restraint.Restraint_J object at 0x1a18fdcd50>, <biceps.Restraint.Restraint_noe object at 0x1a1900b390>], [<biceps.Restraint.Restraint_J object at 0x1a18feed10>, <biceps.Restraint.Restraint_noe object at 0x1a1842d9d0>], [<biceps.Restraint.Restraint_J object at 0x1a18fe55d0>, <biceps.Restraint.Restraint_noe object at 0x1a18114290>], [<biceps.Restraint.Restraint_J object at 0x1a18fe5e50>, <biceps.Restraint.Restraint_noe object at 0x1a1900b350>], [<biceps.Restraint.Restraint_J object at 0x107029810>, <biceps.Restraint.Restraint_noe object at 0x1a18e6d690>], [<biceps.Restraint.Restraint_J object at 0x1a1842d750>, <biceps.Restraint.Restraint_noe object at 0x1a18e51250>], [<biceps.Restraint.Restraint_J object at 0x1a18e74bd0>, <biceps.Restraint.Restraint_noe object at 0x1a18823950>], [<biceps.Restraint.Restraint_J object at 0x1a18e22ad0>, <biceps.Restraint.Restraint_noe object at 0x1a188237d0>], [<biceps.Restraint.Restraint_J object at 0x1a18e1bfd0>, <biceps.Restraint.Restraint_noe object at 0x1a1880e090>], [<biceps.Restraint.Restraint_J object at 0x1a188234d0>, <biceps.Restraint.Restraint_noe object at 0x1a189f45d0>], [<biceps.Restraint.Restraint_J object at 0x1a1880df10>, <biceps.Restraint.Restraint_noe object at 0x1a189f4290>]]\n"
     ]
    }
   ],
   "source": [
    "lam = 0.0\n",
    "# We will instantiate a number of Structure() objects to construct the ensemble\n",
    "ensemble = []\n",
    "for i in range(energies.shape[0]):\n",
    "    ensemble.append([])\n",
    "    for k in range(len(data[0])):\n",
    "        File = data[i][k]\n",
    "        R = biceps.init_res(data_dir+'cineromycinB_pdbs/0.fixed.pdb',\n",
    "                            lam,energies[i],File,ref[k],uncern[k],gamma)\n",
    "        ensemble[-1].append(R)\n",
    "print(ensemble)"
   ]
  },
  {
   "cell_type": "markdown",
   "metadata": {},
   "source": [
    "Let's save the ensemble as a pickle"
   ]
  },
  {
   "cell_type": "code",
   "execution_count": 35,
   "metadata": {},
   "outputs": [],
   "source": [
    "import pickle\n",
    "with open(outdir+\"/ensemble_%s.pkl\"%lam,'wb') as file:\n",
    "    pickle.dump(ensemble, file)"
   ]
  },
  {
   "cell_type": "markdown",
   "metadata": {},
   "source": [
    "### Conclusion###\n",
    "In this tutorial, we explained how to use [Restraint](https://biceps.readthedocs.io/en/latest/api.html#restraint) to construct the ensemble, which we saved as a pickle file. In the next tutorial, [PosteriorSampler](https://biceps.readthedocs.io/en/latest/examples/Tutorials/Prep_Rest_Post_Ana/posteriorsampler.html) we will Sample the posterior distribution by using the `PosteriorSampler` class."
   ]
  },
  {
   "cell_type": "markdown",
   "metadata": {},
   "source": [
    "<h6 style=\"align: justify;font-size: 12pt\"># <span style=\"color:red;\">NOTE</span>: The following cell is for pretty notebook rendering</h6>"
   ]
  },
  {
   "cell_type": "code",
   "execution_count": 7,
   "metadata": {},
   "outputs": [
    {
     "data": {
      "text/html": [
       "\n",
       "<style>\n",
       "    @font-face {\n",
       "        font-family: \"Computer Modern\";\n",
       "        src: url('http://mirrors.ctan.org/fonts/cm-unicode/fonts/otf/cmunss.otf');\n",
       "    }\n",
       "    #notebook { /* centers the page content */\n",
       "    padding-left:8%;\n",
       "    padding-right:9%;\n",
       "    }\n",
       "    #ipython-main-app {\n",
       "        position: relative;\n",
       "    }\n",
       "    #jupyter-main-app {\n",
       "        position: relative;\n",
       "    }\n",
       "    div.cell{\n",
       "        width:98%;\n",
       "        margin-left:4% !important;*/\n",
       "        margin-right:4%;\n",
       "    }\n",
       "    h1 {\n",
       "        font-family: \"Charis SIL\", Palatino, serif;\n",
       "        text-align: center;\n",
       "    }\n",
       "    h4{\n",
       "        margin-top:12px;\n",
       "        margin-bottom: 3px;\n",
       "       }\n",
       "    div.text_cell_render{\n",
       "        font-family: Computer Modern, \"Helvetica Neue\", Arial, Helvetica, Geneva, sans-serif;\n",
       "        line-height: 145%;\n",
       "        font-size: 12pt;\n",
       "        width:99%;\n",
       "        margin-left:auto;\n",
       "        margin-right:auto;\n",
       "    }\n",
       "    .output_png {\n",
       "        display: block;/*table-cell;*/\n",
       "        text-align: center;\n",
       "        align: center;\n",
       "        vertical-align: middle;\n",
       "        margin-left: auto;\n",
       "        margin-right: auto;\n",
       "        width: 100%;\n",
       "    }\n",
       "    div.output_area pre {font-weight: normal; text-align: justify; }\n",
       "    .warning{\n",
       "        color: rgb( 240, 20, 20 )\n",
       "        }\n",
       "    .CodeMirror{\n",
       "            font-family: \"Source Code Pro\", source-code-pro,Consolas, monospace;\n",
       "    }\n",
       "    .prompt{\n",
       "        display: None;\n",
       "    }\n",
       "    .text_cell_render h5 {\n",
       "        font-weight: 300;\n",
       "        font-size: 16pt;\n",
       "        color: #4057A1;\n",
       "        font-style: italic;\n",
       "        margin-bottom: .5em;\n",
       "        margin-top: 0.5em;\n",
       "        display: block;\n",
       "    }\n",
       "    /* override table width restrictions as found on https://github.com/getpelican/pelican/issues/1311 */\n",
       "    .wy-table-responsive table td, .wy-table-responsive table th {\n",
       "        /* !important prevents the common CSS stylesheets from\n",
       "           overriding this as on RTD they are loaded after this stylesheet */\n",
       "        white-space: normal !important;\n",
       "    }\n",
       "\n",
       "    .wy-table-responsive {\n",
       "        overflow: visible !important;\n",
       "    }\n",
       "</style>\n",
       "\n",
       "<!-- MathJax configuration -->\n",
       "<script type=\"text/x-mathjax-config\">\n",
       "    src=\"http://cdn.mathjax.org/mathjax/latest/MathJax.js?config=TeX-AMS-MML_HTMLorMML\">\n",
       "    MathJax.Hub.Config({\n",
       "                        TeX: {\n",
       "                           extensions: [\"AMSmath.js\"]\n",
       "                           },\n",
       "                tex2jax: {\n",
       "                    inlineMath: [ ['$','$'], [\"\\\\(\",\"\\\\)\"] ],\n",
       "                    displayMath: [ ['$$','$$'], [\"\\\\[\",\"\\\\]\"] ]\n",
       "                },\n",
       "                displayAlign: 'center', // Change this to 'center' to center equations.\n",
       "                \"HTML-CSS\": {\n",
       "                    styles: {'.MathJax_Display': {\"margin\": 4}},\n",
       "                    linebreaks: { automatic: true }}\n",
       "        });\n",
       "</script>\n"
      ],
      "text/plain": [
       "<IPython.core.display.HTML object>"
      ]
     },
     "execution_count": 7,
     "metadata": {},
     "output_type": "execute_result"
    }
   ],
   "source": [
    "from IPython.core.display import HTML\n",
    "def css_styling():\n",
    "    styles = open(\"../../../theme.css\", \"r\").read()\n",
    "    return HTML(styles)\n",
    "css_styling()"
   ]
  }
 ],
 "metadata": {
  "kernelspec": {
   "display_name": "Python 3",
   "language": "python",
   "name": "python3"
  },
  "language_info": {
   "codemirror_mode": {
    "name": "ipython",
    "version": 3
   },
   "file_extension": ".py",
   "mimetype": "text/x-python",
   "name": "python",
   "nbconvert_exporter": "python",
   "pygments_lexer": "ipython3",
   "version": "3.7.4"
  }
 },
 "nbformat": 4,
 "nbformat_minor": 2
}
