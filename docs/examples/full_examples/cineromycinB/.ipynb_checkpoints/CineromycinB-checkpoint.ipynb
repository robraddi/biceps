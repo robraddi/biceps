{
 "cells": [
  {
   "cell_type": "markdown",
   "metadata": {},
   "source": [
    "<h1 style=\"align: center;font-size: 18pt;\">Cineromycin B</h1>\n",
    "<hr style=\"height:2.5px\">\n",
    "<h2 style=\"align: center;font-size: 12pt;\"> Summary:  In this example, we are going to show how to set up a \"master\" script to set up BICePs samplings. You are welcome to take this as a template for you and make necessary modification to get it work for you. All input files used in this tutorial are prepared from <a href=\"https://biceps.readthedocs.io/en/latest/tutorials/Preparation/Preparation.html\">this tutorial</a>.\n",
    "\n",
    "<hr style=\"height:2.5px\">\n",
    "\n",
    "\n",
    "\n",
    "<hr style=\"height:2.5px\">\n",
    "<h2 style=\"align: center;font-size: 12pt;\"> Summary: In our previous work (DOI: <a href=\"https://onlinelibrary-wiley-com.libproxy.temple.edu/doi/pdf/10.1002/jcc.23738\">10.1002/jcc.23738</a>), we determine solution-state conformational populations of the 14-membered macrocycle cineromycin B, using a combination of previously published sparse Nuclear Magnetic Resonance (NMR) observables and replica exchange molecular dynamic/Quantum mehcanics (QM)-refined conformational ensembles. Cineromycin B is a 14-membered macrolide antibiotic that has become increasingly known for having activity against methicillin-resistant Staphylococcus Aureus (MRSA). In this example, we show how to calculate the consistency of computational modeling with experiment, and the relative importance of reference potentials and other model parameters. </h2>\n",
    "<hr style=\"height:2.5px\">"
   ]
  },
  {
   "cell_type": "markdown",
   "metadata": {},
   "source": [
    "First, we need to import source code for BICePs classes. More information of these classes can be found [here](https://biceps.readthedocs.io/en/latest/workflow.html)."
   ]
  },
  {
   "cell_type": "code",
   "execution_count": 1,
   "metadata": {},
   "outputs": [
    {
     "name": "stdout",
     "output_type": "stream",
     "text": [
      "BICePs - Bayesian Inference of Conformational Populations, Version 2.0\n"
     ]
    }
   ],
   "source": [
    "# import source code\n",
    "import sys, os, glob, pickle\n",
    "import numpy as np\n",
    "import biceps"
   ]
  },
  {
   "cell_type": "code",
   "execution_count": 2,
   "metadata": {},
   "outputs": [
    {
     "name": "stdout",
     "output_type": "stream",
     "text": [
      "Possible data restraints: ['Restraint_cs', 'Restraint_J', 'Restraint_noe', 'Restraint_pf']\n",
      "Possible input data extensions: ['H', 'Ca', 'N', 'J', 'noe', 'pf']\n"
     ]
    }
   ],
   "source": [
    "# What possible experimental data does biceps accept?\n",
    "print(f\"Possible data restraints: {biceps.toolbox.list_possible_restraints()}\")\n",
    "print(f\"Possible input data extensions: {biceps.toolbox.list_possible_extensions()}\")"
   ]
  },
  {
   "cell_type": "markdown",
   "metadata": {},
   "source": [
    "Now we need to specify input files and output files folder."
   ]
  },
  {
   "cell_type": "code",
   "execution_count": 3,
   "metadata": {},
   "outputs": [],
   "source": [
    "####### Data and Output Directories #######\n",
    "energies = np.loadtxt('cineromycin_B/cineromycinB_QMenergies.dat')*627.509  # convert from hartrees to kcal/mol\n",
    "energies = energies/0.5959   # convert to reduced free energies F = f/kT\n",
    "energies -= energies.min()  # set ground state to zero, just in case\n",
    "states = len(energies)\n",
    "top = 'cineromycin_B/cineromycinB_pdbs/0.fixed.pdb'\n",
    "\n",
    "# REQUIRED: specify directory of input data (BICePs readable format)\n",
    "data = biceps.toolbox.sort_data('cineromycin_B/J_NOE')\n",
    "\n",
    "# REQUIRED: specify outcome directory of BICePs sampling\n",
    "outdir = 'results'\n",
    "# Make a new directory if we have to\n",
    "biceps.toolbox.mkdir(outdir)\n"
   ]
  },
  {
   "cell_type": "markdown",
   "metadata": {},
   "source": [
    "Next, we need to specify number of steps for BICePs sampling. We recommend to run at least 1M steps for converged Monte Carlo samplings. In BICePs, we also prepare functions of checking convergence of Monte Carlo. More information can be found [here]."
   ]
  },
  {
   "cell_type": "code",
   "execution_count": 4,
   "metadata": {},
   "outputs": [],
   "source": [
    "# REQUIRED: number of MCMC steps for each lambda\n",
    "nsteps = 1000000"
   ]
  },
  {
   "cell_type": "markdown",
   "metadata": {},
   "source": [
    "We need to specify what lambda values we want to use in BICePs samplings. Briefly, lambda values are similar to the parameters used in free energy perturbation (FEP) and has effect on the BICePs score. The lambda values represent how much prior information from computational modeling is included in BICePs sampling (1.0 means all, 0.0 means none). As we explained in [this work](https://pubs.acs.org/doi/10.1021/acs.jpcb.7b11871), one can consider BICePs score as the relative free energy change between different models. More lambda values will increase the samplings for [multistate Bennett acceptance ratio (MBAR)](http://www.alchemistry.org/wiki/Multistate_Bennett_Acceptance_Ratio) predictions in free energy change and populations. However more lambda values also will slow down the whole process of BICePs (as more samplings need to run), so balancing the accuracy and efficiency is important. To successfully finish a BICePs sampling, lambda values of 0.0 and 1.0 are necessary. Based on our experience, the lambda values of 0.0,0.5,1.0 are good enough for BICePs sampling."
   ]
  },
  {
   "cell_type": "code",
   "execution_count": 5,
   "metadata": {},
   "outputs": [
    {
     "name": "stdout",
     "output_type": "stream",
     "text": [
      "[0.  0.5 1. ]\n"
     ]
    }
   ],
   "source": [
    "# REQUIRED: specify how many lambdas to sample (more lambdas will provide higher \n",
    "# accuracy but slower the whole process, lambda=0.0 and 1.0 are necessary)\n",
    "n_lambdas = 3\n",
    "lambda_values = np.linspace(0.0, 1.0, n_lambdas)\n",
    "print(lambda_values)"
   ]
  },
  {
   "cell_type": "markdown",
   "metadata": {},
   "source": [
    "Print what experimental observables are included in BICePs sampling. This is optional and provides a chance for double check before running BICePs sampling.\n",
    "\n",
    "In this tutorial, we used both J couplings and NOE (pairwise distances) in BICePs sampling. "
   ]
  },
  {
   "cell_type": "code",
   "execution_count": 6,
   "metadata": {},
   "outputs": [
    {
     "name": "stdout",
     "output_type": "stream",
     "text": [
      "Input data: ['J', 'noe']\n"
     ]
    }
   ],
   "source": [
    "# OPTIONAL but RECOMMENDED: print experimental restraints included (a chance for double check)\n",
    "extensions = biceps.toolbox.list_extensions(data)\n",
    "print(f\"Input data: {biceps.toolbox.list_extensions(data)}\")"
   ]
  },
  {
   "cell_type": "markdown",
   "metadata": {},
   "source": [
    "Another key parameter for BICePs set-up is the type of reference potential for each experimental observables. More information of reference potential can be found [here](https://biceps.readthedocs.io/en/latest/theory.html).\n",
    "\n",
    "Three reference potentials are supported in BICePs: uniform ('uniform'), exponential ('exp'), Gaussian ('gau').  \n",
    "\n",
    "As we found in previous research, exponential reference potential is useful in most cases. Some higher level task may require more in reference potential selection (e.g [force field parametrization](https://pubs.acs.org/doi/10.1021/acs.jpcb.7b11871)).\n",
    "\n",
    "(Note: It will be helpful to print out what is the order of experimental observables included in BICePs sampling as shown above.)"
   ]
  },
  {
   "cell_type": "code",
   "execution_count": 7,
   "metadata": {},
   "outputs": [],
   "source": [
    "# REQUIRED: specify reference potential to use for each experimental observable\n",
    "# will be in the same order as the printed observables from (print res)\n",
    "ref=['uniform','exp']"
   ]
  },
  {
   "cell_type": "markdown",
   "metadata": {},
   "source": [
    "If you want, you can specify nuisance parameters (uncertainty in experiments) range but it's not required. Our default parameters range is broad enough.\n",
    "\"gamma\" is a scaling factor converting distances to NOE intensity in experiments. It is only used when NOE restraint is ued in BICePs sampling."
   ]
  },
  {
   "cell_type": "code",
   "execution_count": 8,
   "metadata": {},
   "outputs": [],
   "source": [
    "# OPTIONAL: specify nuisance parameters for each experimnetal observable\n",
    "# will be in the same order as the printed observables from (print res)\n",
    "# only specify if you want to narrow down the default range  \n",
    "uncern=[[0.05,20.0,1.02],[0.05,5.0,1.02]]\n",
    "gamma = [0.2,5.0,1.01]  "
   ]
  },
  {
   "cell_type": "markdown",
   "metadata": {},
   "source": [
    "Now we need to set up BICePs samplings and feed arguments using variables we defined above. In most cases, you don't need to modify this part as long as you defined all these parameters shown above. "
   ]
  },
  {
   "cell_type": "code",
   "execution_count": 9,
   "metadata": {},
   "outputs": [
    {
     "name": "stdout",
     "output_type": "stream",
     "text": [
      "lambda: 0.0\n",
      "\n",
      "Accepted 71.5099 % \n",
      "\n",
      "\n",
      "Accepted [32.7771 29.935  29.935   8.7978] % \n",
      "\n",
      "...Done.\n",
      "lambda: 0.5\n",
      "\n",
      "Accepted 65.9404 % \n",
      "\n",
      "\n",
      "Accepted [32.7559 29.9261 29.9261  3.2584] % \n",
      "\n",
      "...Done.\n",
      "lambda: 1.0\n",
      "\n",
      "Accepted 64.241 % \n",
      "\n",
      "\n",
      "Accepted [32.6711 29.9631 29.9631  1.6068] % \n",
      "\n",
      "...Done.\n"
     ]
    }
   ],
   "source": [
    "####### MCMC Simulations #######\n",
    "for lam in lambda_values:\n",
    "    print(f\"lambda: {lam}\")\n",
    "    ensemble = biceps.Ensemble(lam, energies, top, verbose=False)\n",
    "    ensemble.initialize_restraints(exp_data=data, ref_pot=ref,\n",
    "            uncern=uncern, gamma=[0.2, 5.0, 1.02], extensions=extensions)\n",
    "    sampler = biceps.PosteriorSampler(ensemble.to_list())\n",
    "    sampler.sample(nsteps=nsteps)\n",
    "    sampler.traj.process_results(outdir+'/traj_lambda%2.2f.npz'%(lam))\n",
    "    outfilename = 'sampler_lambda%2.2f.pkl'%(lam)\n",
    "    fout = open(os.path.join(outdir, outfilename), 'wb')\n",
    "    pickle.dump(sampler, fout)\n",
    "    fout.close()\n",
    "    print('...Done.')"
   ]
  },
  {
   "cell_type": "markdown",
   "metadata": {},
   "source": [
    "#### Note that all output trajectories and images will be placed in the previously defined `outdir` as 'results_ref_normal'...\n",
    "#### Also note that the user can quickly check to see if our MCMC trajectories have converged using our `biceps.convergence` module. See [this tutorial]() for an example and more details."
   ]
  },
  {
   "cell_type": "markdown",
   "metadata": {},
   "source": [
    "Then, we need to run functions in [Analysis](https://biceps.readthedocs.io/en/latest/api.html#analysis) to get predicted populations of each conformational states and BICePs score. A figure of posterior distribution of populations and nuisance parameters will be plotted as well. "
   ]
  },
  {
   "cell_type": "markdown",
   "metadata": {},
   "source": [
    "The output files include: population information (\"populations.dat\"), figure of sampled parameters distribution (\"BICePs.pdf\"), BICePs score information (\"BS.dat\")."
   ]
  },
  {
   "cell_type": "code",
   "execution_count": 12,
   "metadata": {},
   "outputs": [
    {
     "name": "stdout",
     "output_type": "stream",
     "text": [
      "Loading results/traj_lambda0.00.npz ...\n",
      "Loading results/traj_lambda0.50.npz ...\n",
      "Loading results/traj_lambda1.00.npz ...\n",
      "not all state sampled, these states [ 5 16 26 40 48 76 95 98] are not sampled\n",
      "not all state sampled, these states [ 1  4  5  9 11 13 15 16 22 23 24 25 26 27 34 40 41 42 48 51 52 54 55 57\n",
      " 60 61 64 73 76 77 81 82 95 98 99] are not sampled\n",
      "Loading results/sampler_lambda0.00.pkl ...\n",
      "Loading results/sampler_lambda0.50.pkl ...\n",
      "Loading results/sampler_lambda1.00.pkl ...\n",
      "lam = [0.0, 0.5, 1.0]\n",
      "nstates 100\n",
      "Writing results/BS.dat...\n",
      "...Done.\n",
      "Writing results/populations.dat...\n",
      "...Done.\n"
     ]
    },
    {
     "data": {
      "image/png": "[encoded data removed]",
      "text/plain": [
       "<Figure size 432x288 with 1 Axes>"
      ]
     },
     "metadata": {
      "needs_background": "light"
     },
     "output_type": "display_data"
    },
    {
     "data": {
      "image/png": "[encoded data removed]",
      "text/plain": [
       "<Figure size 576x720 with 4 Axes>"
      ]
     },
     "metadata": {
      "needs_background": "light"
     },
     "output_type": "display_data"
    }
   ],
   "source": [
    "############ MBAR and Figures ###########\n",
    "%matplotlib inline\n",
    "# Let's do analysis using MBAR algorithm and plot figures\n",
    "A = biceps.Analysis(states=100, resultdir=outdir,\n",
    "    BSdir='BS.dat', popdir='populations.dat',\n",
    "    picfile='BICePs.pdf')\n",
    "A.plot()"
   ]
  },
  {
   "cell_type": "markdown",
   "metadata": {},
   "source": [
    "Now, let's take a look at the output figure above (\"BICePs.pdf\").\n",
    "\n",
    "\n",
    "The top left panel shows the population of each states in the presence (y-axis) and absense (x-axis) of computational modeling prior information. You can find some states (e.g state 38, 59) get awarded after including computational prior information. If you check [this work](https://onlinelibrary.wiley.com/doi/full/10.1002/jcc.23738) you will see how misleading the results will be if we only use experimental restraints without computational prior information. \n",
    "The other three panels show the distribution of nuisance parameters in the presence or absence of computational modeling information. It may not be clear in this example due to the limit of finite sampling, but based on our experience, including prior information from our simulations will lower the nuisance parameters than only using experimental restraints."
   ]
  },
  {
   "cell_type": "markdown",
   "metadata": {},
   "source": [
    "Next, let's take a look at the populations file."
   ]
  },
  {
   "cell_type": "markdown",
   "metadata": {},
   "source": [
    "There are 100 rows corresponding to 100 clustered states. 6 columns corresponding to populations of each state (row) for 3 lambda values (first 3 columns) and population change (last 3 columns). "
   ]
  },
  {
   "cell_type": "code",
   "execution_count": 11,
   "metadata": {},
   "outputs": [
    {
     "name": "stdout",
     "output_type": "stream",
     "text": [
      "           0             1             2         3             4             5\n",
      "0   0.017113  1.665272e-03  2.129239e-05  0.001236  1.217387e-04  1.560586e-06\n",
      "1   0.004702  5.885506e-04  9.680491e-06  0.000644  8.088777e-05  1.331570e-06\n",
      "2   0.007462  6.576425e-03  7.615808e-04  0.000612  5.387333e-04  6.279890e-05\n",
      "3   0.000786  2.070550e-04  7.169089e-06  0.000248  6.547701e-05  2.267649e-06\n",
      "4   0.000191  8.974498e-06  5.541739e-08  0.000135  6.346143e-06  3.918910e-08\n",
      "..       ...           ...           ...       ...           ...           ...\n",
      "95  0.004499  5.356727e-07  8.379075e-12  0.000669  7.992986e-08  3.492460e-10\n",
      "96  0.002944  6.382196e-04  1.818247e-05  0.000490  1.063840e-04  3.033244e-06\n",
      "97  0.003548  4.449201e-04  7.331661e-06  0.000560  7.037698e-05  1.160456e-06\n",
      "98  0.003699  1.021549e-06  3.707079e-11  0.000607  1.680739e-07  0.000000e+00\n",
      "99  0.001447  5.319523e-05  2.570418e-07  0.000373  1.373863e-05  6.639573e-08\n",
      "\n",
      "[100 rows x 6 columns]\n"
     ]
    }
   ],
   "source": [
    "import pandas as pd\n",
    "pops = np.loadtxt(outdir+'/populations.dat')\n",
    "df = pd.DataFrame(pops)\n",
    "print(df)"
   ]
  },
  {
   "cell_type": "code",
   "execution_count": 1,
   "metadata": {},
   "outputs": [
    {
     "data": {
      "text/html": [
       "\n",
       "<style>\n",
       "    @font-face {\n",
       "        font-family: \"Computer Modern\";\n",
       "        src: url('http://mirrors.ctan.org/fonts/cm-unicode/fonts/otf/cmunss.otf');\n",
       "    }\n",
       "    #notebook { /* centers the page content */\n",
       "    padding-left:8%;\n",
       "    padding-right:9%;\n",
       "    }\n",
       "    #ipython-main-app {\n",
       "        position: relative;\n",
       "    }\n",
       "    #jupyter-main-app {\n",
       "        position: relative;\n",
       "    }\n",
       "    div.cell{\n",
       "        width:98%;\n",
       "        margin-left:4% !important;*/\n",
       "        margin-right:4%;\n",
       "    }\n",
       "    h1 {\n",
       "        font-family: \"Charis SIL\", Palatino, serif;\n",
       "        text-align: center;\n",
       "    }\n",
       "    h4{\n",
       "        margin-top:12px;\n",
       "        margin-bottom: 3px;\n",
       "       }\n",
       "    div.text_cell_render{\n",
       "        font-family: Computer Modern, \"Helvetica Neue\", Arial, Helvetica, Geneva, sans-serif;\n",
       "        line-height: 145%;\n",
       "        font-size: 12pt;\n",
       "        width:99%;\n",
       "        margin-left:auto;\n",
       "        margin-right:auto;\n",
       "    }\n",
       "    .output_png {\n",
       "        display: block;/*table-cell;*/\n",
       "        text-align: center;\n",
       "        align: center;\n",
       "        vertical-align: middle;\n",
       "        margin-left: auto;\n",
       "        margin-right: auto;\n",
       "        width: 100%;\n",
       "    }\n",
       "    div.output_area pre {font-weight: normal; text-align: justify; }\n",
       "    .warning{\n",
       "        color: rgb( 240, 20, 20 )\n",
       "        }\n",
       "    .CodeMirror{\n",
       "            font-family: \"Source Code Pro\", source-code-pro,Consolas, monospace;\n",
       "    }\n",
       "    .prompt{\n",
       "        display: None;\n",
       "    }\n",
       "    .text_cell_render h5 {\n",
       "        font-weight: 300;\n",
       "        font-size: 16pt;\n",
       "        color: #4057A1;\n",
       "        font-style: italic;\n",
       "        margin-bottom: .5em;\n",
       "        margin-top: 0.5em;\n",
       "        display: block;\n",
       "    }\n",
       "    /* override table width restrictions as found on https://github.com/getpelican/pelican/issues/1311 */\n",
       "    .wy-table-responsive table td, .wy-table-responsive table th {\n",
       "        /* !important prevents the common CSS stylesheets from\n",
       "           overriding this as on RTD they are loaded after this stylesheet */\n",
       "        white-space: normal !important;\n",
       "    }\n",
       "\n",
       "    .wy-table-responsive {\n",
       "        overflow: visible !important;\n",
       "    }\n",
       "</style>\n",
       "\n",
       "<!-- MathJax configuration -->\n",
       "<script type=\"text/x-mathjax-config\">\n",
       "    src=\"http://cdn.mathjax.org/mathjax/latest/MathJax.js?config=TeX-AMS-MML_HTMLorMML\">\n",
       "    MathJax.Hub.Config({\n",
       "                        TeX: {\n",
       "                           extensions: [\"AMSmath.js\"]\n",
       "                           },\n",
       "                tex2jax: {\n",
       "                    inlineMath: [ ['$','$'], [\"\\\\(\",\"\\\\)\"] ],\n",
       "                    displayMath: [ ['$$','$$'], [\"\\\\[\",\"\\\\]\"] ]\n",
       "                },\n",
       "                displayAlign: 'center', // Change this to 'center' to center equations.\n",
       "                \"HTML-CSS\": {\n",
       "                    styles: {'.MathJax_Display': {\"margin\": 4}},\n",
       "                    linebreaks: { automatic: true }}\n",
       "        });\n",
       "</script>\n"
      ],
      "text/plain": [
       "<IPython.core.display.HTML object>"
      ]
     },
     "execution_count": 1,
     "metadata": {},
     "output_type": "execute_result"
    }
   ],
   "source": [
    "from IPython.core.display import HTML\n",
    "def css_styling():\n",
    "    styles = open(\"../../theme.css\", \"r\").read()\n",
    "    return HTML(styles)\n",
    "css_styling()"
   ]
  }
 ],
 "metadata": {
  "kernelspec": {
   "display_name": "Python 3",
   "language": "python",
   "name": "python3"
  },
  "language_info": {
   "codemirror_mode": {
    "name": "ipython",
    "version": 3
   },
   "file_extension": ".py",
   "mimetype": "text/x-python",
   "name": "python",
   "nbconvert_exporter": "python",
   "pygments_lexer": "ipython3",
   "version": "3.7.3"
  }
 },
 "nbformat": 4,
 "nbformat_minor": 1
}
