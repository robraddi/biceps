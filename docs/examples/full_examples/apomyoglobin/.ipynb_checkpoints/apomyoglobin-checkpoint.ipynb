{
 "cells": [
  {
   "cell_type": "markdown",
   "metadata": {},
   "source": [
    "<h1 style=\"align: center;font-size: 18pt;\">Apomyoglobin</h1>\n",
    "\n",
    "<!--<img title=\"https://pubchem.ncbi.nlm.nih.gov\" src=\"https://pubchem.ncbi.nlm.nih.gov/image/imgsrv.fcgi?cid=6444600&t=l\" align=\"center\" height=\"300\" width=\"300\">-->\n",
    "\n",
    "<hr style=\"height:2.5px\">\n",
    "\n",
    "<h2 style=\"align: center;font-size: 12pt;\"> Summary:</h2> In our previous work (DOI: <a href=\"https://onlinelibrary-wiley-com.libproxy.temple.edu/doi/pdf/10.1002/jcc.23738\">10.1002/jcc.23738</a>)</h2>\n",
    "\n",
    "\n",
    "\n",
    "\n",
    "\n",
    "<hr style=\"height:2.5px\">"
   ]
  },
  {
   "cell_type": "code",
   "execution_count": 1,
   "metadata": {},
   "outputs": [
    {
     "name": "stdout",
     "output_type": "stream",
     "text": [
      "BICePs - Bayesian Inference of Conformational Populations, Version 2.0\n"
     ]
    }
   ],
   "source": [
    "import numpy as np\n",
    "import pandas as pd\n",
    "import biceps"
   ]
  },
  {
   "cell_type": "markdown",
   "metadata": {},
   "source": []
  },
  {
   "cell_type": "code",
   "execution_count": 2,
   "metadata": {},
   "outputs": [
    {
     "name": "stdout",
     "output_type": "stream",
     "text": [
      "Possible input data extensions: ['H', 'Ca', 'N', 'J', 'noe', 'pf']\n",
      "Input data: ['H', 'Ca', 'N', 'pf']\n"
     ]
    }
   ],
   "source": [
    "####### Data and Output Directories #######\n",
    "print(f\"Possible input data extensions: {biceps.toolbox.list_possible_extensions()}\")\n",
    "T=[0,1,4,9,10,12,14,16,18,19,20,21,24]\n",
    "states=len(T)\n",
    "datadir=\"apomyoglobin/\"\n",
    "top=datadir+'pdb/T1/state0.pdb'\n",
    "dataFiles = datadir+'new_CS_PF'\n",
    "input_data = biceps.toolbox.sort_data(dataFiles)\n",
    "print(f\"Input data: {biceps.toolbox.list_extensions(input_data)}\")\n",
    "energies_filename = datadir+'energy_model_1.txt'\n",
    "energies = np.loadtxt(energies_filename)\n",
    "energies -= energies.min() # set ground state to zero, just in case\n",
    "outdir = \"_results\"\n",
    "biceps.toolbox.mkdir(outdir)"
   ]
  },
  {
   "cell_type": "code",
   "execution_count": 3,
   "metadata": {},
   "outputs": [
    {
     "name": "stdout",
     "output_type": "stream",
     "text": [
      "nSteps of sampling: 1000000\n"
     ]
    },
    {
     "data": {
      "text/html": [
       "<div>\n",
       "<style scoped>\n",
       "    .dataframe tbody tr th:only-of-type {\n",
       "        vertical-align: middle;\n",
       "    }\n",
       "\n",
       "    .dataframe tbody tr th {\n",
       "        vertical-align: top;\n",
       "    }\n",
       "\n",
       "    .dataframe thead th {\n",
       "        text-align: right;\n",
       "    }\n",
       "</style>\n",
       "<table border=\"1\" class=\"dataframe\">\n",
       "  <thead>\n",
       "    <tr style=\"text-align: right;\">\n",
       "      <th></th>\n",
       "      <th>ref</th>\n",
       "      <th>weight</th>\n",
       "      <th>pf_prior</th>\n",
       "      <th>Ncs_fi</th>\n",
       "      <th>Nhs_fi</th>\n",
       "      <th>states</th>\n",
       "    </tr>\n",
       "  </thead>\n",
       "  <tbody>\n",
       "    <tr>\n",
       "      <th>0</th>\n",
       "      <td>exp</td>\n",
       "      <td>0.333333</td>\n",
       "      <td>NaN</td>\n",
       "      <td>NaN</td>\n",
       "      <td>NaN</td>\n",
       "      <td>NaN</td>\n",
       "    </tr>\n",
       "    <tr>\n",
       "      <th>1</th>\n",
       "      <td>exp</td>\n",
       "      <td>0.333333</td>\n",
       "      <td>NaN</td>\n",
       "      <td>NaN</td>\n",
       "      <td>NaN</td>\n",
       "      <td>NaN</td>\n",
       "    </tr>\n",
       "    <tr>\n",
       "      <th>2</th>\n",
       "      <td>exp</td>\n",
       "      <td>0.333333</td>\n",
       "      <td>NaN</td>\n",
       "      <td>NaN</td>\n",
       "      <td>NaN</td>\n",
       "      <td>NaN</td>\n",
       "    </tr>\n",
       "    <tr>\n",
       "      <th>3</th>\n",
       "      <td>exp</td>\n",
       "      <td>1.000000</td>\n",
       "      <td>apomyoglobin/b15.npy</td>\n",
       "      <td>apomyoglobin/input/Nc</td>\n",
       "      <td>apomyoglobin/input/Nh</td>\n",
       "      <td>[0, 1, 4, 9, 10, 12, 14, 16, 18, 19, 20, 21, 24]</td>\n",
       "    </tr>\n",
       "  </tbody>\n",
       "</table>\n",
       "</div>"
      ],
      "text/plain": [
       "   ref    weight              pf_prior                 Ncs_fi  \\\n",
       "0  exp  0.333333                   NaN                    NaN   \n",
       "1  exp  0.333333                   NaN                    NaN   \n",
       "2  exp  0.333333                   NaN                    NaN   \n",
       "3  exp  1.000000  apomyoglobin/b15.npy  apomyoglobin/input/Nc   \n",
       "\n",
       "                  Nhs_fi                                            states  \n",
       "0                    NaN                                               NaN  \n",
       "1                    NaN                                               NaN  \n",
       "2                    NaN                                               NaN  \n",
       "3  apomyoglobin/input/Nh  [0, 1, 4, 9, 10, 12, 14, 16, 18, 19, 20, 21, 24]  "
      ]
     },
     "execution_count": 3,
     "metadata": {},
     "output_type": "execute_result"
    }
   ],
   "source": [
    "####### Parameters #######\n",
    "nsteps = 1000000\n",
    "print(f\"nSteps of sampling: {nsteps}\")\n",
    "maxtau = 1000\n",
    "n_lambdas = 2\n",
    "lambda_values = np.linspace(0.0, 1.0, n_lambdas)\n",
    "parameters = [\n",
    "        {\"ref\": 'exp', \"weight\": 1/3},\n",
    "        {\"ref\": 'exp', \"weight\": 1/3},\n",
    "        {\"ref\": 'exp', \"weight\": 1/3},\n",
    "        {\"ref\": 'exp', \"weight\": 1, \"pf_prior\": datadir+'b15.npy',\n",
    "            \"Ncs_fi\": datadir+'input/Nc', \"Nhs_fi\": datadir+'input/Nh', \"states\": T}\n",
    "        ]\n",
    "pd.DataFrame(parameters)"
   ]
  },
  {
   "cell_type": "code",
   "execution_count": null,
   "metadata": {},
   "outputs": [],
   "source": [
    "####### MCMC Simulations #######\n",
    "for lam in lambda_values:\n",
    "    print(f\"lambda: {lam}\")\n",
    "    ensemble = biceps.Ensemble(lam, energies)\n",
    "    ensemble.initialize_restraints(input_data, parameters)\n",
    "    sampler = biceps.PosteriorSampler(ensemble.to_list())\n",
    "    sampler.sample(nsteps, verbose=False)\n",
    "    sampler.traj.process_results(outdir+'/traj_lambda%2.2f.npz'%(Lambda))\n",
    "    filename = outdir+'/sampler_lambda%2.2f.pkl'%(lam)\n",
    "    biceps.toolbox.save_object(sampler, filename)\n",
    "    print('...Done.')"
   ]
  },
  {
   "cell_type": "code",
   "execution_count": null,
   "metadata": {},
   "outputs": [],
   "source": [
    "A = biceps.Analysis(states=states, resultdir=outdir,\n",
    "  BSdir='BS.dat', popdir='populations.dat',\n",
    "  picfile='BICePs.pdf')\n",
    "A.plot()"
   ]
  },
  {
   "cell_type": "code",
   "execution_count": null,
   "metadata": {},
   "outputs": [],
   "source": []
  },
  {
   "cell_type": "code",
   "execution_count": null,
   "metadata": {},
   "outputs": [],
   "source": []
  },
  {
   "cell_type": "code",
   "execution_count": null,
   "metadata": {},
   "outputs": [],
   "source": []
  },
  {
   "cell_type": "code",
   "execution_count": null,
   "metadata": {},
   "outputs": [],
   "source": []
  },
  {
   "cell_type": "code",
   "execution_count": null,
   "metadata": {},
   "outputs": [],
   "source": []
  },
  {
   "cell_type": "code",
   "execution_count": null,
   "metadata": {},
   "outputs": [],
   "source": []
  },
  {
   "cell_type": "code",
   "execution_count": null,
   "metadata": {},
   "outputs": [],
   "source": []
  },
  {
   "cell_type": "code",
   "execution_count": null,
   "metadata": {},
   "outputs": [],
   "source": []
  },
  {
   "cell_type": "markdown",
   "metadata": {},
   "source": [
    "<h6 style=\"align: justify;font-size: 12pt\"># <span style=\"color:red;\">NOTE</span>: The following cell is for pretty notebook rendering</h6>"
   ]
  },
  {
   "cell_type": "code",
   "execution_count": null,
   "metadata": {},
   "outputs": [],
   "source": [
    "from IPython.core.display import HTML\n",
    "def css_styling():\n",
    "    styles = open(\"../../theme.css\", \"r\").read()\n",
    "    return HTML(styles)\n",
    "css_styling()"
   ]
  }
 ],
 "metadata": {
  "kernelspec": {
   "display_name": "Python 3",
   "language": "python",
   "name": "python3"
  },
  "language_info": {
   "codemirror_mode": {
    "name": "ipython",
    "version": 3
   },
   "file_extension": ".py",
   "mimetype": "text/x-python",
   "name": "python",
   "nbconvert_exporter": "python",
   "pygments_lexer": "ipython3",
   "version": "3.7.3"
  }
 },
 "nbformat": 4,
 "nbformat_minor": 2
}
