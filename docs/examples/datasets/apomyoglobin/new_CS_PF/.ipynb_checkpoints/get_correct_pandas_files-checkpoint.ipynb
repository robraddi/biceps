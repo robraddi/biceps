{
 "cells": [
  {
   "cell_type": "code",
   "execution_count": 2,
   "metadata": {},
   "outputs": [],
   "source": [
    "import pandas as pd\n",
    "import numpy as np\n",
    "import glob"
   ]
  },
  {
   "cell_type": "code",
   "execution_count": 6,
   "metadata": {},
   "outputs": [
    {
     "name": "stdout",
     "output_type": "stream",
     "text": [
      "0.cs_Ca.txt\n",
      "1.cs_Ca.txt\n",
      "2.cs_Ca.txt\n",
      "3.cs_Ca.txt\n",
      "4.cs_Ca.txt\n",
      "5.cs_Ca.txt\n",
      "6.cs_Ca.txt\n",
      "7.cs_Ca.txt\n",
      "8.cs_Ca.txt\n",
      "9.cs_Ca.txt\n",
      "10.cs_Ca.txt\n",
      "11.cs_Ca.txt\n",
      "12.cs_Ca.txt\n",
      "0.cs_H.txt\n",
      "1.cs_H.txt\n",
      "2.cs_H.txt\n",
      "3.cs_H.txt\n",
      "4.cs_H.txt\n",
      "5.cs_H.txt\n",
      "6.cs_H.txt\n",
      "7.cs_H.txt\n",
      "8.cs_H.txt\n",
      "9.cs_H.txt\n",
      "10.cs_H.txt\n",
      "11.cs_H.txt\n",
      "12.cs_H.txt\n",
      "0.cs_N.txt\n",
      "1.cs_N.txt\n",
      "2.cs_N.txt\n",
      "3.cs_N.txt\n",
      "4.cs_N.txt\n",
      "5.cs_N.txt\n",
      "6.cs_N.txt\n",
      "7.cs_N.txt\n",
      "8.cs_N.txt\n",
      "9.cs_N.txt\n",
      "10.cs_N.txt\n",
      "11.cs_N.txt\n",
      "12.cs_N.txt\n"
     ]
    }
   ],
   "source": [
    "pand = sorted(glob.glob(\"../CS_PF/*\"))\n",
    "x = []\n",
    "ext = [\"Ca\", \"H\", \"N\"]\n",
    "for i in range(len(ext)):\n",
    "    for j in range(0, 13):\n",
    "        fn = \"%s.cs_%s.txt\"%(j,ext[i])\n",
    "        pand_fn = \"../CS_PF/%s.cs_%s\"%(j,ext[i])\n",
    "        print(fn)\n",
    "        file = np.loadtxt(fn)\n",
    "        #print(file)\n",
    "        df = pd.read_pickle(pand_fn)\n",
    "        df.model = file\n",
    "        df.to_pickle(pand_fn.split(\"/\")[-1])\n",
    "\n",
    "        "
   ]
  },
  {
   "cell_type": "code",
   "execution_count": null,
   "metadata": {},
   "outputs": [],
   "source": []
  }
 ],
 "metadata": {
  "kernelspec": {
   "display_name": "Python 3",
   "language": "python",
   "name": "python3"
  },
  "language_info": {
   "codemirror_mode": {
    "name": "ipython",
    "version": 3
   },
   "file_extension": ".py",
   "mimetype": "text/x-python",
   "name": "python",
   "nbconvert_exporter": "python",
   "pygments_lexer": "ipython3",
   "version": "3.7.3"
  }
 },
 "nbformat": 4,
 "nbformat_minor": 2
}
