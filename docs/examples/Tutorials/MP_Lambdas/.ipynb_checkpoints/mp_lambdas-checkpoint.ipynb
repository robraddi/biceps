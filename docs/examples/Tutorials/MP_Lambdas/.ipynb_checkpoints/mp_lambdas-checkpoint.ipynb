{
 "cells": [
  {
   "cell_type": "markdown",
   "metadata": {},
   "source": [
    "<h1 style=\"align: center;font-size: 18pt;\">Multiprocess Lambdas</h1>\n",
    "<hr style=\"height:2.5px\">\n",
    "\n",
    "This tutorial shows the user how to using the standard Python library `multiprocessing` to multiprocess lambda values in `BICePs`. \n",
    "\n",
    "<hr style=\"height:2.5px\">"
   ]
  },
  {
   "cell_type": "code",
   "execution_count": 1,
   "metadata": {},
   "outputs": [
    {
     "name": "stdout",
     "output_type": "stream",
     "text": [
      "BICePs - Bayesian Inference of Conformational Populations, Version 2.0\n"
     ]
    }
   ],
   "source": [
    "import os, sys, pickle\n",
    "import numpy as np\n",
    "import biceps\n",
    "import multiprocessing as mp"
   ]
  },
  {
   "cell_type": "markdown",
   "metadata": {},
   "source": [
    "### Data and Output Directories "
   ]
  },
  {
   "cell_type": "code",
   "execution_count": 2,
   "metadata": {},
   "outputs": [],
   "source": [
    "energies = np.loadtxt('../../datasets/cineromycin_B/cineromycinB_QMenergies.dat')*627.509  # convert from hartrees to kcal/mol\n",
    "energies = energies/0.5959   # convert to reduced free energies F = f/kT\n",
    "energies -= energies.min()  # set ground state to zero, just in case\n",
    "datadir = \"../../datasets/cineromycin_B/\"\n",
    "data = biceps.toolbox.sort_data(datadir+'noe_J')\n",
    "res = biceps.toolbox.list_res(data)\n",
    "outdir = 'results'\n",
    "biceps.toolbox.mkdir(outdir)"
   ]
  },
  {
   "cell_type": "markdown",
   "metadata": {},
   "source": [
    "### Parameters"
   ]
  },
  {
   "cell_type": "code",
   "execution_count": 3,
   "metadata": {},
   "outputs": [],
   "source": [
    "nsteps=1000000\n",
    "lambda_values = [0.0, 0.5, 1.0]\n",
    "ref = ['uniform', 'exp']\n",
    "uncern = [[0.05, 20.0, 1.02], [0.05, 5.0, 1.02]]"
   ]
  },
  {
   "cell_type": "markdown",
   "metadata": {},
   "source": [
    "### Multiprocessing Lambda values #######"
   ]
  },
  {
   "cell_type": "code",
   "execution_count": 6,
   "metadata": {},
   "outputs": [],
   "source": [
    "def mp_lambdas(Lambda):\n",
    "    ####### MCMC Simulations #######\n",
    "    ensemble = []\n",
    "    for i in range(energies.shape[0]):\n",
    "        ensemble.append([])\n",
    "        for k in range(len(data[0])):\n",
    "            File = data[i][k]\n",
    "            R = biceps.init_res(PDB_filename=datadir+'cineromycinB_pdbs/0.fixed.pdb', lam=lam,\n",
    "                energy=energies[i], ref=ref[k], data=File,\n",
    "                uncern=uncern[k], gamma=[0.2, 5.0, 1.02])\n",
    "            ensemble[-1].append(R)\n",
    "    sampler = biceps.PosteriorSampler(ensemble)\n",
    "    sampler.sample(nsteps=nsteps)\n",
    "    sampler.traj.process_results(outdir+'/traj_lambda%2.2f.npz'%(lam))\n",
    "    sampler.traj.read_results(os.path.join(outdir,\n",
    "        'traj_lambda%2.2f.npz'%lam))\n",
    "    outfilename = 'sampler_lambda%2.2f.pkl'%(lam)\n",
    "    fout = open(os.path.join(outdir, outfilename), 'wb')\n",
    "    pickle.dump(sampler, fout)\n",
    "    fout.close()\n",
    "    print('...Done.')"
   ]
  },
  {
   "cell_type": "markdown",
   "metadata": {},
   "source": [
    "### Note that the output from each lambda will be returned to stdout as soon as the job has completed..."
   ]
  },
  {
   "cell_type": "code",
   "execution_count": 7,
   "metadata": {},
   "outputs": [
    {
     "name": "stdout",
     "output_type": "stream",
     "text": [
      "Number of CPU's: 4\n",
      "\n",
      "Accepted 72.772 % \n",
      "\n",
      "\n",
      "Accepted [24.5859 24.2438 22.7593  1.183 ] % \n",
      "\n",
      "\n",
      "Accepted 77.84440000000001 % \n",
      "\n",
      "\n",
      "Accepted [24.6292 24.2702 22.6047  6.3403] % \n",
      "\n",
      "\n",
      "Accepted 73.99470000000001 % \n",
      "\n",
      "\n",
      "Accepted [24.6232 24.1921 22.6925  2.4869] % \n",
      "\n",
      "...Done.\n",
      "...Done.\n",
      "...Done.\n"
     ]
    }
   ],
   "source": [
    "# Check the number of CPU's available\n",
    "print(\"Number of CPU's: %s\"%(mp.cpu_count()))\n",
    "if mp.cpu_count() > len(lambda_values):\n",
    "    p = mp.Pool(processes=len(lambda_values)) # knows the number of CPU's to allocate\n",
    "else:\n",
    "    p = mp.Pool(processes=mp.cpu_count()) # knows the number of CPU's to allocate\n",
    "jobs = []\n",
    "for lam in lambda_values:\n",
    "    process = p.Process(target=mp_lambdas, args=(lam,))\n",
    "    jobs.append(process)\n",
    "    jobs[-1].start() # Start the processes\n",
    "    active_processors = [jobs[i].is_alive() for i in range(len(jobs))]\n",
    "    if (len(active_processors) == mp.cpu_count()-1) and all(active_processors) == True:\n",
    "        #print(\"Waiting until a processor becomes available...\")\n",
    "        while all(active_processors) == True:\n",
    "            active_processors = [jobs[i].is_alive() for i in range(len(jobs))]\n",
    "        #print(active_processors)\n",
    "        inactive = int(np.where(np.array(active_processors) == False)[0])\n",
    "        jobs[inactive].terminate()\n",
    "        jobs.remove(jobs[inactive])\n",
    "for job in jobs:\n",
    "    job.join() # will wait until the execution is over...\n",
    "p.close()"
   ]
  },
  {
   "cell_type": "markdown",
   "metadata": {},
   "source": [
    "<h6 style=\"align: justify;font-size: 12pt\"># <span style=\"color:red;\">NOTE</span>: The following cell is for pretty notebook rendering</h6>"
   ]
  },
  {
   "cell_type": "code",
   "execution_count": null,
   "metadata": {},
   "outputs": [],
   "source": [
    "from IPython.core.display import HTML\n",
    "def css_styling():\n",
    "    styles = open(\"../../../theme.css\", \"r\").read()\n",
    "    return HTML(styles)\n",
    "css_styling()"
   ]
  }
 ],
 "metadata": {
  "kernelspec": {
   "display_name": "Python 3",
   "language": "python",
   "name": "python3"
  },
  "language_info": {
   "codemirror_mode": {
    "name": "ipython",
    "version": 3
   },
   "file_extension": ".py",
   "mimetype": "text/x-python",
   "name": "python",
   "nbconvert_exporter": "python",
   "pygments_lexer": "ipython3",
   "version": "3.7.4"
  }
 },
 "nbformat": 4,
 "nbformat_minor": 2
}
