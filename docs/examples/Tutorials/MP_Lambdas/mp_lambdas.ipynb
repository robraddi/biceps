{
 "cells": [
  {
   "cell_type": "markdown",
   "metadata": {},
   "source": [
    "<h1 style=\"align: center;font-size: 18pt;\">Multiprocess Lambdas</h1>\n",
    "<hr style=\"height:2.5px\">\n",
    "\n",
    "This tutorial shows the user how to using the standard Python library `multiprocessing` to multiprocess lambda values in `BICePs`. \n",
    "\n",
    "<hr style=\"height:2.5px\">"
   ]
  },
  {
   "cell_type": "code",
   "execution_count": 1,
   "metadata": {},
   "outputs": [
    {
     "name": "stdout",
     "output_type": "stream",
     "text": [
      "BICePs - Bayesian Inference of Conformational Populations, Version 2.0\n"
     ]
    }
   ],
   "source": [
    "import os, sys, pickle\n",
    "import numpy as np\n",
    "import biceps\n",
    "import multiprocessing as mp"
   ]
  },
  {
   "cell_type": "markdown",
   "metadata": {},
   "source": [
    "### Data and Output Directories "
   ]
  },
  {
   "cell_type": "code",
   "execution_count": 5,
   "metadata": {},
   "outputs": [
    {
     "name": "stdout",
     "output_type": "stream",
     "text": [
      "Possible input data extensions: ['H', 'Ca', 'N', 'J', 'noe', 'pf']\n",
      "Input data: ['J', 'noe']\n"
     ]
    }
   ],
   "source": [
    "energies = np.loadtxt('cineromycin_B/cineromycinB_QMenergies.dat')*627.509  # convert from hartrees to kcal/mol\n",
    "energies = energies/0.5959   # convert to reduced free energies F = f/kT\n",
    "energies -= energies.min()  # set ground state to zero, just in case\n",
    "states = len(energies)\n",
    "top = 'cineromycin_B/cineromycinB_pdbs/0.fixed.pdb'\n",
    "print(f\"Possible input data extensions: {biceps.toolbox.list_possible_extensions()}\")\n",
    "data = biceps.toolbox.sort_data('cineromycin_B/J_NOE')\n",
    "res = biceps.toolbox.list_res(data)\n",
    "print(f\"Input data: {biceps.toolbox.list_extensions(data)}\")\n",
    "outdir = 'results_test'\n",
    "biceps.toolbox.mkdir(outdir)"
   ]
  },
  {
   "cell_type": "markdown",
   "metadata": {},
   "source": [
    "### Parameters"
   ]
  },
  {
   "cell_type": "code",
   "execution_count": 6,
   "metadata": {},
   "outputs": [
    {
     "name": "stdout",
     "output_type": "stream",
     "text": [
      "nSteps of sampling: 10000000\n"
     ]
    }
   ],
   "source": [
    "nsteps=10000000\n",
    "print(f\"nSteps of sampling: {nsteps}\")\n",
    "maxtau = 1000\n",
    "n_lambdas = 3\n",
    "lambda_values = np.linspace(0.0, 1.0, n_lambdas)\n",
    "ref = ['uniform', 'exp']\n",
    "uncern = [[0.05, 20.0, 1.02], [0.05, 5.0, 1.02]]"
   ]
  },
  {
   "cell_type": "markdown",
   "metadata": {},
   "source": [
    "### Multiprocessing Lambda values #######"
   ]
  },
  {
   "cell_type": "code",
   "execution_count": 7,
   "metadata": {},
   "outputs": [],
   "source": [
    "def mp_lambdas(Lambda):\n",
    "    ensemble = biceps.Ensemble(Lambda, energies, top)\n",
    "    ensemble.initialize_restraints(input_data=data, ref_pot=ref,\n",
    "            uncern=uncern, gamma=[0.2, 5.0, 1.02])\n",
    "    sampler = biceps.PosteriorSampler(ensemble.to_list())\n",
    "    sampler.sample(nsteps=nsteps, verbose=False)\n",
    "    sampler.traj.process_results(outdir+'/traj_lambda%2.2f.npz'%(lam))\n",
    "    outfilename = 'sampler_lambda%2.2f.pkl'%(lam)\n",
    "    fout = open(os.path.join(outdir, outfilename), 'wb')\n",
    "    pickle.dump(sampler, fout)\n",
    "    fout.close()\n",
    "    print('...Done.')"
   ]
  },
  {
   "cell_type": "markdown",
   "metadata": {},
   "source": [
    "### Note that the output from each lambda will be returned to stdout as soon as the job has completed..."
   ]
  },
  {
   "cell_type": "code",
   "execution_count": 8,
   "metadata": {},
   "outputs": [
    {
     "name": "stdout",
     "output_type": "stream",
     "text": [
      "Number of CPU's: 6\n",
      "Number of processes: 3\n",
      "\n",
      "Accepted 71.40438999999999 % \n",
      "\n",
      "\n",
      "Accepted [32.73672 29.90617 29.90617  8.7615 ] % \n",
      "\n",
      "...Done.\n",
      "\n",
      "Accepted 66.00635 % \n",
      "\n",
      "\n",
      "Accepted [32.73587 29.9568  29.9568   3.31368] % \n",
      "\n",
      "\n",
      "Accepted 64.30934 % \n",
      "\n",
      "\n",
      "Accepted [32.74651 29.97059 29.97059  1.59224] % \n",
      "\n",
      "...Done.\n",
      "...Done.\n"
     ]
    }
   ],
   "source": [
    "# Check the number of CPU's available\n",
    "print(\"Number of CPU's: %s\"%(mp.cpu_count()))\n",
    "p = mp.Pool(processes=n_lambdas) # knows the number of CPU's to allocate\n",
    "print(f\"Number of processes: {n_lambdas}\")\n",
    "jobs = []\n",
    "for lam in lambda_values:\n",
    "    process = p.Process(target=mp_lambdas, args=(lam,))\n",
    "    jobs.append(process)\n",
    "    jobs[-1].start() # Start the processes\n",
    "    active_processors = [jobs[i].is_alive() for i in range(len(jobs))]\n",
    "    if (len(active_processors) == mp.cpu_count()-1) and all(active_processors) == True:\n",
    "        while all(active_processors) == True:\n",
    "            active_processors = [jobs[i].is_alive() for i in range(len(jobs))]\n",
    "        inactive = int(np.where(np.array(active_processors) == False)[0])\n",
    "        jobs[inactive].terminate()\n",
    "        jobs.remove(jobs[inactive])\n",
    "for job in jobs:\n",
    "    job.join() # will wait until the execution is over...\n",
    "p.close()"
   ]
  },
  {
   "cell_type": "markdown",
   "metadata": {},
   "source": [
    "<h6 style=\"align: justify;font-size: 12pt\"># <span style=\"color:red;\">NOTE</span>: The following cell is for pretty notebook rendering</h6>"
   ]
  },
  {
   "cell_type": "code",
   "execution_count": null,
   "metadata": {},
   "outputs": [],
   "source": [
    "from IPython.core.display import HTML\n",
    "def css_styling():\n",
    "    styles = open(\"../../../theme.css\", \"r\").read()\n",
    "    return HTML(styles)\n",
    "css_styling()"
   ]
  }
 ],
 "metadata": {
  "kernelspec": {
   "display_name": "Python 3",
   "language": "python",
   "name": "python3"
  },
  "language_info": {
   "codemirror_mode": {
    "name": "ipython",
    "version": 3
   },
   "file_extension": ".py",
   "mimetype": "text/x-python",
   "name": "python",
   "nbconvert_exporter": "python",
   "pygments_lexer": "ipython3",
   "version": "3.7.3"
  }
 },
 "nbformat": 4,
 "nbformat_minor": 2
}
