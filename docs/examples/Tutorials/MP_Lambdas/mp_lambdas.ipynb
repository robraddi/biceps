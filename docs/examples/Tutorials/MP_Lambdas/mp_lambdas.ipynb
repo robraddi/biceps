{
 "cells": [
  {
   "cell_type": "code",
   "execution_count": 1,
   "metadata": {},
   "outputs": [
    {
     "name": "stdout",
     "output_type": "stream",
     "text": [
      "BICePs - Bayesian Inference of Conformational Populations, Version 2.0\n"
     ]
    }
   ],
   "source": [
    "import os, sys, pickle\n",
    "import numpy as np\n",
    "import biceps\n",
    "import multiprocessing as mp"
   ]
  },
  {
   "cell_type": "code",
   "execution_count": 2,
   "metadata": {},
   "outputs": [],
   "source": [
    "####### Data and Output Directories #######\n",
    "energies = np.loadtxt('energy.dat')\n",
    "data = biceps.sort_data('noe')\n",
    "res = biceps.list_res(data)\n",
    "outdir = 'results_ref_normal'\n",
    "if not os.path.exists(outdir):\n",
    "    os.mkdir(outdir)"
   ]
  },
  {
   "cell_type": "code",
   "execution_count": 3,
   "metadata": {},
   "outputs": [],
   "source": [
    "####### Parameters #######\n",
    "nsteps=1000000\n",
    "maxtau = 1000\n",
    "lambda_values = [0.0, 0.5, 1.0]\n",
    "ref = ['uniform', 'exp']\n",
    "uncern = [[0.05, 20.0, 1.02], [0.05, 5.0, 1.02]]"
   ]
  },
  {
   "cell_type": "code",
   "execution_count": 4,
   "metadata": {},
   "outputs": [],
   "source": [
    "####### Multiprocessing Lambda values #######\n",
    "def mp_lambdas(Lambda):\n",
    "    ####### MCMC Simulations #######\n",
    "    ensemble = []\n",
    "    for i in range(energies.shape[0]):\n",
    "        ensemble.append([])\n",
    "        for k in range(len(data[0])):\n",
    "            File = data[i][k]\n",
    "            R = biceps.init_res(PDB_filename='cineromycinB_pdbs/0.fixed.pdb', lam=lam,\n",
    "                energy=energies[i], ref=ref[k], data=File,\n",
    "                uncern=uncern[k], gamma=[0.2, 5.0, 1.02])\n",
    "            ensemble[-1].append(R)\n",
    "    sampler = biceps.PosteriorSampler(ensemble)\n",
    "    sampler.sample(nsteps=nsteps)\n",
    "    sampler.traj.process_results(outdir+'/traj_lambda%2.2f.npz'%(lam))\n",
    "    sampler.traj.read_results(os.path.join(outdir,\n",
    "        'traj_lambda%2.2f.npz'%lam))\n",
    "    outfilename = 'sampler_lambda%2.2f.pkl'%(lam)\n",
    "    fout = open(os.path.join(outdir, outfilename), 'wb')\n",
    "    pickle.dump(sampler, fout)\n",
    "    fout.close()\n",
    "    print('...Done.')"
   ]
  },
  {
   "cell_type": "markdown",
   "metadata": {},
   "source": [
    "### Note that the output from each lambda will be returned to stdout as soon as the job has completed..."
   ]
  },
  {
   "cell_type": "code",
   "execution_count": 5,
   "metadata": {},
   "outputs": [
    {
     "name": "stdout",
     "output_type": "stream",
     "text": [
      "Number of CPU's: 4\n",
      "\n",
      "Accepted 73.04129999999999 % \n",
      "\n",
      "\n",
      "Accepted 72.64150000000001 % \n",
      "\n",
      "\n",
      "Accepted [32.4507 30.2688 10.3218] % \n",
      "\n",
      "\n",
      "Accepted [32.4249 30.2536  9.963 ] % \n",
      "\n",
      "\n",
      "Accepted 72.9305 % \n",
      "\n",
      "\n",
      "Accepted [32.4757 30.3098 10.145 ] % \n",
      "\n",
      "...Done.\n",
      "...Done.\n",
      "...Done.\n"
     ]
    }
   ],
   "source": [
    "# Check the number of CPU's available\n",
    "print(\"Number of CPU's: %s\"%(mp.cpu_count()))\n",
    "#p = mp.Pool(processes=mp.cpu_count()-1) # knows the number of CPU's to allocate\n",
    "p = mp.Pool(processes=mp.cpu_count()) # knows the number of CPU's to allocate\n",
    "#print(\"Process ID's: %s\"%get_processes(p, n=lam))\n",
    "jobs = []\n",
    "for lam in lambda_values:\n",
    "    process = p.Process(target=mp_lambdas, args=(lam,))\n",
    "    jobs.append(process)\n",
    "    jobs[-1].start() # Start the processes\n",
    "    active_processors = [jobs[i].is_alive() for i in range(len(jobs))]\n",
    "    #print(\"Active Processors: %s\"%active_processors)\n",
    "    if (len(active_processors) == mp.cpu_count()-1) and all(active_processors) == True:\n",
    "        #print(\"Waiting until a processor becomes available...\")\n",
    "        while all(active_processors) == True:\n",
    "            active_processors = [jobs[i].is_alive() for i in range(len(jobs))]\n",
    "        #print(active_processors)\n",
    "        inactive = int(np.where(np.array(active_processors) == False)[0])\n",
    "        jobs[inactive].terminate()\n",
    "        jobs.remove(jobs[inactive])\n",
    "for job in jobs:\n",
    "    job.join() # will wait until the execution is over...\n",
    "p.close()"
   ]
  }
 ],
 "metadata": {
  "kernelspec": {
   "display_name": "Python 3",
   "language": "python",
   "name": "python3"
  },
  "language_info": {
   "codemirror_mode": {
    "name": "ipython",
    "version": 3
   },
   "file_extension": ".py",
   "mimetype": "text/x-python",
   "name": "python",
   "nbconvert_exporter": "python",
   "pygments_lexer": "ipython3",
   "version": "3.7.4"
  }
 },
 "nbformat": 4,
 "nbformat_minor": 2
}
