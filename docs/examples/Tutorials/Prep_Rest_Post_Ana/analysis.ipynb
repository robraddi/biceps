{
 "cells": [
  {
   "cell_type": "markdown",
   "metadata": {},
   "source": [
    "<h1 style=\"align: center;font-size: 18pt;\">Analysis</h1>\n",
    "\n",
    "<hr style=\"height:2.5px\">\n",
    "\n",
    "In this tutorial, we show the user how to instantiate the `biceps.Analysis` class. `Analysis` uses [MBAR](https://pymbar.readthedocs.io/en/master/index.html) to get predicted populations of each conformational states and BICePs score.  We also provide a short description of the output data from `Analysis` and embed the figures of posterior distribution of populations & nuisance parameters.  Please refer to the [documentation of Analysis](https://biceps.readthedocs.io/en/latest/api.html#analysis) for more specific details. \n",
    "\n",
    "<hr style=\"height:2.5px\">"
   ]
  },
  {
   "cell_type": "code",
   "execution_count": 1,
   "metadata": {},
   "outputs": [
    {
     "name": "stdout",
     "output_type": "stream",
     "text": [
      "BICePs - Bayesian Inference of Conformational Populations, Version 2.0\n"
     ]
    }
   ],
   "source": [
    "import sys, os\n",
    "from biceps import Analysis"
   ]
  },
  {
   "cell_type": "code",
   "execution_count": 2,
   "metadata": {},
   "outputs": [],
   "source": [
    "%matplotlib inline\n",
    "data_dir = \"../../cineromycin_B/\"\n",
    "outdir = data_dir+'results_ref_normal/'\n",
    "states = 100\n",
    "A = Analysis(states, resultdir=outdir, BSdir=data_dir+'BS.dat',\n",
    "             popdir=data_dir+'populations.dat', picfile=data_dir+'BICePs.pdf')"
   ]
  },
  {
   "cell_type": "code",
   "execution_count": null,
   "metadata": {},
   "outputs": [
    {
     "name": "stdout",
     "output_type": "stream",
     "text": [
      "Loading ../../cineromycin_B/results_ref_normal/traj_lambda0.00.npz ...\n",
      "Loading ../../cineromycin_B/results_ref_normal/traj_lambda1.00.npz ...\n",
      "Loading ../../cineromycin_B/results_ref_normal/sampler_lambda0.00.pkl ...\n",
      "Loading ../../cineromycin_B/results_ref_normal/sampler_lambda1.00.pkl ...\n",
      "lam = [0.0, 1.0]\n",
      "nstates 100\n"
     ]
    }
   ],
   "source": [
    "A.plot()"
   ]
  },
  {
   "cell_type": "markdown",
   "metadata": {},
   "source": [
    "<!--<img src=\"\" height=\"300\" width=\"300\" align=\"center\">\n",
    "<img src=\"\" height=\"300\" width=\"300\" align=\"center\">\n",
    "<img src=\"\" height=\"300\" width=\"300\" align=\"center\">\n",
    "<img src=\"\" height=\"300\" width=\"300\" align=\"center\">\n",
    "<img src=\"\" height=\"300\" width=\"300\" align=\"center\">-->"
   ]
  },
  {
   "cell_type": "markdown",
   "metadata": {},
   "source": [
    "The output files include: population information (\"populations.dat\"), figure of sampled parameters distribution (\"BICePs.pdf\"), BICePs score information (\"BS.dat\"), which are shown above.\n",
    "\n",
    "Now, let's take a look at the populations file:"
   ]
  },
  {
   "cell_type": "code",
   "execution_count": null,
   "metadata": {},
   "outputs": [],
   "source": [
    "with open(data_dir+'populations.dat','r') as file:\n",
    "    text = file.readlines()\n",
    "    print text"
   ]
  },
  {
   "cell_type": "markdown",
   "metadata": {},
   "source": [
    "<!--There are 100 rows corresponding to 100 clustered states. 6 columns corresponding to populations of each state (row) for 3 lambda values (first 3 columns) and population change (last 3 columns). -->"
   ]
  },
  {
   "cell_type": "markdown",
   "metadata": {},
   "source": [
    "### Conclusion###\n",
    "In this tutorial, the user learned how to call on the `Analysis` class in order to analyze the trajectory data, which automatically plots the posterior distribution of populations & nuisance parameters.\n",
    "\n",
    "We now conclude the series of tutorials: [Preparation](https://biceps.readthedocs.io/en/latest/examples/Tutorials/Prep_Rest_Post_Ana/preparation.html), [Restraint](https://biceps.readthedocs.io/en/latest/examples/Tutorials/Prep_Rest_Post_Ana/restraint.html), [PosteriorSampler](https://biceps.readthedocs.io/en/latest/examples/Tutorials/Prep_Rest_Post_Ana/posteriorsampler.html) and [Analysis](https://biceps.readthedocs.io/en/latest/examples/Tutorials/Prep_Rest_Post_Ana/analysis.html)\n",
    "**To learn more about BICePs, please check out our other examples & tutorials** [here](https://biceps.readthedocs.io/en/latest/examples/index.html)."
   ]
  },
  {
   "cell_type": "markdown",
   "metadata": {},
   "source": [
    "<h6 style=\"align: justify;font-size: 12pt\"># <span style=\"color:red;\">NOTE</span>: The following cell is for pretty notebook rendering</h6>"
   ]
  },
  {
   "cell_type": "code",
   "execution_count": null,
   "metadata": {},
   "outputs": [],
   "source": [
    "from IPython.core.display import HTML\n",
    "def css_styling():\n",
    "    styles = open(\"../../../theme.css\", \"r\").read()\n",
    "    return HTML(styles)\n",
    "css_styling()"
   ]
  }
 ],
 "metadata": {
  "kernelspec": {
   "display_name": "Python 2",
   "language": "python",
   "name": "python2"
  },
  "language_info": {
   "codemirror_mode": {
    "name": "ipython",
    "version": 2
   },
   "file_extension": ".py",
   "mimetype": "text/x-python",
   "name": "python",
   "nbconvert_exporter": "python",
   "pygments_lexer": "ipython2",
   "version": "2.7.16"
  }
 },
 "nbformat": 4,
 "nbformat_minor": 2
}
