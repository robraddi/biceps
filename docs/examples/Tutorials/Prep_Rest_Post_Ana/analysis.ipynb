{
 "cells": [
  {
   "cell_type": "markdown",
   "metadata": {},
   "source": [
    "<h1 style=\"align: center;font-size: 18pt;\">Analysis</h1>\n",
    "\n",
    "<hr style=\"height:2.5px\">\n",
    "\n",
    "In this tutorial, we show the user how to instantiate the `biceps.Analysis` class. `Analysis` uses [MBAR](https://pymbar.readthedocs.io/en/master/index.html) to get predicted populations of each conformational states and BICePs score.  We also provide a short description of the output data from `Analysis` and embed the figures of posterior distribution of populations & nuisance parameters.  Please refer to the [documentation of Analysis](https://biceps.readthedocs.io/en/latest/api.html#analysis) for more specific details. \n",
    "\n",
    "<hr style=\"height:2.5px\">"
   ]
  },
  {
   "cell_type": "code",
   "execution_count": 1,
   "metadata": {},
   "outputs": [
    {
     "name": "stdout",
     "output_type": "stream",
     "text": [
      "BICePs - Bayesian Inference of Conformational Populations, Version 2.0\n"
     ]
    }
   ],
   "source": [
    "import sys, os\n",
    "import biceps"
   ]
  },
  {
   "cell_type": "code",
   "execution_count": 2,
   "metadata": {},
   "outputs": [],
   "source": [
    "#%matplotlib inline\n",
    "%matplotlib widget\n",
    "data_dir = \"../../datasets/cineromycin_B/\"\n",
    "outdir = 'results/'\n",
    "states = 100\n",
    "A = biceps.Analysis(states, resultdir=outdir, BSdir='BS.dat',\n",
    "             popdir='populations.dat', picfile='BICePs.pdf')"
   ]
  },
  {
   "cell_type": "code",
   "execution_count": 3,
   "metadata": {},
   "outputs": [
    {
     "name": "stdout",
     "output_type": "stream",
     "text": [
      "Loading results/traj_lambda0.00.npz ...\n",
      "Loading results/traj_lambda1.00.npz ...\n",
      "not all state sampled, these states [ 1  4  5  7  9 11 14 15 16 18 22 23 24 25 26 27 31 34 40 42 48 51 52 54\n",
      " 57 60 61 62 69 73 74 76 77 81 87 89 95 98 99] are not sampled\n"
     ]
    },
    {
     "data": {
      "application/vnd.jupyter.widget-view+json": {
       "model_id": "00d651ae24c74184bc394658787a6c0f",
       "version_major": 2,
       "version_minor": 0
      },
      "text/plain": [
       "Canvas(toolbar=Toolbar(toolitems=[('Home', 'Reset original view', 'home', 'home'), ('Back', 'Back to previous …"
      ]
     },
     "metadata": {},
     "output_type": "display_data"
    },
    {
     "name": "stdout",
     "output_type": "stream",
     "text": [
      "Loading results/sampler_lambda0.00.pkl ...\n",
      "Loading results/sampler_lambda1.00.pkl ...\n",
      "lam = [0.0, 1.0]\n",
      "nstates 100\n"
     ]
    },
    {
     "name": "stderr",
     "output_type": "stream",
     "text": [
      "/Users/tuc41004/anaconda3/lib/python3.7/site-packages/pymbar/mbar.py:919: RuntimeWarning: invalid value encountered in sqrt\n",
      "  sigma = np.sqrt(covA_ij[0:K,0:K].diagonal())\n"
     ]
    },
    {
     "name": "stdout",
     "output_type": "stream",
     "text": [
      "Writing results/BS.dat...\n",
      "...Done.\n",
      "Writing results/populations.dat...\n",
      "...Done.\n"
     ]
    },
    {
     "data": {
      "application/vnd.jupyter.widget-view+json": {
       "model_id": "153638822e524d759e3b19e52715ad6f",
       "version_major": 2,
       "version_minor": 0
      },
      "text/plain": [
       "Canvas(toolbar=Toolbar(toolitems=[('Home', 'Reset original view', 'home', 'home'), ('Back', 'Back to previous …"
      ]
     },
     "metadata": {},
     "output_type": "display_data"
    }
   ],
   "source": [
    "A.plot(show=True)"
   ]
  },
  {
   "cell_type": "markdown",
   "metadata": {},
   "source": [
    "<!--<img src=\"\" height=\"300\" width=\"300\" align=\"center\">\n",
    "<img src=\"\" height=\"300\" width=\"300\" align=\"center\">\n",
    "<img src=\"\" height=\"300\" width=\"300\" align=\"center\">\n",
    "<img src=\"\" height=\"300\" width=\"300\" align=\"center\">\n",
    "<img src=\"\" height=\"300\" width=\"300\" align=\"center\">-->"
   ]
  },
  {
   "cell_type": "markdown",
   "metadata": {},
   "source": [
    "The output files include: population information (\"populations.dat\"), figure of sampled parameters distribution (\"BICePs.pdf\"), BICePs score information (\"BS.dat\"), which are shown above.\n",
    "\n",
    "Now, let's take a look at the populations file:"
   ]
  },
  {
   "cell_type": "code",
   "execution_count": 5,
   "metadata": {},
   "outputs": [
    {
     "name": "stdout",
     "output_type": "stream",
     "text": [
      "[[1.76753103e-02 2.46896905e-05 1.31561545e-03 1.87049813e-06]\n",
      " [3.99077525e-03 9.22475257e-06 6.29615395e-04 1.46117639e-06]\n",
      " [7.80560565e-03 8.94394351e-04 8.33593247e-04 9.61791077e-05]\n",
      " [1.18783304e-03 1.21669593e-05 3.42676027e-04 3.51415587e-06]\n",
      " [0.00000000e+00 0.00000000e+00 1.64636127e-10 0.00000000e+00]\n",
      " [1.89999999e-03 1.46869183e-11 4.35434906e-04 1.64636127e-10]\n",
      " [6.86898359e-03 5.31016410e-04 7.95677642e-04 6.19023591e-05]\n",
      " [1.52931297e-02 6.87029318e-06 1.22595403e-03 5.59245272e-07]\n",
      " [3.17804000e-03 2.19600026e-05 5.60827769e-04 3.88752900e-06]\n",
      " [3.89999595e-03 4.04769374e-09 6.23160397e-04 5.93603998e-10]\n",
      " [6.70856284e-03 3.91437159e-04 7.93362835e-04 4.65854026e-05]\n",
      " [3.59999993e-03 6.89723834e-11 5.98812791e-04            nan]\n",
      " [2.97927030e-03 2.07297035e-05 5.43052400e-04 3.78974667e-06]\n",
      " [2.79959914e-03 4.00857758e-07 5.28260674e-04 7.58497416e-08]\n",
      " [7.99143665e-04 8.56334650e-07 2.82416057e-04 3.02868863e-07]\n",
      " [1.09991756e-03 8.24426232e-08 3.31437282e-04 2.48687761e-08]\n",
      " [4.29999996e-03 4.27444746e-11 6.54193760e-04 1.64636127e-10]\n",
      " [3.98744605e-02 1.32553948e-03 1.92218151e-03 6.64217348e-05]\n",
      " [9.99799900e-04 2.00100216e-07 3.15990903e-04 6.33053204e-08]\n",
      " [2.28585328e-03 1.41467187e-05 4.76037790e-04 2.95281075e-06]\n",
      " [1.86432965e-03 3.56703459e-05 4.27275385e-04 8.19005490e-06]\n",
      " [1.16276379e-01 2.36207676e-05 3.18450599e-03 7.28036088e-07]\n",
      " [6.79980117e-03 1.98826788e-07 8.21512547e-04 2.41830240e-08]\n",
      " [1.93978300e-02 2.16997223e-06 1.37777102e-03 1.57151802e-07]\n",
      " [3.09996414e-03 3.58645387e-08 5.55821493e-04 6.45449212e-09]\n",
      " [4.49999978e-03 2.20650165e-10 6.69160790e-04 2.32830644e-10]\n",
      " [5.79999972e-03 2.84392954e-10 7.59148010e-04 1.64636127e-10]\n",
      " [6.27999987e-02 1.29697675e-09 2.41803622e-03            nan]\n",
      " [1.69381093e-03 6.18907245e-06 4.10428390e-04 1.50221149e-06]\n",
      " [1.09655284e-03 3.44715923e-06 3.30424507e-04 1.03986946e-06]\n",
      " [1.42488649e-03 1.07511351e-03 2.84892477e-04 2.15033919e-04]\n",
      " [4.29115271e-03 8.84729040e-06 6.52853560e-04 1.35180070e-06]\n",
      " [2.14989148e-02 4.01085198e-04 1.43577601e-03 2.73583921e-05]\n",
      " [1.80977309e-03 2.90226911e-04 3.94583957e-04 6.33742809e-05]\n",
      " [2.69999631e-03 3.69247211e-09 5.18843618e-04 7.36275143e-10]\n",
      " [3.47790671e-03 1.22093295e-04 5.78575091e-04 2.03794073e-05]\n",
      " [3.59167948e-03 8.32051858e-06 5.97433784e-04 1.38899086e-06]\n",
      " [1.93969369e-03 5.06030631e-03 2.32119648e-04 6.03669668e-04]\n",
      " [1.16135060e-02 3.23786494e-01 2.26808328e-04 4.52444155e-03]\n",
      " [5.92889238e-03 6.12711076e-02 2.34219972e-04 2.28921500e-03]\n",
      " [4.29999961e-03 3.94933863e-10 6.54193707e-04 0.00000000e+00]\n",
      " [1.59917112e-03 8.28881950e-07 3.99441724e-04 2.07369577e-07]\n",
      " [1.16999986e-02 1.41564804e-09 1.07469385e-03 0.00000000e+00]\n",
      " [3.06143900e-03 3.85610048e-05 5.48935180e-04 6.93516853e-06]\n",
      " [4.81252423e-03 8.74757745e-05 6.85711526e-04 1.25230289e-05]\n",
      " [2.59041695e-02 3.33958305e-02 1.06464471e-03 1.36224297e-03]\n",
      " [1.50701761e-03 5.09298239e-03 1.85773350e-04 6.25574271e-04]\n",
      " [2.84057127e-03 2.59428727e-04 5.09445073e-04 4.66477886e-05]\n",
      " [3.39999997e-03 3.36495276e-11 5.82005592e-04 1.64636127e-10]\n",
      " [5.38482960e-03 3.15170397e-04 7.11227782e-04 4.18393706e-05]\n",
      " [1.82375366e-03 8.76246341e-04 3.50768697e-04 1.68691219e-04]\n",
      " [7.19984667e-03 1.53328313e-07 8.45149032e-04 1.81279254e-08]\n",
      " [4.89949448e-03 5.05524330e-07 6.98042430e-04 7.23764458e-08]\n",
      " [2.59301859e-03 6.98140683e-06 5.07809829e-04 1.37076122e-06]\n",
      " [4.89991123e-03 8.87719040e-08 6.98101513e-04 1.27090133e-08]\n",
      " [1.69755708e-03 2.44292151e-06 4.11334578e-04 5.92948000e-07]\n",
      " [1.91732401e-02 2.67599099e-05 1.36908146e-03 1.94782692e-06]\n",
      " [2.79956797e-03 4.32033336e-07 5.28254808e-04 8.17494219e-08]\n",
      " [1.19440707e-02 2.05592933e-03 1.00375760e-03 1.74495841e-04]\n",
      " [2.44221964e-02 1.88777804e-01 5.65581394e-04 3.69028643e-03]\n",
      " [3.69180564e-03 8.19435651e-06 6.05699792e-04 1.34937858e-06]\n",
      " [4.39780962e-03 2.19038072e-06 6.61392484e-04 3.30866026e-07]\n",
      " [1.99960110e-03 3.98899755e-07 4.46633289e-04 8.92763593e-08]\n",
      " [3.65424860e-03 4.57514043e-05 5.99560565e-04 7.53367927e-06]\n",
      " [6.98723448e-04 1.27655235e-06 2.63991451e-04 4.82643070e-07]\n",
      " [1.27892876e-02 1.05810712e-01 3.86182751e-04 2.90723561e-03]\n",
      " [6.39073123e-03 9.26877242e-06 7.96036641e-04 1.16192456e-06]\n",
      " [4.05030559e-02 3.79694412e-03 1.88444198e-03 1.83293615e-04]\n",
      " [2.19900617e-03 2.00993834e-04 4.48368671e-04 4.10638323e-05]\n",
      " [3.09831645e-03 1.68354868e-06 5.55526983e-04 3.02796140e-07]\n",
      " [2.20674139e-03 4.19325861e-03 2.76029939e-04 5.23471594e-04]\n",
      " [3.47586777e-03 2.41322306e-05 5.86412894e-04 4.08542575e-06]\n",
      " [3.79589736e-03 3.04102641e-04 5.91664138e-04 4.75661566e-05]\n",
      " [2.59998114e-03 1.88628724e-08 5.09169800e-04 3.70339810e-09]\n",
      " [7.97495414e-04 2.50458646e-06 2.81834032e-04 8.85822184e-07]\n",
      " [3.15900691e-03 1.40993087e-04 5.48992853e-04 2.45767849e-05]\n",
      " [3.79999841e-03 1.58962266e-09 6.15153580e-04 3.29272254e-10]\n",
      " [1.53999957e-02 4.29038849e-09 1.23042878e-03 4.03274504e-10]\n",
      " [1.08882021e-03 1.11797933e-05 3.28096971e-04 3.37246839e-06]\n",
      " [6.34694674e-02 2.30532639e-04 2.42580067e-03 9.39068395e-06]\n",
      " [2.61195232e-03 7.56880477e-02 9.63470784e-05 2.59334455e-03]\n",
      " [4.89999955e-03 4.49789539e-10 6.98114035e-04 3.29272254e-10]\n",
      " [1.49784232e-03 2.15768013e-06 3.86423397e-04 5.57486248e-07]\n",
      " [1.49731597e-03 2.68403000e-06 3.86287810e-04 6.93480375e-07]\n",
      " [5.91533778e-03 6.84662219e-04 7.25984408e-04 8.44689810e-05]\n",
      " [2.33063394e-03 2.93693661e-02 1.32458209e-04 1.62449009e-03]\n",
      " [1.07322922e-03 2.67707790e-05 3.23403948e-04 8.07548022e-06]\n",
      " [1.98399999e-01 1.43273482e-09 3.93920327e-03            nan]\n",
      " [4.37554767e-03 2.44523314e-05 6.58059200e-04 3.69354423e-06]\n",
      " [2.87996717e-03 2.00328256e-05 5.33954949e-04 3.72478920e-06]\n",
      " [5.85548386e-03 1.18144516e-01 1.74409920e-04 3.13935338e-03]\n",
      " [1.44094841e-03 1.45905159e-03 2.67541733e-04 2.70898056e-04]\n",
      " [4.44466973e-03 3.06553303e-02 2.39924084e-04 1.61181506e-03]\n",
      " [4.69030450e-03 1.10969550e-03 6.14587902e-04 1.45929376e-04]\n",
      " [9.98097824e-03 1.71902176e-03 9.18389751e-04 1.59487858e-04]\n",
      " [3.99999999e-03 8.36308800e-12 6.31064915e-04 0.00000000e+00]\n",
      " [2.38347104e-03 1.65289631e-05 4.85890474e-04 3.37755405e-06]\n",
      " [2.99305574e-03 6.94425606e-06 5.45557624e-04 1.26954700e-06]\n",
      " [3.09999997e-03 3.48787665e-11 5.55827898e-04            nan]\n",
      " [1.59968087e-03 3.19128540e-07 3.99568847e-04 7.98393558e-08]]\n"
     ]
    }
   ],
   "source": [
    "import numpy as np\n",
    "pops = np.loadtxt(outdir+\"populations.dat\")\n",
    "print(pops)"
   ]
  },
  {
   "cell_type": "markdown",
   "metadata": {},
   "source": [
    "<!--There are 100 rows corresponding to 100 clustered states. 6 columns corresponding to populations of each state (row) for 3 lambda values (first 3 columns) and population change (last 3 columns). -->"
   ]
  },
  {
   "cell_type": "markdown",
   "metadata": {},
   "source": [
    "### Conclusion###\n",
    "In this tutorial, the user learned how to call on the `Analysis` class in order to analyze the trajectory data, which automatically plots the posterior distribution of populations & nuisance parameters.\n",
    "\n",
    "We now conclude the series of tutorials: [Preparation](https://biceps.readthedocs.io/en/latest/examples/Tutorials/Prep_Rest_Post_Ana/preparation.html), [Restraint](https://biceps.readthedocs.io/en/latest/examples/Tutorials/Prep_Rest_Post_Ana/restraint.html), [PosteriorSampler](https://biceps.readthedocs.io/en/latest/examples/Tutorials/Prep_Rest_Post_Ana/posteriorsampler.html) and [Analysis](https://biceps.readthedocs.io/en/latest/examples/Tutorials/Prep_Rest_Post_Ana/analysis.html)\n",
    "**To learn more about BICePs, please check out our other examples & tutorials** [here](https://biceps.readthedocs.io/en/latest/examples/index.html)."
   ]
  },
  {
   "cell_type": "markdown",
   "metadata": {},
   "source": [
    "<h6 style=\"align: justify;font-size: 12pt\"># <span style=\"color:red;\">NOTE</span>: The following cell is for pretty notebook rendering</h6>"
   ]
  },
  {
   "cell_type": "code",
   "execution_count": null,
   "metadata": {},
   "outputs": [],
   "source": [
    "from IPython.core.display import HTML\n",
    "def css_styling():\n",
    "    styles = open(\"../../../theme.css\", \"r\").read()\n",
    "    return HTML(styles)\n",
    "css_styling()"
   ]
  }
 ],
 "metadata": {
  "kernelspec": {
   "display_name": "Python 3",
   "language": "python",
   "name": "python3"
  },
  "language_info": {
   "codemirror_mode": {
    "name": "ipython",
    "version": 3
   },
   "file_extension": ".py",
   "mimetype": "text/x-python",
   "name": "python",
   "nbconvert_exporter": "python",
   "pygments_lexer": "ipython3",
   "version": "3.7.4"
  }
 },
 "nbformat": 4,
 "nbformat_minor": 2
}
