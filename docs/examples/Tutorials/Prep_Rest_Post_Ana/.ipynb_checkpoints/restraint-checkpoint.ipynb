{
 "cells": [
  {
   "cell_type": "markdown",
   "metadata": {},
   "source": [
    "<h1 style=\"align: center;font-size: 18pt;\">Restraint</h1>\n",
    "\n",
    "<hr style=\"height:2.5px\">\n",
    "\n",
    "This tutorial shows the user how to appropriately use the `Restraint class` to building the ensemble by importing the data files that were prepared from the previous tutorial [Preparation](https://biceps.readthedocs.io/en/latest/examples/Tutorials/Prep_Rest_Post_Ana/Preparation.html) via the `Preparation class`. **Please note** that in order to compute the relative free energies, one must perform sampling for at least two lambda values. For simplicity, we will construct an ensemble for only a single lambda value.\n",
    "\n",
    "<hr style=\"height:2.5px\">"
   ]
  },
  {
   "cell_type": "code",
   "execution_count": 1,
   "metadata": {},
   "outputs": [
    {
     "name": "stdout",
     "output_type": "stream",
     "text": [
      "BICePs - Bayesian Inference of Conformational Populations, Version 2.0\n"
     ]
    }
   ],
   "source": [
    "import sys, os\n",
    "import numpy as np\n",
    "import biceps\n",
    "from biceps import init_res # class to initialize restraints"
   ]
  },
  {
   "cell_type": "code",
   "execution_count": 2,
   "metadata": {},
   "outputs": [
    {
     "name": "stdout",
     "output_type": "stream",
     "text": [
      "[['../../cineromycin_B/noe_J/0.J', '../../cineromycin_B/noe_J/0.noe'], ['../../cineromycin_B/noe_J/1.J', '../../cineromycin_B/noe_J/1.noe'], ['../../cineromycin_B/noe_J/2.J', '../../cineromycin_B/noe_J/2.noe'], ['../../cineromycin_B/noe_J/3.J', '../../cineromycin_B/noe_J/3.noe'], ['../../cineromycin_B/noe_J/4.J', '../../cineromycin_B/noe_J/4.noe'], ['../../cineromycin_B/noe_J/5.J', '../../cineromycin_B/noe_J/5.noe'], ['../../cineromycin_B/noe_J/6.J', '../../cineromycin_B/noe_J/6.noe'], ['../../cineromycin_B/noe_J/7.J', '../../cineromycin_B/noe_J/7.noe'], ['../../cineromycin_B/noe_J/8.J', '../../cineromycin_B/noe_J/8.noe'], ['../../cineromycin_B/noe_J/9.J', '../../cineromycin_B/noe_J/9.noe'], ['../../cineromycin_B/noe_J/10.J', '../../cineromycin_B/noe_J/10.noe'], ['../../cineromycin_B/noe_J/11.J', '../../cineromycin_B/noe_J/11.noe'], ['../../cineromycin_B/noe_J/12.J', '../../cineromycin_B/noe_J/12.noe'], ['../../cineromycin_B/noe_J/13.J', '../../cineromycin_B/noe_J/13.noe'], ['../../cineromycin_B/noe_J/14.J', '../../cineromycin_B/noe_J/14.noe'], ['../../cineromycin_B/noe_J/15.J', '../../cineromycin_B/noe_J/15.noe'], ['../../cineromycin_B/noe_J/16.J', '../../cineromycin_B/noe_J/16.noe'], ['../../cineromycin_B/noe_J/17.J', '../../cineromycin_B/noe_J/17.noe'], ['../../cineromycin_B/noe_J/18.J', '../../cineromycin_B/noe_J/18.noe'], ['../../cineromycin_B/noe_J/19.J', '../../cineromycin_B/noe_J/19.noe'], ['../../cineromycin_B/noe_J/20.J', '../../cineromycin_B/noe_J/20.noe'], ['../../cineromycin_B/noe_J/21.J', '../../cineromycin_B/noe_J/21.noe'], ['../../cineromycin_B/noe_J/22.J', '../../cineromycin_B/noe_J/22.noe'], ['../../cineromycin_B/noe_J/23.J', '../../cineromycin_B/noe_J/23.noe'], ['../../cineromycin_B/noe_J/24.J', '../../cineromycin_B/noe_J/24.noe'], ['../../cineromycin_B/noe_J/25.J', '../../cineromycin_B/noe_J/25.noe'], ['../../cineromycin_B/noe_J/26.J', '../../cineromycin_B/noe_J/26.noe'], ['../../cineromycin_B/noe_J/27.J', '../../cineromycin_B/noe_J/27.noe'], ['../../cineromycin_B/noe_J/28.J', '../../cineromycin_B/noe_J/28.noe'], ['../../cineromycin_B/noe_J/29.J', '../../cineromycin_B/noe_J/29.noe'], ['../../cineromycin_B/noe_J/30.J', '../../cineromycin_B/noe_J/30.noe'], ['../../cineromycin_B/noe_J/31.J', '../../cineromycin_B/noe_J/31.noe'], ['../../cineromycin_B/noe_J/32.J', '../../cineromycin_B/noe_J/32.noe'], ['../../cineromycin_B/noe_J/33.J', '../../cineromycin_B/noe_J/33.noe'], ['../../cineromycin_B/noe_J/34.J', '../../cineromycin_B/noe_J/34.noe'], ['../../cineromycin_B/noe_J/35.J', '../../cineromycin_B/noe_J/35.noe'], ['../../cineromycin_B/noe_J/36.J', '../../cineromycin_B/noe_J/36.noe'], ['../../cineromycin_B/noe_J/37.J', '../../cineromycin_B/noe_J/37.noe'], ['../../cineromycin_B/noe_J/38.J', '../../cineromycin_B/noe_J/38.noe'], ['../../cineromycin_B/noe_J/39.J', '../../cineromycin_B/noe_J/39.noe'], ['../../cineromycin_B/noe_J/40.J', '../../cineromycin_B/noe_J/40.noe'], ['../../cineromycin_B/noe_J/41.J', '../../cineromycin_B/noe_J/41.noe'], ['../../cineromycin_B/noe_J/42.J', '../../cineromycin_B/noe_J/42.noe'], ['../../cineromycin_B/noe_J/43.J', '../../cineromycin_B/noe_J/43.noe'], ['../../cineromycin_B/noe_J/44.J', '../../cineromycin_B/noe_J/44.noe'], ['../../cineromycin_B/noe_J/45.J', '../../cineromycin_B/noe_J/45.noe'], ['../../cineromycin_B/noe_J/46.J', '../../cineromycin_B/noe_J/46.noe'], ['../../cineromycin_B/noe_J/47.J', '../../cineromycin_B/noe_J/47.noe'], ['../../cineromycin_B/noe_J/48.J', '../../cineromycin_B/noe_J/48.noe'], ['../../cineromycin_B/noe_J/49.J', '../../cineromycin_B/noe_J/49.noe'], ['../../cineromycin_B/noe_J/50.J', '../../cineromycin_B/noe_J/50.noe'], ['../../cineromycin_B/noe_J/51.J', '../../cineromycin_B/noe_J/51.noe'], ['../../cineromycin_B/noe_J/52.J', '../../cineromycin_B/noe_J/52.noe'], ['../../cineromycin_B/noe_J/53.J', '../../cineromycin_B/noe_J/53.noe'], ['../../cineromycin_B/noe_J/54.J', '../../cineromycin_B/noe_J/54.noe'], ['../../cineromycin_B/noe_J/55.J', '../../cineromycin_B/noe_J/55.noe'], ['../../cineromycin_B/noe_J/56.J', '../../cineromycin_B/noe_J/56.noe'], ['../../cineromycin_B/noe_J/57.J', '../../cineromycin_B/noe_J/57.noe'], ['../../cineromycin_B/noe_J/58.J', '../../cineromycin_B/noe_J/58.noe'], ['../../cineromycin_B/noe_J/59.J', '../../cineromycin_B/noe_J/59.noe'], ['../../cineromycin_B/noe_J/60.J', '../../cineromycin_B/noe_J/60.noe'], ['../../cineromycin_B/noe_J/61.J', '../../cineromycin_B/noe_J/61.noe'], ['../../cineromycin_B/noe_J/62.J', '../../cineromycin_B/noe_J/62.noe'], ['../../cineromycin_B/noe_J/63.J', '../../cineromycin_B/noe_J/63.noe'], ['../../cineromycin_B/noe_J/64.J', '../../cineromycin_B/noe_J/64.noe'], ['../../cineromycin_B/noe_J/65.J', '../../cineromycin_B/noe_J/65.noe'], ['../../cineromycin_B/noe_J/66.J', '../../cineromycin_B/noe_J/66.noe'], ['../../cineromycin_B/noe_J/67.J', '../../cineromycin_B/noe_J/67.noe'], ['../../cineromycin_B/noe_J/68.J', '../../cineromycin_B/noe_J/68.noe'], ['../../cineromycin_B/noe_J/69.J', '../../cineromycin_B/noe_J/69.noe'], ['../../cineromycin_B/noe_J/70.J', '../../cineromycin_B/noe_J/70.noe'], ['../../cineromycin_B/noe_J/71.J', '../../cineromycin_B/noe_J/71.noe'], ['../../cineromycin_B/noe_J/72.J', '../../cineromycin_B/noe_J/72.noe'], ['../../cineromycin_B/noe_J/73.J', '../../cineromycin_B/noe_J/73.noe'], ['../../cineromycin_B/noe_J/74.J', '../../cineromycin_B/noe_J/74.noe'], ['../../cineromycin_B/noe_J/75.J', '../../cineromycin_B/noe_J/75.noe'], ['../../cineromycin_B/noe_J/76.J', '../../cineromycin_B/noe_J/76.noe'], ['../../cineromycin_B/noe_J/77.J', '../../cineromycin_B/noe_J/77.noe'], ['../../cineromycin_B/noe_J/78.J', '../../cineromycin_B/noe_J/78.noe'], ['../../cineromycin_B/noe_J/79.J', '../../cineromycin_B/noe_J/79.noe'], ['../../cineromycin_B/noe_J/80.J', '../../cineromycin_B/noe_J/80.noe'], ['../../cineromycin_B/noe_J/81.J', '../../cineromycin_B/noe_J/81.noe'], ['../../cineromycin_B/noe_J/82.J', '../../cineromycin_B/noe_J/82.noe'], ['../../cineromycin_B/noe_J/83.J', '../../cineromycin_B/noe_J/83.noe'], ['../../cineromycin_B/noe_J/84.J', '../../cineromycin_B/noe_J/84.noe'], ['../../cineromycin_B/noe_J/85.J', '../../cineromycin_B/noe_J/85.noe'], ['../../cineromycin_B/noe_J/86.J', '../../cineromycin_B/noe_J/86.noe'], ['../../cineromycin_B/noe_J/87.J', '../../cineromycin_B/noe_J/87.noe'], ['../../cineromycin_B/noe_J/88.J', '../../cineromycin_B/noe_J/88.noe'], ['../../cineromycin_B/noe_J/89.J', '../../cineromycin_B/noe_J/89.noe'], ['../../cineromycin_B/noe_J/90.J', '../../cineromycin_B/noe_J/90.noe'], ['../../cineromycin_B/noe_J/91.J', '../../cineromycin_B/noe_J/91.noe'], ['../../cineromycin_B/noe_J/92.J', '../../cineromycin_B/noe_J/92.noe'], ['../../cineromycin_B/noe_J/93.J', '../../cineromycin_B/noe_J/93.noe'], ['../../cineromycin_B/noe_J/94.J', '../../cineromycin_B/noe_J/94.noe'], ['../../cineromycin_B/noe_J/95.J', '../../cineromycin_B/noe_J/95.noe'], ['../../cineromycin_B/noe_J/96.J', '../../cineromycin_B/noe_J/96.noe'], ['../../cineromycin_B/noe_J/97.J', '../../cineromycin_B/noe_J/97.noe'], ['../../cineromycin_B/noe_J/98.J', '../../cineromycin_B/noe_J/98.noe'], ['../../cineromycin_B/noe_J/99.J', '../../cineromycin_B/noe_J/99.noe']]\n",
      "100 2\n"
     ]
    }
   ],
   "source": [
    "data_dir = \"../../cineromycin_B/\"\n",
    "\n",
    "#########################################\n",
    "# Let's create our ensemble of structures\n",
    "############ Initialization #############    \n",
    "# Specify necessary argument values\n",
    "dataFiles = data_dir+'noe_J'                  # output directory of BICePs formated input file from this scripts\n",
    "out_dir=dataFiles       \n",
    "data = biceps.sort_data(dataFiles)   # sorting data in the folder and figure out what types of data are used\n",
    "print data\n",
    "print len(data),len(data[0])\n",
    "\n",
    "energies_filename =  data_dir+'cineromycinB_QMenergies.dat'\n",
    "energies = np.loadtxt(energies_filename)*627.509  # convert from hartrees to kcal/mol\n",
    "energies = energies/0.5959   # convert to reduced free energies F = f/kT\n",
    "energies -= energies.min()  # set ground state to zero, just in case\n",
    "outdir = data_dir+'results_ref_normal'\n",
    "\n",
    "# Make a new directory if we have to\n",
    "if not os.path.exists(outdir):\n",
    "    os.mkdir(outdir)"
   ]
  },
  {
   "cell_type": "code",
   "execution_count": 3,
   "metadata": {},
   "outputs": [
    {
     "name": "stdout",
     "output_type": "stream",
     "text": [
      "['J', 'noe']\n"
     ]
    }
   ],
   "source": [
    "res = biceps.list_res(data)\n",
    "print res"
   ]
  },
  {
   "cell_type": "markdown",
   "metadata": {},
   "source": [
    "Another key parameter for BICePs set-up is the type of reference potential for each experimental observables. More information of reference potential can be found [here](https://biceps.readthedocs.io/en/latest/theory.html).\n",
    "\n",
    "Three reference potentials are supported in BICePs: uniform ('uniform'), exponential ('exp'), Gaussian ('gau').  \n",
    "\n",
    "As we found in previous research, exponential reference potential is useful in most cases. Some higher level task may require more in reference potential selection (e.g [force field parametrization](https://pubs.acs.org/doi/10.1021/acs.jpcb.7b11871)).\n",
    "\n",
    "(Noet: It will be helpful to print out what is the order of experimental observables included in BICePs sampling as shown above.)"
   ]
  },
  {
   "cell_type": "code",
   "execution_count": 4,
   "metadata": {},
   "outputs": [],
   "source": [
    "ref=['uniform','exp']\n",
    "uncern=[[0.05,20.0,1.02],[0.05,5.0,1.02]]\n",
    "gamma = [0.2,5.0,1.01]"
   ]
  },
  {
   "cell_type": "markdown",
   "metadata": {},
   "source": [
    "#### Quick note on lambda values:\n",
    "We need to specify what lambda value(s) we want to use in BICePs samplings. Briefly, lambda values are similar to the parameters used in free energy perturbation (FEP) and has effect on the BICePs score. The lambda values represent how much prior information from computational modeling is included in BICePs sampling (1.0 means all, 0.0 means none). As we explained in [this work](https://pubs.acs.org/doi/10.1021/acs.jpcb.7b11871), one can consider BICePs score as the relative free energy change between different models. More lambda values will increase the samplings for [multistate Bennett acceptance ratio (MBAR)](http://www.alchemistry.org/wiki/Multistate_Bennett_Acceptance_Ratio) predictions in free energy change and populations. However more lambda values also will slow down the whole process of BICePs (as more samplings need to run), so balancing the accuracy and efficiency is important. To successfully finish a BICePs sampling, lambda values of 0.0 and 1.0 are necessary. Based on our experience, the lambda values of 0.0,0.5,1.0 are good enough for BICePs sampling.\n",
    "**In this tutorial, we will go through a single lambda (0.0) for simplicity.**"
   ]
  },
  {
   "cell_type": "code",
   "execution_count": 5,
   "metadata": {},
   "outputs": [
    {
     "name": "stdout",
     "output_type": "stream",
     "text": [
      "[[<biceps.Restraint.Restraint_J object at 0x1a1e181550>, <biceps.Restraint.Restraint_noe object at 0x1a1e181590>], [<biceps.Restraint.Restraint_J object at 0x1a1e170b50>, <biceps.Restraint.Restraint_noe object at 0x1a1e1705d0>], [<biceps.Restraint.Restraint_J object at 0x1a1e273490>, <biceps.Restraint.Restraint_noe object at 0x1a1e273550>], [<biceps.Restraint.Restraint_J object at 0x1a1e27da50>, <biceps.Restraint.Restraint_noe object at 0x1a1e27db10>], [<biceps.Restraint.Restraint_J object at 0x1a1e2900d0>, <biceps.Restraint.Restraint_noe object at 0x1a1e287f90>], [<biceps.Restraint.Restraint_J object at 0x1a1e290190>, <biceps.Restraint.Restraint_noe object at 0x1a1e1a3bd0>], [<biceps.Restraint.Restraint_J object at 0x1a1e2bba50>, <biceps.Restraint.Restraint_noe object at 0x1a1e2bbb10>], [<biceps.Restraint.Restraint_J object at 0x1a1e2cc0d0>, <biceps.Restraint.Restraint_noe object at 0x1a1e2cc190>], [<biceps.Restraint.Restraint_J object at 0x1a1e2b09d0>, <biceps.Restraint.Restraint_noe object at 0x1a1e2b0950>], [<biceps.Restraint.Restraint_J object at 0x1a1e2faa50>, <biceps.Restraint.Restraint_noe object at 0x1a1e2fab10>], [<biceps.Restraint.Restraint_J object at 0x1a1e30b0d0>, <biceps.Restraint.Restraint_noe object at 0x1a1e30b190>], [<biceps.Restraint.Restraint_J object at 0x1a1e324510>, <biceps.Restraint.Restraint_noe object at 0x1a1e3245d0>], [<biceps.Restraint.Restraint_J object at 0x1a1e2edd10>, <biceps.Restraint.Restraint_noe object at 0x1a1e2edc50>], [<biceps.Restraint.Restraint_J object at 0x1a1e31b050>, <biceps.Restraint.Restraint_noe object at 0x1a1e32c810>], [<biceps.Restraint.Restraint_J object at 0x1a1e33ded0>, <biceps.Restraint.Restraint_noe object at 0x1a1e346f90>], [<biceps.Restraint.Restraint_J object at 0x1a1e371a50>, <biceps.Restraint.Restraint_noe object at 0x1a1e371b10>], [<biceps.Restraint.Restraint_J object at 0x1a1e3830d0>, <biceps.Restraint.Restraint_noe object at 0x1a1e37bf90>], [<biceps.Restraint.Restraint_J object at 0x1a1e383190>, <biceps.Restraint.Restraint_noe object at 0x1a1e367b90>], [<biceps.Restraint.Restraint_J object at 0x1a1e3afa50>, <biceps.Restraint.Restraint_noe object at 0x1a1e3afb10>], [<biceps.Restraint.Restraint_J object at 0x1a1e3c00d0>, <biceps.Restraint.Restraint_noe object at 0x1a1e3c0190>], [<biceps.Restraint.Restraint_J object at 0x1a1e3a59d0>, <biceps.Restraint.Restraint_noe object at 0x1a1e3a5950>], [<biceps.Restraint.Restraint_J object at 0x1a1e3eca50>, <biceps.Restraint.Restraint_noe object at 0x1a1e3ecb10>], [<biceps.Restraint.Restraint_J object at 0x1a1e3fd0d0>, <biceps.Restraint.Restraint_noe object at 0x1a1e3fd190>], [<biceps.Restraint.Restraint_J object at 0x1a1e416510>, <biceps.Restraint.Restraint_noe object at 0x1a1e4165d0>], [<biceps.Restraint.Restraint_J object at 0x1a1e3e2d10>, <biceps.Restraint.Restraint_noe object at 0x1a1e3e2c50>], [<biceps.Restraint.Restraint_J object at 0x1a1e40e050>, <biceps.Restraint.Restraint_noe object at 0x1a1e41e810>], [<biceps.Restraint.Restraint_J object at 0x1a1e432ed0>, <biceps.Restraint.Restraint_noe object at 0x1a1e43cf90>], [<biceps.Restraint.Restraint_J object at 0x1a1e465a50>, <biceps.Restraint.Restraint_noe object at 0x1a1e465b10>], [<biceps.Restraint.Restraint_J object at 0x1a1e4760d0>, <biceps.Restraint.Restraint_noe object at 0x1a1e46ef90>], [<biceps.Restraint.Restraint_J object at 0x1a1e476190>, <biceps.Restraint.Restraint_noe object at 0x1a1e45cb90>], [<biceps.Restraint.Restraint_J object at 0x1a1e4a4a50>, <biceps.Restraint.Restraint_noe object at 0x1a1e4a4b10>], [<biceps.Restraint.Restraint_J object at 0x1a1e4b50d0>, <biceps.Restraint.Restraint_noe object at 0x1a1e4b5190>], [<biceps.Restraint.Restraint_J object at 0x1a1e49a9d0>, <biceps.Restraint.Restraint_noe object at 0x1a1e49a950>], [<biceps.Restraint.Restraint_J object at 0x1a1e4dfa50>, <biceps.Restraint.Restraint_noe object at 0x1a1e4dfb10>], [<biceps.Restraint.Restraint_J object at 0x1a1e4f10d0>, <biceps.Restraint.Restraint_noe object at 0x1a1e4f1190>], [<biceps.Restraint.Restraint_J object at 0x1a1e50a510>, <biceps.Restraint.Restraint_noe object at 0x1a1e50a5d0>], [<biceps.Restraint.Restraint_J object at 0x1a1e4d6d10>, <biceps.Restraint.Restraint_noe object at 0x1a1e4d6c50>], [<biceps.Restraint.Restraint_J object at 0x1a1e503050>, <biceps.Restraint.Restraint_noe object at 0x1a1e513810>], [<biceps.Restraint.Restraint_J object at 0x1a1e526ed0>, <biceps.Restraint.Restraint_noe object at 0x1a1e52ff90>], [<biceps.Restraint.Restraint_J object at 0x1a1e559a50>, <biceps.Restraint.Restraint_noe object at 0x1a1e559b10>], [<biceps.Restraint.Restraint_J object at 0x1a1e56c0d0>, <biceps.Restraint.Restraint_noe object at 0x1a1e562f90>], [<biceps.Restraint.Restraint_J object at 0x1a1e56c190>, <biceps.Restraint.Restraint_noe object at 0x1a1e551b90>], [<biceps.Restraint.Restraint_J object at 0x1a1e597a50>, <biceps.Restraint.Restraint_noe object at 0x1a1e597b10>], [<biceps.Restraint.Restraint_J object at 0x1a1e5aa0d0>, <biceps.Restraint.Restraint_noe object at 0x1a1e5aa190>], [<biceps.Restraint.Restraint_J object at 0x1a1e58d9d0>, <biceps.Restraint.Restraint_noe object at 0x1a1e58d950>], [<biceps.Restraint.Restraint_J object at 0x1a1e5d4a50>, <biceps.Restraint.Restraint_noe object at 0x1a1e5d4b10>], [<biceps.Restraint.Restraint_J object at 0x1a1e5e60d0>, <biceps.Restraint.Restraint_noe object at 0x1a1e5e6190>], [<biceps.Restraint.Restraint_J object at 0x1a1e5ff510>, <biceps.Restraint.Restraint_noe object at 0x1a1e5ff5d0>], [<biceps.Restraint.Restraint_J object at 0x1a1e5cad10>, <biceps.Restraint.Restraint_noe object at 0x1a1e5cac50>], [<biceps.Restraint.Restraint_J object at 0x1a1e5f6050>, <biceps.Restraint.Restraint_noe object at 0x1a1e608810>], [<biceps.Restraint.Restraint_J object at 0x1a1e619ed0>, <biceps.Restraint.Restraint_noe object at 0x1a1e622f90>], [<biceps.Restraint.Restraint_J object at 0x1a1e64ea50>, <biceps.Restraint.Restraint_noe object at 0x1a1e64eb10>], [<biceps.Restraint.Restraint_J object at 0x1a1e6600d0>, <biceps.Restraint.Restraint_noe object at 0x1a1e655f90>], [<biceps.Restraint.Restraint_J object at 0x1a1e660190>, <biceps.Restraint.Restraint_noe object at 0x1a1e643b90>], [<biceps.Restraint.Restraint_J object at 0x1a1e68ba50>, <biceps.Restraint.Restraint_noe object at 0x1a1e68bb10>], [<biceps.Restraint.Restraint_J object at 0x1a1e69e0d0>, <biceps.Restraint.Restraint_noe object at 0x1a1e69e190>], [<biceps.Restraint.Restraint_J object at 0x1a1e6829d0>, <biceps.Restraint.Restraint_noe object at 0x1a1e682950>], [<biceps.Restraint.Restraint_J object at 0x1a1e6caa50>, <biceps.Restraint.Restraint_noe object at 0x1a1e6cab10>], [<biceps.Restraint.Restraint_J object at 0x1a1e6da0d0>, <biceps.Restraint.Restraint_noe object at 0x1a1e6da190>], [<biceps.Restraint.Restraint_J object at 0x1a1e6f3510>, <biceps.Restraint.Restraint_noe object at 0x1a1e6f35d0>], [<biceps.Restraint.Restraint_J object at 0x1a1e6bfd10>, <biceps.Restraint.Restraint_noe object at 0x1a1e6bfc50>], [<biceps.Restraint.Restraint_J object at 0x1a1e6ea050>, <biceps.Restraint.Restraint_noe object at 0x1a1e6fc810>], [<biceps.Restraint.Restraint_J object at 0x1a1e70ded0>, <biceps.Restraint.Restraint_noe object at 0x1a1e717f90>], [<biceps.Restraint.Restraint_J object at 0x1a1e744a50>, <biceps.Restraint.Restraint_noe object at 0x1a1e744b10>], [<biceps.Restraint.Restraint_J object at 0x1a1e7560d0>, <biceps.Restraint.Restraint_noe object at 0x1a1e756190>], [<biceps.Restraint.Restraint_J object at 0x1a1e739c10>, <biceps.Restraint.Restraint_noe object at 0x1a1e1cb910>], [<biceps.Restraint.Restraint_J object at 0x1a1e181ed0>, <biceps.Restraint.Restraint_noe object at 0x1a1e181f90>], [<biceps.Restraint.Restraint_J object at 0x1a1e777f50>, <biceps.Restraint.Restraint_noe object at 0x1a1e1cbc10>], [<biceps.Restraint.Restraint_J object at 0x1a1e1e9ad0>, <biceps.Restraint.Restraint_noe object at 0x1a1e1e9b90>], [<biceps.Restraint.Restraint_J object at 0x1a1e1d0610>, <biceps.Restraint.Restraint_noe object at 0x1a1e1d0650>], [<biceps.Restraint.Restraint_J object at 0x1a1e23b410>, <biceps.Restraint.Restraint_noe object at 0x1a1e256590>], [<biceps.Restraint.Restraint_J object at 0x1a1e26cb50>, <biceps.Restraint.Restraint_noe object at 0x1a1e26cc10>], [<biceps.Restraint.Restraint_J object at 0x1a1e24d710>, <biceps.Restraint.Restraint_noe object at 0x1a1e24d750>], [<biceps.Restraint.Restraint_J object at 0x1a1e206410>, <biceps.Restraint.Restraint_noe object at 0x1a1e223590>], [<biceps.Restraint.Restraint_J object at 0x1a1e77cb50>, <biceps.Restraint.Restraint_noe object at 0x1a1e77cc10>], [<biceps.Restraint.Restraint_J object at 0x1a1e219710>, <biceps.Restraint.Restraint_noe object at 0x1a1e219750>], [<biceps.Restraint.Restraint_J object at 0x1a1e78f410>, <biceps.Restraint.Restraint_noe object at 0x1a1e7a6590>], [<biceps.Restraint.Restraint_J object at 0x1a1e7b9b50>, <biceps.Restraint.Restraint_noe object at 0x1a1e7b9c10>], [<biceps.Restraint.Restraint_J object at 0x1a1e7a0710>, <biceps.Restraint.Restraint_noe object at 0x1a1e7a0750>], [<biceps.Restraint.Restraint_J object at 0x1a1e7cb410>, <biceps.Restraint.Restraint_noe object at 0x1a1e7e3590>], [<biceps.Restraint.Restraint_J object at 0x1a1e7f6b50>, <biceps.Restraint.Restraint_noe object at 0x1a1e7f6c10>], [<biceps.Restraint.Restraint_J object at 0x1a1e7dc710>, <biceps.Restraint.Restraint_noe object at 0x1a1e7dc750>], [<biceps.Restraint.Restraint_J object at 0x1a1e808410>, <biceps.Restraint.Restraint_noe object at 0x1a1e81f590>], [<biceps.Restraint.Restraint_J object at 0x1a1e833b50>, <biceps.Restraint.Restraint_noe object at 0x1a1e833c10>], [<biceps.Restraint.Restraint_J object at 0x1a1e819710>, <biceps.Restraint.Restraint_noe object at 0x1a1e819750>], [<biceps.Restraint.Restraint_J object at 0x1a1e844410>, <biceps.Restraint.Restraint_noe object at 0x1a1e85c590>], [<biceps.Restraint.Restraint_J object at 0x1a1e871b50>, <biceps.Restraint.Restraint_noe object at 0x1a1e871c10>], [<biceps.Restraint.Restraint_J object at 0x1a1e854710>, <biceps.Restraint.Restraint_noe object at 0x1a1e854750>], [<biceps.Restraint.Restraint_J object at 0x1a1e883410>, <biceps.Restraint.Restraint_noe object at 0x1a1e89a590>], [<biceps.Restraint.Restraint_J object at 0x1a1e8aeb50>, <biceps.Restraint.Restraint_noe object at 0x1a1e8aec10>], [<biceps.Restraint.Restraint_J object at 0x1a1e894710>, <biceps.Restraint.Restraint_noe object at 0x1a1e894750>], [<biceps.Restraint.Restraint_J object at 0x1a1e8bf410>, <biceps.Restraint.Restraint_noe object at 0x1a1e8d7590>], [<biceps.Restraint.Restraint_J object at 0x1a1e8ebb50>, <biceps.Restraint.Restraint_noe object at 0x1a1e8ebc10>], [<biceps.Restraint.Restraint_J object at 0x1a1e8d0710>, <biceps.Restraint.Restraint_noe object at 0x1a1e8d0750>], [<biceps.Restraint.Restraint_J object at 0x1a1e8fa410>, <biceps.Restraint.Restraint_noe object at 0x1a1e914590>], [<biceps.Restraint.Restraint_J object at 0x1a1e926b50>, <biceps.Restraint.Restraint_noe object at 0x1a1e926c10>], [<biceps.Restraint.Restraint_J object at 0x1a1e90e710>, <biceps.Restraint.Restraint_noe object at 0x1a1e90e750>], [<biceps.Restraint.Restraint_J object at 0x1a1e939410>, <biceps.Restraint.Restraint_noe object at 0x1a1e951590>], [<biceps.Restraint.Restraint_J object at 0x1a1e962b50>, <biceps.Restraint.Restraint_noe object at 0x1a1e962c10>], [<biceps.Restraint.Restraint_J object at 0x1a1e949710>, <biceps.Restraint.Restraint_noe object at 0x1a1e949750>]]\n"
     ]
    }
   ],
   "source": [
    "lam = 1.0\n",
    "verbose = False # True\n",
    "# We will instantiate a number of Structure() objects to construct the ensemble\n",
    "ensemble = []\n",
    "for i in range(energies.shape[0]):\n",
    "    if verbose:\n",
    "        print '\\n#### STRUCTURE %d ####'%i\n",
    "    ensemble.append([])\n",
    "    for k in range(len(data[0])):\n",
    "        File = data[i][k]\n",
    "        if verbose:\n",
    "            print File\n",
    "        R = biceps.init_res(data_dir+'cineromycinB_pdbs/0.fixed.pdb',\n",
    "                          lam,energies[i],File,ref[k],uncern[k],gamma)\n",
    "        ensemble[-1].append(R)\n",
    "print ensemble"
   ]
  },
  {
   "cell_type": "markdown",
   "metadata": {},
   "source": [
    "Let's save the ensemble as a pickle"
   ]
  },
  {
   "cell_type": "code",
   "execution_count": 6,
   "metadata": {},
   "outputs": [],
   "source": [
    "import cPickle as pickle\n",
    "with open(data_dir+\"ensemble.pkl\",'wb') as file:\n",
    "    pickle.dump(ensemble, file)"
   ]
  },
  {
   "cell_type": "markdown",
   "metadata": {},
   "source": [
    "### Conclusion###\n",
    "In this tutorial, we explained how to use [Restraint](https://biceps.readthedocs.io/en/latest/api.html#restraint) to construct the ensemble, which we saved as a pickle file. In the next tutorial, [PosteriorSampler](https://biceps.readthedocs.io/en/latest/examples/Tutorials/Prep_Rest_Post_Ana/posteriorsampler.html) we will Sample the posterior distribution by using the `PosteriorSampler` class."
   ]
  },
  {
   "cell_type": "markdown",
   "metadata": {},
   "source": [
    "<h6 style=\"align: justify;font-size: 12pt\"># <span style=\"color:red;\">NOTE</span>: The following cell is for pretty notebook rendering</h6>"
   ]
  },
  {
   "cell_type": "code",
   "execution_count": 7,
   "metadata": {},
   "outputs": [
    {
     "data": {
      "text/html": [
       "\n",
       "<style>\n",
       "    @font-face {\n",
       "        font-family: \"Computer Modern\";\n",
       "        src: url('http://mirrors.ctan.org/fonts/cm-unicode/fonts/otf/cmunss.otf');\n",
       "    }\n",
       "    #notebook { /* centers the page content */\n",
       "    padding-left:8%;\n",
       "    padding-right:9%;\n",
       "    }\n",
       "    #ipython-main-app {\n",
       "        position: relative;\n",
       "    }\n",
       "    #jupyter-main-app {\n",
       "        position: relative;\n",
       "    }\n",
       "    div.cell{\n",
       "        width:98%;\n",
       "        margin-left:4% !important;*/\n",
       "        margin-right:4%;\n",
       "    }\n",
       "    h1 {\n",
       "        font-family: \"Charis SIL\", Palatino, serif;\n",
       "        text-align: center;\n",
       "    }\n",
       "    h4{\n",
       "        margin-top:12px;\n",
       "        margin-bottom: 3px;\n",
       "       }\n",
       "    div.text_cell_render{\n",
       "        font-family: Computer Modern, \"Helvetica Neue\", Arial, Helvetica, Geneva, sans-serif;\n",
       "        line-height: 145%;\n",
       "        font-size: 12pt;\n",
       "        width:99%;\n",
       "        margin-left:auto;\n",
       "        margin-right:auto;\n",
       "    }\n",
       "    .output_png {\n",
       "        display: block;/*table-cell;*/\n",
       "        text-align: center;\n",
       "        align: center;\n",
       "        vertical-align: middle;\n",
       "        margin-left: auto;\n",
       "        margin-right: auto;\n",
       "        width: 100%;\n",
       "    }\n",
       "    div.output_area pre {font-weight: normal; text-align: justify; }\n",
       "    .warning{\n",
       "        color: rgb( 240, 20, 20 )\n",
       "        }\n",
       "    .CodeMirror{\n",
       "            font-family: \"Source Code Pro\", source-code-pro,Consolas, monospace;\n",
       "    }\n",
       "    .prompt{\n",
       "        display: None;\n",
       "    }\n",
       "    .text_cell_render h5 {\n",
       "        font-weight: 300;\n",
       "        font-size: 16pt;\n",
       "        color: #4057A1;\n",
       "        font-style: italic;\n",
       "        margin-bottom: .5em;\n",
       "        margin-top: 0.5em;\n",
       "        display: block;\n",
       "    }\n",
       "    /* override table width restrictions as found on https://github.com/getpelican/pelican/issues/1311 */\n",
       "    .wy-table-responsive table td, .wy-table-responsive table th {\n",
       "        /* !important prevents the common CSS stylesheets from\n",
       "           overriding this as on RTD they are loaded after this stylesheet */\n",
       "        white-space: normal !important;\n",
       "    }\n",
       "\n",
       "    .wy-table-responsive {\n",
       "        overflow: visible !important;\n",
       "    }\n",
       "</style>\n",
       "\n",
       "<!-- MathJax configuration -->\n",
       "<script type=\"text/x-mathjax-config\">\n",
       "    src=\"http://cdn.mathjax.org/mathjax/latest/MathJax.js?config=TeX-AMS-MML_HTMLorMML\">\n",
       "    MathJax.Hub.Config({\n",
       "                        TeX: {\n",
       "                           extensions: [\"AMSmath.js\"]\n",
       "                           },\n",
       "                tex2jax: {\n",
       "                    inlineMath: [ ['$','$'], [\"\\\\(\",\"\\\\)\"] ],\n",
       "                    displayMath: [ ['$$','$$'], [\"\\\\[\",\"\\\\]\"] ]\n",
       "                },\n",
       "                displayAlign: 'center', // Change this to 'center' to center equations.\n",
       "                \"HTML-CSS\": {\n",
       "                    styles: {'.MathJax_Display': {\"margin\": 4}},\n",
       "                    linebreaks: { automatic: true }}\n",
       "        });\n",
       "</script>\n"
      ],
      "text/plain": [
       "<IPython.core.display.HTML object>"
      ]
     },
     "execution_count": 7,
     "metadata": {},
     "output_type": "execute_result"
    }
   ],
   "source": [
    "from IPython.core.display import HTML\n",
    "def css_styling():\n",
    "    styles = open(\"../../../theme.css\", \"r\").read()\n",
    "    return HTML(styles)\n",
    "css_styling()"
   ]
  }
 ],
 "metadata": {
  "kernelspec": {
   "display_name": "Python 2",
   "language": "python",
   "name": "python2"
  },
  "language_info": {
   "codemirror_mode": {
    "name": "ipython",
    "version": 2
   },
   "file_extension": ".py",
   "mimetype": "text/x-python",
   "name": "python",
   "nbconvert_exporter": "python",
   "pygments_lexer": "ipython2",
   "version": "2.7.16"
  }
 },
 "nbformat": 4,
 "nbformat_minor": 2
}
