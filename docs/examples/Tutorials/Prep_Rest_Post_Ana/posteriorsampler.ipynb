{
 "cells": [
  {
   "cell_type": "markdown",
   "metadata": {},
   "source": [
    "<h1 style=\"align: center;font-size: 18pt;\">PosteriorSampler</h1>\n",
    "\n",
    "<hr style=\"height:2.5px\">\n",
    "\n",
    "In this tutorial, we will perform sampling when given an ensemble. Previously, in the [Restraint](https://biceps.readthedocs.io/en/latest/examples/Tutorials/Prep_Rest_Post_Ana/restraint.html) tutorial we constructed ensembles for two lambda values and saved them to pickle files.  Please read the section [lambda values](https://biceps.readthedocs.io/en/latest/examples/Tutorials/Prep_Rest_Post_Ana/restraint.ipynb#Quick-note-on-lambda-values:) in the previous tutorial for more information.\n",
    "\n",
    "<hr style=\"height:2.5px\">"
   ]
  },
  {
   "cell_type": "code",
   "execution_count": 1,
   "metadata": {},
   "outputs": [
    {
     "name": "stdout",
     "output_type": "stream",
     "text": [
      "BICePs - Bayesian Inference of Conformational Populations, Version 2.0\n"
     ]
    }
   ],
   "source": [
    "import sys, os\n",
    "import pickle\n",
    "import numpy as np\n",
    "import biceps"
   ]
  },
  {
   "cell_type": "code",
   "execution_count": 2,
   "metadata": {},
   "outputs": [],
   "source": [
    "outdir = 'results'\n",
    "n_lambdas = 2\n",
    "lambda_values = np.linspace(0.0, 1.0, n_lambdas)\n",
    "ensembles = []\n",
    "for lam in lambda_values:\n",
    "    with open(outdir+\"/ensemble_%s.pkl\"%lam,'rb') as file:\n",
    "        ensemble = pickle.load(file)\n",
    "    ensembles.append(ensemble)"
   ]
  },
  {
   "cell_type": "markdown",
   "metadata": {},
   "source": [
    "Next, we need to specify number of steps for BICePs sampling. We recommend to run at least 1M steps for converged Monte Carlo samplings.  Checking the convergence of the MCMC trajectory can be done simply using the submodule, `biceps.convergence`. More information can be found [here](https://biceps.readthedocs.io/en/latest/api.html#convergence).\n",
    "\n",
    "\n",
    "Using the first ensemble of the list of `ensembles`...\n"
   ]
  },
  {
   "cell_type": "code",
   "execution_count": 3,
   "metadata": {},
   "outputs": [],
   "source": [
    "nsteps = 1000000 # number of steps of MCMC simulation\n",
    "sampler = biceps.PosteriorSampler(ensembles[0].to_list())"
   ]
  },
  {
   "cell_type": "markdown",
   "metadata": {},
   "source": [
    "Then, we sample for 1 M steps..."
   ]
  },
  {
   "cell_type": "code",
   "execution_count": 4,
   "metadata": {},
   "outputs": [
    {
     "name": "stdout",
     "output_type": "stream",
     "text": [
      "Step\tState\tPara Indices\t\tEnergy\t\tAcceptance (%)\n",
      "0\t0\t[[152], [116, 162]]\t112.572\t\t100.00\n",
      "10000\t32\t[[218], [136, 189]]\t7.430\t\t70.62\n",
      "20000\t23\t[[262], [157, 179]]\t11.701\t\t69.75\n",
      "30000\t21\t[[260], [126, 187]]\t6.048\t\t69.36\n",
      "40000\t7\t[[236], [123, 193]]\t7.971\t\t70.81\n",
      "50000\t8\t[[258], [138, 192]]\t9.636\t\t71.01\n",
      "60000\t47\t[[229], [154, 192]]\t10.725\t\t70.85\n",
      "70000\t87\t[[234], [137, 206]]\t6.883\t\t71.04\n",
      "80000\t81\t[[247], [147, 187]]\t10.046\t\t71.34\n",
      "90000\t77\t[[230], [143, 204]]\t7.720\t\t71.99\n",
      "100000\t45\t[[284], [142, 199]]\t10.681\t\t72.13\n",
      "110000\t21\t[[241], [123, 189]]\t5.264\t\t72.85\n",
      "120000\t79\t[[217], [131, 186]]\t6.894\t\t72.46\n",
      "130000\t65\t[[264], [150, 175]]\t10.793\t\t72.43\n",
      "140000\t79\t[[246], [135, 191]]\t6.440\t\t72.41\n",
      "150000\t87\t[[230], [147, 192]]\t5.981\t\t72.39\n",
      "160000\t79\t[[225], [145, 192]]\t6.794\t\t72.31\n",
      "170000\t21\t[[227], [124, 195]]\t6.253\t\t72.27\n",
      "180000\t87\t[[237], [135, 200]]\t5.615\t\t72.25\n",
      "190000\t21\t[[258], [118, 189]]\t5.765\t\t72.06\n",
      "200000\t34\t[[237], [142, 191]]\t9.893\t\t71.98\n",
      "210000\t27\t[[270], [127, 201]]\t8.125\t\t71.78\n",
      "220000\t87\t[[216], [135, 204]]\t5.998\t\t71.75\n",
      "230000\t65\t[[269], [131, 188]]\t9.329\t\t71.75\n",
      "240000\t57\t[[258], [133, 189]]\t9.840\t\t71.88\n",
      "250000\t93\t[[277], [156, 202]]\t12.058\t\t72.06\n",
      "260000\t88\t[[255], [142, 203]]\t9.522\t\t72.36\n",
      "270000\t87\t[[220], [128, 193]]\t5.227\t\t72.40\n",
      "280000\t24\t[[243], [165, 194]]\t11.893\t\t72.39\n",
      "290000\t67\t[[252], [147, 182]]\t9.399\t\t72.42\n",
      "300000\t25\t[[231], [133, 194]]\t8.885\t\t72.55\n",
      "310000\t21\t[[264], [120, 194]]\t5.981\t\t72.45\n",
      "320000\t27\t[[242], [132, 203]]\t6.487\t\t72.45\n",
      "330000\t33\t[[231], [138, 198]]\t9.738\t\t72.38\n",
      "340000\t59\t[[260], [133, 192]]\t7.352\t\t72.33\n",
      "350000\t58\t[[261], [133, 192]]\t9.170\t\t72.52\n",
      "360000\t21\t[[244], [126, 195]]\t5.385\t\t72.54\n",
      "370000\t67\t[[254], [141, 195]]\t7.328\t\t72.49\n",
      "380000\t92\t[[238], [126, 192]]\t9.221\t\t72.38\n",
      "390000\t51\t[[257], [145, 185]]\t9.749\t\t72.31\n",
      "400000\t21\t[[240], [117, 193]]\t5.362\t\t72.30\n",
      "410000\t17\t[[237], [140, 188]]\t7.636\t\t72.34\n",
      "420000\t21\t[[223], [129, 197]]\t7.303\t\t72.29\n",
      "430000\t21\t[[261], [116, 186]]\t6.818\t\t72.26\n",
      "440000\t21\t[[262], [152, 207]]\t11.106\t\t72.27\n",
      "450000\t21\t[[254], [139, 199]]\t7.219\t\t72.27\n",
      "460000\t7\t[[252], [133, 196]]\t7.536\t\t72.31\n",
      "470000\t18\t[[246], [145, 195]]\t9.958\t\t72.28\n",
      "480000\t90\t[[233], [124, 183]]\t8.761\t\t72.35\n",
      "490000\t87\t[[229], [132, 198]]\t5.066\t\t72.46\n",
      "500000\t27\t[[232], [139, 196]]\t6.295\t\t72.46\n",
      "510000\t87\t[[204], [145, 204]]\t6.982\t\t72.43\n",
      "520000\t79\t[[225], [136, 189]]\t6.152\t\t72.45\n",
      "530000\t0\t[[234], [122, 190]]\t8.107\t\t72.48\n",
      "540000\t26\t[[273], [141, 179]]\t12.469\t\t72.49\n",
      "550000\t45\t[[255], [128, 183]]\t8.214\t\t72.49\n",
      "560000\t99\t[[238], [157, 187]]\t11.492\t\t72.52\n",
      "570000\t54\t[[237], [128, 196]]\t9.594\t\t72.46\n",
      "580000\t79\t[[268], [130, 186]]\t8.581\t\t72.41\n",
      "590000\t21\t[[244], [126, 190]]\t5.191\t\t72.35\n",
      "600000\t67\t[[249], [133, 186]]\t8.177\t\t72.40\n",
      "610000\t6\t[[240], [137, 173]]\t11.433\t\t72.46\n",
      "620000\t1\t[[244], [119, 186]]\t11.108\t\t72.42\n",
      "630000\t27\t[[233], [129, 200]]\t6.127\t\t72.44\n",
      "640000\t21\t[[267], [125, 182]]\t7.897\t\t72.41\n",
      "650000\t66\t[[242], [128, 190]]\t8.590\t\t72.45\n",
      "660000\t2\t[[247], [141, 191]]\t8.552\t\t72.43\n",
      "670000\t27\t[[243], [135, 192]]\t6.733\t\t72.45\n",
      "680000\t45\t[[232], [126, 188]]\t7.383\t\t72.43\n",
      "690000\t79\t[[213], [131, 191]]\t6.810\t\t72.44\n",
      "700000\t87\t[[211], [132, 201]]\t5.560\t\t72.43\n",
      "710000\t51\t[[254], [137, 192]]\t8.606\t\t72.47\n",
      "720000\t67\t[[263], [154, 206]]\t10.439\t\t72.52\n",
      "730000\t87\t[[233], [138, 194]]\t5.290\t\t72.56\n",
      "740000\t87\t[[220], [140, 191]]\t5.349\t\t72.53\n",
      "750000\t27\t[[243], [127, 190]]\t7.733\t\t72.58\n",
      "760000\t17\t[[226], [151, 191]]\t8.261\t\t72.60\n",
      "770000\t87\t[[226], [126, 198]]\t5.354\t\t72.60\n",
      "780000\t79\t[[233], [133, 194]]\t6.043\t\t72.60\n",
      "790000\t21\t[[244], [114, 193]]\t5.593\t\t72.57\n",
      "800000\t21\t[[260], [119, 196]]\t6.185\t\t72.56\n",
      "810000\t79\t[[264], [141, 201]]\t9.305\t\t72.61\n",
      "820000\t21\t[[253], [117, 187]]\t6.042\t\t72.65\n",
      "830000\t87\t[[238], [153, 185]]\t7.875\t\t72.63\n",
      "840000\t70\t[[278], [150, 197]]\t11.936\t\t72.66\n",
      "850000\t21\t[[264], [117, 191]]\t5.985\t\t72.68\n",
      "860000\t79\t[[231], [130, 187]]\t6.263\t\t72.69\n",
      "870000\t90\t[[238], [134, 186]]\t8.539\t\t72.65\n",
      "880000\t80\t[[241], [134, 196]]\t9.390\t\t72.61\n",
      "890000\t92\t[[241], [133, 187]]\t8.591\t\t72.61\n",
      "900000\t7\t[[249], [140, 188]]\t8.085\t\t72.58\n",
      "910000\t75\t[[248], [164, 190]]\t11.923\t\t72.59\n",
      "920000\t5\t[[208], [143, 197]]\t13.619\t\t72.56\n",
      "930000\t70\t[[256], [139, 182]]\t11.085\t\t72.55\n",
      "940000\t34\t[[241], [127, 203]]\t11.270\t\t72.55\n",
      "950000\t35\t[[252], [153, 182]]\t10.645\t\t72.61\n",
      "960000\t87\t[[239], [143, 196]]\t5.874\t\t72.63\n",
      "970000\t32\t[[234], [138, 173]]\t8.761\t\t72.66\n",
      "980000\t87\t[[199], [130, 193]]\t6.578\t\t72.65\n",
      "990000\t21\t[[239], [134, 197]]\t6.236\t\t72.57\n",
      "\n",
      "Accepted 72.5852 % \n",
      "\n",
      "\n",
      "Accepted [32.7525 31.2572 31.2572  8.5755] % \n",
      "\n"
     ]
    }
   ],
   "source": [
    "sampler.sample(nsteps=nsteps, print_freq=10000, verbose=True)"
   ]
  },
  {
   "cell_type": "markdown",
   "metadata": {},
   "source": [
    "Now, process and save the results for the next step, `Analysis`."
   ]
  },
  {
   "cell_type": "code",
   "execution_count": 5,
   "metadata": {},
   "outputs": [
    {
     "name": "stdout",
     "output_type": "stream",
     "text": [
      "...Done.\n"
     ]
    }
   ],
   "source": [
    "lam = lambda_values[0]\n",
    "sampler.traj.process_results(outdir+'/traj_lambda%2.2f.npz'%(lam))\n",
    "outfilename = 'sampler_lambda%2.2f.pkl'%(lam)\n",
    "fout = open(os.path.join(outdir, outfilename), 'wb')\n",
    "pickle.dump(sampler, fout)\n",
    "fout.close()\n",
    "print('...Done.')"
   ]
  },
  {
   "cell_type": "markdown",
   "metadata": {},
   "source": [
    "Then, we will do the same thing for the second ensemble in the list of `ensembles`.  **Note that we separated them for simplicity of the tutorial.**"
   ]
  },
  {
   "cell_type": "code",
   "execution_count": 6,
   "metadata": {},
   "outputs": [
    {
     "name": "stdout",
     "output_type": "stream",
     "text": [
      "\n",
      "Accepted 65.7684 % \n",
      "\n",
      "\n",
      "Accepted [32.7143 31.458  31.458   1.5961] % \n",
      "\n",
      "...Done.\n"
     ]
    }
   ],
   "source": [
    "lam = lambda_values[1]\n",
    "sampler = biceps.PosteriorSampler(ensembles[1].to_list())\n",
    "sampler.sample(nsteps=nsteps, verbose=False)\n",
    "sampler.traj.process_results(outdir+'/traj_lambda%2.2f.npz'%(lam))\n",
    "outfilename = 'sampler_lambda%2.2f.pkl'%(lam)\n",
    "fout = open(os.path.join(outdir, outfilename), 'wb')\n",
    "pickle.dump(sampler, fout)\n",
    "fout.close()\n",
    "print('...Done.')"
   ]
  },
  {
   "cell_type": "markdown",
   "metadata": {},
   "source": [
    "<h1 style=\"text-align: center;font-size: 18pt;\">Conclusion</h1>\n",
    "\n",
    "In this tutorial, we used the `PosteriorSampler` class to perform MCMC sampling given the ensemble Python object. In the [next tutorial](https://biceps.readthedocs.io/en/latest/examples/Tutorials/Prep_Rest_Post_Ana/analysis.html), we will analyze our trajectory data."
   ]
  },
  {
   "cell_type": "markdown",
   "metadata": {},
   "source": [
    "<h6 style=\"align: justify;font-size: 12pt\"># <span style=\"color:red;\">NOTE</span>: The following cell is for pretty notebook rendering</h6>"
   ]
  },
  {
   "cell_type": "code",
   "execution_count": 1,
   "metadata": {},
   "outputs": [
    {
     "data": {
      "text/html": [
       "\n",
       "<style>\n",
       "    @font-face {\n",
       "        font-family: \"Computer Modern\";\n",
       "        src: url('http://mirrors.ctan.org/fonts/cm-unicode/fonts/otf/cmunss.otf');\n",
       "    }\n",
       "    #notebook { /* centers the page content */\n",
       "    padding-left:8%;\n",
       "    padding-right:9%;\n",
       "    }\n",
       "    #ipython-main-app {\n",
       "        position: relative;\n",
       "    }\n",
       "    #jupyter-main-app {\n",
       "        position: relative;\n",
       "    }\n",
       "    div.cell{\n",
       "        width:98%;\n",
       "        margin-left:4% !important;*/\n",
       "        margin-right:4%;\n",
       "    }\n",
       "    h1 {\n",
       "        font-family: \"Charis SIL\", Palatino, serif;\n",
       "        text-align: center;\n",
       "    }\n",
       "    h4{\n",
       "        margin-top:12px;\n",
       "        margin-bottom: 3px;\n",
       "       }\n",
       "    div.text_cell_render{\n",
       "        font-family: Computer Modern, \"Helvetica Neue\", Arial, Helvetica, Geneva, sans-serif;\n",
       "        line-height: 145%;\n",
       "        font-size: 12pt;\n",
       "        width:99%;\n",
       "        margin-left:auto;\n",
       "        margin-right:auto;\n",
       "    }\n",
       "    .output_png {\n",
       "        display: block;/*table-cell;*/\n",
       "        text-align: center;\n",
       "        align: center;\n",
       "        vertical-align: middle;\n",
       "        margin-left: auto;\n",
       "        margin-right: auto;\n",
       "        width: 100%;\n",
       "    }\n",
       "    div.output_area pre {font-weight: normal; text-align: justify; }\n",
       "    .warning{\n",
       "        color: rgb( 240, 20, 20 )\n",
       "        }\n",
       "    .CodeMirror{\n",
       "            font-family: \"Source Code Pro\", source-code-pro,Consolas, monospace;\n",
       "    }\n",
       "    .prompt{\n",
       "        display: None;\n",
       "    }\n",
       "    .text_cell_render h5 {\n",
       "        font-weight: 300;\n",
       "        font-size: 16pt;\n",
       "        color: #4057A1;\n",
       "        font-style: italic;\n",
       "        margin-bottom: .5em;\n",
       "        margin-top: 0.5em;\n",
       "        display: block;\n",
       "    }\n",
       "    /* override table width restrictions as found on https://github.com/getpelican/pelican/issues/1311 */\n",
       "    .wy-table-responsive table td, .wy-table-responsive table th {\n",
       "        /* !important prevents the common CSS stylesheets from\n",
       "           overriding this as on RTD they are loaded after this stylesheet */\n",
       "        white-space: normal !important;\n",
       "    }\n",
       "\n",
       "    .wy-table-responsive {\n",
       "        overflow: visible !important;\n",
       "    }\n",
       "</style>\n",
       "\n",
       "<!-- MathJax configuration -->\n",
       "<script type=\"text/x-mathjax-config\">\n",
       "    src=\"http://cdn.mathjax.org/mathjax/latest/MathJax.js?config=TeX-AMS-MML_HTMLorMML\">\n",
       "    MathJax.Hub.Config({\n",
       "                        TeX: {\n",
       "                           extensions: [\"AMSmath.js\"]\n",
       "                           },\n",
       "                tex2jax: {\n",
       "                    inlineMath: [ ['$','$'], [\"\\\\(\",\"\\\\)\"] ],\n",
       "                    displayMath: [ ['$$','$$'], [\"\\\\[\",\"\\\\]\"] ]\n",
       "                },\n",
       "                displayAlign: 'center', // Change this to 'center' to center equations.\n",
       "                \"HTML-CSS\": {\n",
       "                    styles: {'.MathJax_Display': {\"margin\": 4}},\n",
       "                    linebreaks: { automatic: true }}\n",
       "        });\n",
       "</script>\n"
      ],
      "text/plain": [
       "<IPython.core.display.HTML object>"
      ]
     },
     "execution_count": 1,
     "metadata": {},
     "output_type": "execute_result"
    }
   ],
   "source": [
    "from IPython.core.display import HTML\n",
    "def css_styling():\n",
    "    styles = open(\"../../../theme.css\", \"r\").read()\n",
    "    return HTML(styles)\n",
    "css_styling()"
   ]
  }
 ],
 "metadata": {
  "kernelspec": {
   "display_name": "Python 3",
   "language": "python",
   "name": "python3"
  },
  "language_info": {
   "codemirror_mode": {
    "name": "ipython",
    "version": 3
   },
   "file_extension": ".py",
   "mimetype": "text/x-python",
   "name": "python",
   "nbconvert_exporter": "python",
   "pygments_lexer": "ipython3",
   "version": "3.7.3"
  }
 },
 "nbformat": 4,
 "nbformat_minor": 2
}
