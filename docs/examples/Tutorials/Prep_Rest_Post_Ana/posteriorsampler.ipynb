{
 "cells": [
  {
   "cell_type": "markdown",
   "metadata": {},
   "source": [
    "<h1 style=\"align: center;font-size: 18pt;\">PosteriorSampler</h1>\n",
    "\n",
    "<hr style=\"height:2.5px\">\n",
    "\n",
    "In this tutorial, we will perform sampling when given an ensemble. Previously, in the [Restraint](https://biceps.readthedocs.io/en/latest/examples/Tutorials/Prep_Rest_Post_Ana/restraint.html) tutorial we constructed ensembles for two lambda values and saved them to pickle files.  Please read the section [lambda values](https://biceps.readthedocs.io/en/latest/examples/Tutorials/Prep_Rest_Post_Ana/restraint.ipynb#Quick-note-on-lambda-values:) in the previous tutorial for more information.\n",
    "\n",
    "<hr style=\"height:2.5px\">"
   ]
  },
  {
   "cell_type": "code",
   "execution_count": 1,
   "metadata": {},
   "outputs": [
    {
     "name": "stdout",
     "output_type": "stream",
     "text": [
      "BICePs - Bayesian Inference of Conformational Populations, Version 2.0\n"
     ]
    }
   ],
   "source": [
    "import sys, os\n",
    "import pickle\n",
    "import numpy as np\n",
    "import biceps"
   ]
  },
  {
   "cell_type": "code",
   "execution_count": 2,
   "metadata": {},
   "outputs": [],
   "source": [
    "outdir = 'results'\n",
    "n_lambdas = 2\n",
    "lambda_values = np.linspace(0.0, 1.0, n_lambdas)\n",
    "ensembles = []\n",
    "for lam in lambda_values:\n",
    "    with open(outdir+\"/ensemble_%s.pkl\"%lam,'rb') as file:\n",
    "        ensemble = pickle.load(file)\n",
    "    ensembles.append(ensemble)"
   ]
  },
  {
   "cell_type": "markdown",
   "metadata": {},
   "source": [
    "Next, we need to specify number of steps for BICePs sampling. We recommend to run at least 1M steps for converged Monte Carlo samplings.  Checking the convergence of the MCMC trajectory can be done simply using the submodule, `biceps.convergence`. More information can be found [here](https://biceps.readthedocs.io/en/latest/api.html#convergence).\n",
    "\n",
    "\n",
    "Using the first ensemble of the list of `ensembles`...\n"
   ]
  },
  {
   "cell_type": "code",
   "execution_count": 3,
   "metadata": {},
   "outputs": [],
   "source": [
    "nsteps = 1000000 # number of steps of MCMC simulation\n",
    "sampler = biceps.PosteriorSampler(ensembles[0].to_list())"
   ]
  },
  {
   "cell_type": "markdown",
   "metadata": {},
   "source": [
    "Then, we sample for 1 M steps..."
   ]
  },
  {
   "cell_type": "code",
   "execution_count": 4,
   "metadata": {},
   "outputs": [
    {
     "name": "stdout",
     "output_type": "stream",
     "text": [
      "Step\t\tState\tPara Indices\t\tEnergy\t\tAcceptance (%)\n",
      "0\t\t64\t[[151], [151, 162]]\t122.232\t\t100.00\n",
      "10000\t\t21\t[[226], [122, 193]]\t6.143\t\t66.54\n",
      "20000\t\t23\t[[219], [143, 200]]\t9.472\t\t69.43\n",
      "30000\t\t7\t[[260], [160, 192]]\t11.048\t\t70.61\n",
      "40000\t\t21\t[[267], [130, 199]]\t7.330\t\t71.99\n",
      "50000\t\t87\t[[216], [146, 186]]\t6.547\t\t71.15\n",
      "60000\t\t87\t[[247], [135, 202]]\t6.638\t\t71.79\n",
      "70000\t\t17\t[[249], [126, 197]]\t7.125\t\t71.99\n",
      "80000\t\t87\t[[232], [136, 188]]\t6.064\t\t71.91\n",
      "90000\t\t87\t[[223], [152, 205]]\t7.014\t\t72.27\n",
      "100000\t\t17\t[[247], [131, 195]]\t6.789\t\t71.86\n",
      "110000\t\t87\t[[240], [137, 192]]\t5.820\t\t71.56\n",
      "120000\t\t87\t[[213], [136, 193]]\t5.145\t\t71.43\n",
      "130000\t\t0\t[[236], [152, 195]]\t8.913\t\t71.22\n",
      "140000\t\t27\t[[252], [141, 204]]\t7.263\t\t71.57\n",
      "150000\t\t79\t[[273], [147, 193]]\t9.608\t\t72.15\n",
      "160000\t\t36\t[[248], [152, 191]]\t10.025\t\t72.45\n",
      "170000\t\t87\t[[235], [143, 202]]\t6.091\t\t72.76\n",
      "180000\t\t16\t[[251], [156, 204]]\t10.732\t\t72.86\n",
      "190000\t\t32\t[[230], [148, 188]]\t7.978\t\t72.94\n",
      "200000\t\t79\t[[249], [135, 190]]\t6.643\t\t73.07\n",
      "210000\t\t8\t[[261], [139, 203]]\t10.875\t\t73.07\n",
      "220000\t\t38\t[[246], [134, 185]]\t7.868\t\t73.15\n",
      "230000\t\t42\t[[228], [125, 180]]\t11.622\t\t73.05\n",
      "240000\t\t32\t[[249], [127, 185]]\t8.018\t\t72.92\n",
      "250000\t\t67\t[[235], [135, 200]]\t6.736\t\t72.90\n",
      "260000\t\t27\t[[212], [142, 203]]\t8.650\t\t72.87\n",
      "270000\t\t17\t[[253], [132, 194]]\t7.160\t\t72.98\n",
      "280000\t\t45\t[[241], [120, 187]]\t7.668\t\t72.98\n",
      "290000\t\t23\t[[255], [132, 193]]\t7.526\t\t73.01\n",
      "300000\t\t67\t[[241], [134, 193]]\t6.549\t\t72.98\n",
      "310000\t\t27\t[[249], [125, 196]]\t6.770\t\t72.98\n",
      "320000\t\t34\t[[275], [144, 200]]\t11.195\t\t73.12\n",
      "330000\t\t77\t[[231], [131, 196]]\t8.220\t\t73.04\n",
      "340000\t\t79\t[[227], [136, 189]]\t6.108\t\t73.03\n",
      "350000\t\t94\t[[241], [163, 194]]\t10.760\t\t73.15\n",
      "360000\t\t0\t[[224], [133, 190]]\t7.956\t\t73.12\n",
      "370000\t\t59\t[[258], [133, 181]]\t8.560\t\t73.03\n",
      "380000\t\t32\t[[233], [135, 182]]\t7.181\t\t73.07\n",
      "390000\t\t87\t[[244], [137, 191]]\t6.220\t\t73.11\n",
      "400000\t\t37\t[[264], [153, 186]]\t11.442\t\t73.03\n",
      "410000\t\t51\t[[239], [153, 193]]\t9.700\t\t73.16\n",
      "420000\t\t23\t[[252], [139, 204]]\t8.887\t\t73.16\n",
      "430000\t\t17\t[[241], [159, 196]]\t9.010\t\t73.20\n",
      "440000\t\t22\t[[256], [144, 197]]\t9.056\t\t73.22\n",
      "450000\t\t56\t[[250], [133, 188]]\t7.724\t\t73.38\n",
      "460000\t\t51\t[[235], [141, 189]]\t8.714\t\t73.49\n",
      "470000\t\t21\t[[245], [113, 193]]\t5.717\t\t73.44\n",
      "480000\t\t45\t[[249], [122, 187]]\t7.475\t\t73.40\n",
      "490000\t\t32\t[[221], [137, 191]]\t7.547\t\t73.30\n",
      "500000\t\t10\t[[239], [153, 207]]\t9.628\t\t73.23\n",
      "510000\t\t17\t[[225], [137, 199]]\t6.811\t\t73.28\n",
      "520000\t\t7\t[[261], [124, 199]]\t8.771\t\t73.24\n",
      "530000\t\t40\t[[234], [131, 195]]\t9.208\t\t73.21\n",
      "540000\t\t89\t[[249], [147, 197]]\t9.595\t\t73.12\n",
      "550000\t\t59\t[[234], [122, 196]]\t7.916\t\t73.10\n",
      "560000\t\t17\t[[284], [141, 195]]\t9.882\t\t73.11\n",
      "570000\t\t17\t[[234], [132, 194]]\t6.603\t\t73.09\n",
      "580000\t\t87\t[[222], [140, 191]]\t5.353\t\t72.99\n",
      "590000\t\t65\t[[228], [143, 176]]\t9.355\t\t72.96\n",
      "600000\t\t21\t[[229], [123, 193]]\t5.802\t\t72.99\n",
      "610000\t\t17\t[[249], [132, 206]]\t8.368\t\t72.93\n",
      "620000\t\t71\t[[253], [148, 190]]\t9.904\t\t72.95\n",
      "630000\t\t87\t[[240], [137, 198]]\t5.636\t\t72.97\n",
      "640000\t\t79\t[[251], [125, 190]]\t7.007\t\t72.91\n",
      "650000\t\t87\t[[227], [142, 203]]\t5.884\t\t72.96\n",
      "660000\t\t87\t[[234], [149, 206]]\t7.253\t\t72.99\n",
      "670000\t\t94\t[[227], [149, 198]]\t9.112\t\t72.98\n",
      "680000\t\t27\t[[248], [126, 202]]\t6.851\t\t72.93\n",
      "690000\t\t21\t[[243], [111, 194]]\t6.163\t\t72.94\n",
      "700000\t\t60\t[[221], [138, 206]]\t11.546\t\t72.89\n",
      "710000\t\t21\t[[251], [103, 194]]\t8.249\t\t72.84\n",
      "720000\t\t56\t[[255], [114, 195]]\t10.398\t\t72.81\n",
      "730000\t\t87\t[[202], [128, 202]]\t6.884\t\t72.78\n",
      "740000\t\t87\t[[230], [116, 194]]\t7.399\t\t72.75\n",
      "750000\t\t87\t[[246], [130, 203]]\t7.055\t\t72.73\n",
      "760000\t\t43\t[[237], [146, 189]]\t9.612\t\t72.80\n",
      "770000\t\t21\t[[231], [130, 190]]\t5.896\t\t72.80\n",
      "780000\t\t27\t[[238], [165, 222]]\t13.627\t\t72.79\n",
      "790000\t\t27\t[[246], [129, 200]]\t6.301\t\t72.80\n",
      "800000\t\t87\t[[222], [147, 187]]\t6.403\t\t72.78\n",
      "810000\t\t76\t[[209], [161, 195]]\t13.665\t\t72.78\n",
      "820000\t\t21\t[[246], [125, 195]]\t5.371\t\t72.73\n",
      "830000\t\t87\t[[233], [113, 203]]\t10.344\t\t72.72\n",
      "840000\t\t36\t[[250], [153, 208]]\t10.827\t\t72.74\n",
      "850000\t\t87\t[[221], [125, 194]]\t5.412\t\t72.78\n",
      "860000\t\t87\t[[205], [136, 196]]\t5.559\t\t72.71\n",
      "870000\t\t23\t[[281], [142, 190]]\t10.143\t\t72.70\n",
      "880000\t\t87\t[[219], [135, 195]]\t4.859\t\t72.74\n",
      "890000\t\t21\t[[233], [125, 199]]\t6.755\t\t72.75\n",
      "900000\t\t79\t[[225], [141, 192]]\t6.397\t\t72.75\n",
      "910000\t\t17\t[[233], [132, 196]]\t6.457\t\t72.75\n",
      "920000\t\t0\t[[236], [154, 177]]\t10.598\t\t72.75\n",
      "930000\t\t67\t[[238], [130, 183]]\t9.172\t\t72.78\n",
      "940000\t\t21\t[[247], [126, 192]]\t5.154\t\t72.77\n",
      "950000\t\t22\t[[245], [185, 172]]\t16.946\t\t72.76\n",
      "960000\t\t53\t[[226], [140, 192]]\t10.106\t\t72.77\n",
      "970000\t\t38\t[[236], [132, 180]]\t7.758\t\t72.81\n",
      "980000\t\t56\t[[244], [142, 199]]\t8.234\t\t72.77\n",
      "990000\t\t21\t[[256], [144, 187]]\t7.499\t\t72.79\n",
      "\n",
      "Accepted 72.76989999999999 % \n",
      "\n",
      "\n",
      "Accepted [ ...Nuisance paramters..., state] %\n",
      "Accepted [32.8061 31.2957 31.2957  8.6681] % \n",
      "\n"
     ]
    }
   ],
   "source": [
    "sampler.sample(nsteps=nsteps, print_freq=10000, verbose=True)"
   ]
  },
  {
   "cell_type": "markdown",
   "metadata": {},
   "source": [
    "Now, process and save the results for the next step, `Analysis`."
   ]
  },
  {
   "cell_type": "code",
   "execution_count": 5,
   "metadata": {},
   "outputs": [
    {
     "name": "stdout",
     "output_type": "stream",
     "text": [
      "...Done.\n"
     ]
    }
   ],
   "source": [
    "lam = lambda_values[0]\n",
    "sampler.traj.process_results(outdir+'/traj_lambda%2.2f.npz'%(lam))\n",
    "outfilename = 'sampler_lambda%2.2f.pkl'%(lam)\n",
    "filename = outdir+'/sampler_lambda%2.2f.pkl'%(lam)\n",
    "biceps.toolbox.save_object(sampler, filename)\n",
    "print('...Done.')"
   ]
  },
  {
   "cell_type": "markdown",
   "metadata": {},
   "source": [
    "Then, we will do the same thing for the second ensemble in the list of `ensembles`.  **Note that we separated them for simplicity of the tutorial.**"
   ]
  },
  {
   "cell_type": "code",
   "execution_count": 6,
   "metadata": {},
   "outputs": [
    {
     "name": "stdout",
     "output_type": "stream",
     "text": [
      "\n",
      "Accepted 65.56880000000001 % \n",
      "\n",
      "\n",
      "Accepted [ ...Nuisance paramters..., state] %\n",
      "Accepted [32.8085 31.21   31.21    1.5503] % \n",
      "\n",
      "...Done.\n"
     ]
    }
   ],
   "source": [
    "lam = lambda_values[1]\n",
    "sampler = biceps.PosteriorSampler(ensembles[1].to_list())\n",
    "sampler.sample(nsteps=nsteps, verbose=False)\n",
    "sampler.traj.process_results(outdir+'/traj_lambda%2.2f.npz'%(lam))\n",
    "filename = outdir+'/sampler_lambda%2.2f.pkl'%(lam)\n",
    "biceps.toolbox.save_object(sampler, filename)\n",
    "print('...Done.')"
   ]
  },
  {
   "cell_type": "markdown",
   "metadata": {},
   "source": [
    "<h1 style=\"text-align: center;font-size: 18pt;\">Conclusion</h1>\n",
    "\n",
    "In this tutorial, we used the `PosteriorSampler` class to perform MCMC sampling given the ensemble Python object. In the [next tutorial](https://biceps.readthedocs.io/en/latest/examples/Tutorials/Prep_Rest_Post_Ana/analysis.html), we will analyze our trajectory data."
   ]
  },
  {
   "cell_type": "markdown",
   "metadata": {},
   "source": [
    "<h6 style=\"align: justify;font-size: 12pt\"># <span style=\"color:red;\">NOTE</span>: The following cell is for pretty notebook rendering</h6>"
   ]
  },
  {
   "cell_type": "code",
   "execution_count": 1,
   "metadata": {},
   "outputs": [
    {
     "data": {
      "text/html": [
       "\n",
       "<style>\n",
       "    @font-face {\n",
       "        font-family: \"Computer Modern\";\n",
       "        src: url('http://mirrors.ctan.org/fonts/cm-unicode/fonts/otf/cmunss.otf');\n",
       "    }\n",
       "    #notebook { /* centers the page content */\n",
       "    padding-left:8%;\n",
       "    padding-right:9%;\n",
       "    }\n",
       "    #ipython-main-app {\n",
       "        position: relative;\n",
       "    }\n",
       "    #jupyter-main-app {\n",
       "        position: relative;\n",
       "    }\n",
       "    div.cell{\n",
       "        width:98%;\n",
       "        margin-left:4% !important;*/\n",
       "        margin-right:4%;\n",
       "    }\n",
       "    h1 {\n",
       "        font-family: \"Charis SIL\", Palatino, serif;\n",
       "        text-align: center;\n",
       "    }\n",
       "    h4{\n",
       "        margin-top:12px;\n",
       "        margin-bottom: 3px;\n",
       "       }\n",
       "    div.text_cell_render{\n",
       "        font-family: Computer Modern, \"Helvetica Neue\", Arial, Helvetica, Geneva, sans-serif;\n",
       "        line-height: 145%;\n",
       "        font-size: 12pt;\n",
       "        width:99%;\n",
       "        margin-left:auto;\n",
       "        margin-right:auto;\n",
       "    }\n",
       "    .output_png {\n",
       "        display: block;/*table-cell;*/\n",
       "        text-align: center;\n",
       "        align: center;\n",
       "        vertical-align: middle;\n",
       "        margin-left: auto;\n",
       "        margin-right: auto;\n",
       "        width: 100%;\n",
       "    }\n",
       "    div.output_area pre {font-weight: normal; text-align: justify; }\n",
       "    .warning{\n",
       "        color: rgb( 240, 20, 20 )\n",
       "        }\n",
       "    .CodeMirror{\n",
       "            font-family: \"Source Code Pro\", source-code-pro,Consolas, monospace;\n",
       "    }\n",
       "    .prompt{\n",
       "        display: None;\n",
       "    }\n",
       "    .text_cell_render h5 {\n",
       "        font-weight: 300;\n",
       "        font-size: 16pt;\n",
       "        color: #4057A1;\n",
       "        font-style: italic;\n",
       "        margin-bottom: .5em;\n",
       "        margin-top: 0.5em;\n",
       "        display: block;\n",
       "    }\n",
       "    /* override table width restrictions as found on https://github.com/getpelican/pelican/issues/1311 */\n",
       "    .wy-table-responsive table td, .wy-table-responsive table th {\n",
       "        /* !important prevents the common CSS stylesheets from\n",
       "           overriding this as on RTD they are loaded after this stylesheet */\n",
       "        white-space: normal !important;\n",
       "    }\n",
       "\n",
       "    .wy-table-responsive {\n",
       "        overflow: visible !important;\n",
       "    }\n",
       "</style>\n",
       "\n",
       "<!-- MathJax configuration -->\n",
       "<script type=\"text/x-mathjax-config\">\n",
       "    src=\"http://cdn.mathjax.org/mathjax/latest/MathJax.js?config=TeX-AMS-MML_HTMLorMML\">\n",
       "    MathJax.Hub.Config({\n",
       "                        TeX: {\n",
       "                           extensions: [\"AMSmath.js\"]\n",
       "                           },\n",
       "                tex2jax: {\n",
       "                    inlineMath: [ ['$','$'], [\"\\\\(\",\"\\\\)\"] ],\n",
       "                    displayMath: [ ['$$','$$'], [\"\\\\[\",\"\\\\]\"] ]\n",
       "                },\n",
       "                displayAlign: 'center', // Change this to 'center' to center equations.\n",
       "                \"HTML-CSS\": {\n",
       "                    styles: {'.MathJax_Display': {\"margin\": 4}},\n",
       "                    linebreaks: { automatic: true }}\n",
       "        });\n",
       "</script>\n"
      ],
      "text/plain": [
       "<IPython.core.display.HTML object>"
      ]
     },
     "execution_count": 1,
     "metadata": {},
     "output_type": "execute_result"
    }
   ],
   "source": [
    "from IPython.core.display import HTML\n",
    "def css_styling():\n",
    "    styles = open(\"../../../theme.css\", \"r\").read()\n",
    "    return HTML(styles)\n",
    "css_styling()"
   ]
  }
 ],
 "metadata": {
  "kernelspec": {
   "display_name": "Python 3",
   "language": "python",
   "name": "python3"
  },
  "language_info": {
   "codemirror_mode": {
    "name": "ipython",
    "version": 3
   },
   "file_extension": ".py",
   "mimetype": "text/x-python",
   "name": "python",
   "nbconvert_exporter": "python",
   "pygments_lexer": "ipython3",
   "version": "3.7.3"
  }
 },
 "nbformat": 4,
 "nbformat_minor": 2
}
