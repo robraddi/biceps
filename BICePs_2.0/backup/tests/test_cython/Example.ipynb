{
 "cells": [
  {
   "cell_type": "code",
   "execution_count": 1,
   "metadata": {},
   "outputs": [],
   "source": [
    "import sys, os, glob\n",
    "sys.path.append('src')         # Source code path\n",
    "#from BICePs import *\n",
    "from Preparation import *      # Class for BICePs input files generation\n",
    "from Restraint import *        # Class for initialization\n",
    "from PosteriorSampler import * # Class for sampling\n",
    "from Analysis import *         # Class for MBAR calculation and figures"
   ]
  },
  {
   "cell_type": "code",
   "execution_count": 2,
   "metadata": {
    "scrolled": true
   },
   "outputs": [
    {
     "name": "stdout",
     "output_type": "stream",
     "text": [
      "Wrote test_cs_H/0.cs_H\n",
      "Wrote test_cs_H/1.cs_H\n",
      "Wrote test_cs_H/2.cs_H\n",
      "Wrote test_cs_H/3.cs_H\n",
      "Wrote test_cs_H/4.cs_H\n",
      "Wrote test_cs_H/5.cs_H\n",
      "Wrote test_cs_H/6.cs_H\n",
      "Wrote test_cs_H/7.cs_H\n",
      "Wrote test_cs_H/8.cs_H\n",
      "Wrote test_cs_H/9.cs_H\n",
      "Wrote test_cs_H/10.cs_H\n",
      "Wrote test_cs_H/11.cs_H\n",
      "Wrote test_cs_H/12.cs_H\n",
      "Wrote test_cs_H/13.cs_H\n",
      "Wrote test_cs_H/14.cs_H\n",
      "Wrote test_cs_H/15.cs_H\n",
      "Wrote test_cs_H/16.cs_H\n",
      "Wrote test_cs_H/17.cs_H\n",
      "Wrote test_cs_H/18.cs_H\n",
      "Wrote test_cs_H/19.cs_H\n",
      "Wrote test_cs_H/20.cs_H\n",
      "Wrote test_cs_H/21.cs_H\n",
      "Wrote test_cs_H/22.cs_H\n",
      "Wrote test_cs_H/23.cs_H\n",
      "Wrote test_cs_H/24.cs_H\n",
      "Wrote test_cs_H/25.cs_H\n",
      "Wrote test_cs_H/26.cs_H\n",
      "Wrote test_cs_H/27.cs_H\n",
      "Wrote test_cs_H/28.cs_H\n",
      "Wrote test_cs_H/29.cs_H\n",
      "Wrote test_cs_H/30.cs_H\n",
      "Wrote test_cs_H/31.cs_H\n",
      "Wrote test_cs_H/32.cs_H\n",
      "Wrote test_cs_H/33.cs_H\n",
      "Wrote test_cs_H/34.cs_H\n",
      "Wrote test_cs_H/35.cs_H\n",
      "Wrote test_cs_H/36.cs_H\n",
      "Wrote test_cs_H/37.cs_H\n",
      "Wrote test_cs_H/38.cs_H\n",
      "Wrote test_cs_H/39.cs_H\n",
      "Wrote test_cs_H/40.cs_H\n",
      "Wrote test_cs_H/41.cs_H\n",
      "Wrote test_cs_H/42.cs_H\n",
      "Wrote test_cs_H/43.cs_H\n",
      "Wrote test_cs_H/44.cs_H\n",
      "Wrote test_cs_H/45.cs_H\n",
      "Wrote test_cs_H/46.cs_H\n",
      "Wrote test_cs_H/47.cs_H\n",
      "Wrote test_cs_H/48.cs_H\n",
      "Wrote test_cs_H/49.cs_H\n"
     ]
    }
   ],
   "source": [
    "# Specify necessary argument values\n",
    "path='cs_H/cs/H/*txt'                # Only amide H is used in this example\n",
    "states=50                            # Number of states from Markov state model\n",
    "indices='cs_H/cs_indices_NH.txt'     # Indices of experimental data\n",
    "exp_data='cs_H/chemical_shift_NH.txt'# Raw experimental data\n",
    "top='cs_H/8690.pdb'                  # Topology file\n",
    "data_dir=path\n",
    "out_dir='test_cs_H'                  # Output directory\n",
    "p=Preparation('cs_H',states=states,indices=indices,\n",
    "              exp_data=exp_data,top=top,data_dir=data_dir)\n",
    "p.write(out_dir=out_dir)"
   ]
  },
  {
   "cell_type": "code",
   "execution_count": 3,
   "metadata": {},
   "outputs": [
    {
     "ename": "AttributeError",
     "evalue": "'module' object has no attribute 'stack'",
     "output_type": "error",
     "traceback": [
      "\u001b[0;31m---------------------------------------------------------------------------\u001b[0m",
      "\u001b[0;31mAttributeError\u001b[0m                            Traceback (most recent call last)",
      "\u001b[0;32m<ipython-input-3-374432a72494>\u001b[0m in \u001b[0;36m<module>\u001b[0;34m()\u001b[0m\n\u001b[1;32m      1\u001b[0m \u001b[0;31m# Specify necessary argument values\u001b[0m\u001b[0;34m\u001b[0m\u001b[0;34m\u001b[0m\u001b[0m\n\u001b[1;32m      2\u001b[0m \u001b[0mdataFiles\u001b[0m \u001b[0;34m=\u001b[0m \u001b[0;34m'test_cs_H'\u001b[0m             \u001b[0;31m# Directory including all input files\u001b[0m\u001b[0;34m\u001b[0m\u001b[0m\n\u001b[0;32m----> 3\u001b[0;31m \u001b[0mdata\u001b[0m \u001b[0;34m=\u001b[0m \u001b[0msort_data\u001b[0m\u001b[0;34m(\u001b[0m\u001b[0mdataFiles\u001b[0m\u001b[0;34m)\u001b[0m         \u001b[0;31m# Sort input files and determine observables\u001b[0m\u001b[0;34m\u001b[0m\u001b[0m\n\u001b[0m\u001b[1;32m      4\u001b[0m \u001b[0menergies_filename\u001b[0m \u001b[0;34m=\u001b[0m  \u001b[0;34m'energy.txt'\u001b[0m   \u001b[0;31m# Energy file computed from MSM populations\u001b[0m\u001b[0;34m\u001b[0m\u001b[0m\n\u001b[1;32m      5\u001b[0m \u001b[0menergies\u001b[0m \u001b[0;34m=\u001b[0m \u001b[0mloadtxt\u001b[0m\u001b[0;34m(\u001b[0m\u001b[0menergies_filename\u001b[0m\u001b[0;34m)\u001b[0m\u001b[0;34m\u001b[0m\u001b[0m\n",
      "\u001b[0;32m/Volumes/RMR_4TB/GitHub_Repositories/nmr-biceps/BICePs_2.0/new_example/src/data.pyc\u001b[0m in \u001b[0;36msort_data\u001b[0;34m(dataFiles)\u001b[0m\n\u001b[1;32m     46\u001b[0m                 \u001b[0;32mraise\u001b[0m \u001b[0mValueError\u001b[0m\u001b[0;34m(\u001b[0m\u001b[0;34m\"Incompatible File extension. Use:{.noe,.J,.cs_H,.cs_Ha}\"\u001b[0m\u001b[0;34m)\u001b[0m\u001b[0;34m\u001b[0m\u001b[0m\n\u001b[1;32m     47\u001b[0m     \u001b[0mdata\u001b[0m \u001b[0;34m=\u001b[0m \u001b[0mnp\u001b[0m\u001b[0;34m.\u001b[0m\u001b[0marray\u001b[0m\u001b[0;34m(\u001b[0m\u001b[0mfilter\u001b[0m\u001b[0;34m(\u001b[0m\u001b[0mNone\u001b[0m\u001b[0;34m,\u001b[0m \u001b[0mdata\u001b[0m\u001b[0;34m)\u001b[0m\u001b[0;34m)\u001b[0m \u001b[0;31m# removing any empty lists\u001b[0m\u001b[0;34m\u001b[0m\u001b[0m\n\u001b[0;32m---> 48\u001b[0;31m     \u001b[0mData\u001b[0m \u001b[0;34m=\u001b[0m \u001b[0mnp\u001b[0m\u001b[0;34m.\u001b[0m\u001b[0mstack\u001b[0m\u001b[0;34m(\u001b[0m\u001b[0mdata\u001b[0m\u001b[0;34m,\u001b[0m \u001b[0maxis\u001b[0m\u001b[0;34m=\u001b[0m\u001b[0;34m-\u001b[0m\u001b[0;36m1\u001b[0m\u001b[0;34m)\u001b[0m\u001b[0;34m\u001b[0m\u001b[0m\n\u001b[0m\u001b[1;32m     49\u001b[0m     \u001b[0mdata\u001b[0m \u001b[0;34m=\u001b[0m \u001b[0mData\u001b[0m\u001b[0;34m.\u001b[0m\u001b[0mtolist\u001b[0m\u001b[0;34m(\u001b[0m\u001b[0;34m)\u001b[0m\u001b[0;34m\u001b[0m\u001b[0m\n\u001b[1;32m     50\u001b[0m     \u001b[0;32mreturn\u001b[0m \u001b[0mdata\u001b[0m\u001b[0;34m\u001b[0m\u001b[0m\n",
      "\u001b[0;31mAttributeError\u001b[0m: 'module' object has no attribute 'stack'"
     ]
    }
   ],
   "source": [
    "# Specify necessary argument values\n",
    "dataFiles = 'test_cs_H'             # Directory including all input files\n",
    "data = sort_data(dataFiles)         # Sort input files and determine observables\n",
    "energies_filename =  'energy.txt'   # Energy file computed from MSM populations\n",
    "energies = loadtxt(energies_filename)\n",
    "energies -= energies.min()          # Set ground state to zero, just in case\n",
    "outdir = 'results_ref_normal'\n",
    "# Temporarily placing the number of steps here...\n",
    "nsteps = 1000 # 10000000\n",
    "\"\"\"OUTPUT\n",
    "\n",
    "    Files written:\n",
    "        <outdir>/traj_lambda_<lambda>.yaml  - YAML Trajectory file\n",
    "        <outdit>/sampler_<lambda>.pkl       - a cPickle'd sampler object\n",
    "\"\"\"\n",
    "# Make a new directory?\n",
    "if not os.path.exists(outdir):\n",
    "    os.mkdir(outdir)"
   ]
  },
  {
   "cell_type": "code",
   "execution_count": null,
   "metadata": {},
   "outputs": [],
   "source": [
    "lambda_values = [0.0,1.0]      # lambda values to be sampled\n",
    "for j in lambda_values:\n",
    "    verbose = False\n",
    "    lam = j\n",
    "    # We will instantiate a number of Structure() objects to construct the ensemble\n",
    "    ensemble = []\n",
    "    for i in range(energies.shape[0]):\n",
    "        print\n",
    "        print '#### STRUCTURE %d ####'%i\n",
    "        if verbose:\n",
    "            print data[i]\n",
    "        s = Restraint('8690.pdb',lam,energies[i],data = data[i])\n",
    "        if verbose:\n",
    "            print 's.sse_cs_H', s.sse_cs_H\n",
    "        ensemble.append( s )\n",
    "\n",
    "    ########## Posterior Sampling ############\n",
    "\n",
    "    sampler = PosteriorSampler(ensemble)\n",
    "\n",
    "    sampler.sample(nsteps)      # number of steps\n",
    "    print 'Processing trajectory...',\n",
    "    sampler.traj.process()      # compute averages, etc.\n",
    "    print '...Done.'\n",
    "\n",
    "    print 'Writing results...',\n",
    "    sampler.traj.write_results(os.path.join(outdir,'traj_lambda%2.2f.yaml'%lam))\n",
    "    print '...Done.'\n",
    "\n",
    "    print 'Pickling the sampler object ...',\n",
    "    outfilename = 'sampler_lambda%2.2f.pkl'%lam\n",
    "    print outfilename,\n",
    "    fout = open(os.path.join(outdir, outfilename), 'wb')\n",
    "    cPickle.dump(sampler, fout) # Pickle dictionary using protocol 0.\n",
    "    fout.close()\n",
    "    print '...Done.'"
   ]
  },
  {
   "cell_type": "code",
   "execution_count": null,
   "metadata": {},
   "outputs": [],
   "source": [
    "%matplotlib inline\n",
    "dataFiles = 'test_cs_H'\n",
    "A = Analysis(50,dataFiles,'results_ref_normal')\n",
    "A.plot()"
   ]
  },
  {
   "cell_type": "code",
   "execution_count": null,
   "metadata": {},
   "outputs": [],
   "source": []
  }
 ],
 "metadata": {
  "kernelspec": {
   "display_name": "Python 2",
   "language": "python",
   "name": "python2"
  },
  "language_info": {
   "codemirror_mode": {
    "name": "ipython",
    "version": 2
   },
   "file_extension": ".py",
   "mimetype": "text/x-python",
   "name": "python",
   "nbconvert_exporter": "python",
   "pygments_lexer": "ipython2",
   "version": "2.7.15"
  }
 },
 "nbformat": 4,
 "nbformat_minor": 2
}
