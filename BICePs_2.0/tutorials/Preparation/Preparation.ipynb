{
 "cells": [
  {
   "cell_type": "code",
   "execution_count": null,
   "metadata": {
    "collapsed": true
   },
   "outputs": [],
   "source": [
    "# import source code\n",
    "import sys, os, glob\n",
    "from numpy import *\n",
    "sys.path.append('new_src')\n",
    "from Preparation import *\n",
    "from PosteriorSampler import *\n",
    "from Analysis_new import *\n",
    "from Restraint import *\n",
    "from init_res import *"
   ]
  },
  {
   "cell_type": "code",
   "execution_count": null,
   "metadata": {
    "collapsed": true
   },
   "outputs": [],
   "source": [
    "#########################################\n",
    "# Lets' create input files for BICePs\n",
    "############ Preparation ################\n",
    "# Specify necessary argument values\n",
    "\n",
    "# REQUIRED: raw data of pre-comuted chemical shifts\n",
    "path='cs/*txt'\n",
    "\n",
    "# REQUIRED: number of states\n",
    "states=100\n",
    "\n",
    "# REQUIRED: atom indices of associated chemical shifts\n",
    "indices='atom_indice.txt'\n",
    "\n",
    "# REQUIRED: experimental data\n",
    "exp_data='cs_H/chemical_shift_NH.txt'\n",
    "\n",
    "# REQUIRED: topology file\n",
    "top='pdbs_guangfeng/0.pdb'\n",
    "\n",
    "# OPTIONAL: output directory of generated files\n",
    "out_dir = 'input_cs'\n",
    "\n",
    "p=Preparation('cs_H',states=states,indices=indices,exp_data=exp_data,top=top,data_dir=path)\n",
    "p.write(out_dir=out_dir)"
   ]
  }
 ],
 "metadata": {
  "kernelspec": {
   "display_name": "Python 2",
   "language": "python",
   "name": "python2"
  },
  "language_info": {
   "codemirror_mode": {
    "name": "ipython",
    "version": 2
   },
   "file_extension": ".py",
   "mimetype": "text/x-python",
   "name": "python",
   "nbconvert_exporter": "python",
   "pygments_lexer": "ipython2",
   "version": "2.7.12"
  }
 },
 "nbformat": 4,
 "nbformat_minor": 0
}
