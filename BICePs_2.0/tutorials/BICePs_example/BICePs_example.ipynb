{
 "cells": [
  {
   "cell_type": "markdown",
   "metadata": {},
   "source": [
    "In this tutorial, we are going to show how to set up a \"master\" script to set up BICePs samplings. You are welcome to take this as a template for you and make necessary modification to get it work for you. All input files used in this tutorial are prepared from [this tutorial](https://github.com/vvoelz/biceps/blob/master/BICePs_2.0/tutorials/Preparation/Preparation.ipynb).\n",
    "\n",
    "A template based on this tutorial is available [here](https://github.com/vvoelz/biceps/tree/master/BICePs_2.0/templates). You are welcome to take it as a template and make modification to prepare your own scripts. The dataset used in this tutorial can be found [here](https://github.com/vvoelz/biceps/tree/master/BICePs_2.0/tutorials/data_set).\n",
    "\n",
    "Yunhui Ge  --02/2019"
   ]
  },
  {
   "cell_type": "markdown",
   "metadata": {},
   "source": [
    "First, we need to import source code for BICePs classes. More information of these classes can be found [here](https://github.com/vvoelz/biceps/blob/master/BICePs_2.0/markdown/workflow.md)."
   ]
  },
  {
   "cell_type": "code",
   "execution_count": 17,
   "metadata": {},
   "outputs": [],
   "source": [
    "# import source code\n",
    "import sys, os, glob\n",
    "from numpy import *\n",
    "sys.path.append('../../')\n",
    "\n",
    "import biceps\n",
    "from biceps import *\n",
    "# dir(biceps)"
   ]
  },
  {
   "cell_type": "markdown",
   "metadata": {},
   "source": [
    "Now we need to specify input files and output files folder."
   ]
  },
  {
   "cell_type": "code",
   "execution_count": 18,
   "metadata": {
    "collapsed": true
   },
   "outputs": [],
   "source": [
    "############ Initialization #############\n",
    "# Specify necessary argument values\n",
    "\n",
    "# REQUIRED: specify number of states\n",
    "states=100\n",
    "\n",
    "# REQUIRED: specify directory of input data (BICePs readable format)\n",
    "dataFiles = 'noe_J'   \n",
    "\n",
    "# REQUIRED: sort data and figure out what experimental restraints are included for each state\n",
    "data = sort_data(dataFiles)\n",
    "\n",
    "# REQUIRED: energy file name of each state (computational prior distribution)\n",
    "\n",
    "energies_filename = 'energy.dat'\n",
    "energies = loadtxt(energies_filename)\n",
    "energies -= energies.min()  # set ground state to zero, just in case\n",
    "\n",
    "# REQUIRED: specify outcome directory of BICePs sampling\n",
    "outdir = 'results_ref_normal'\n",
    "# Make a new directory if we have to\n",
    "if not os.path.exists(outdir):\n",
    "    os.mkdir(outdir)\n"
   ]
  },
  {
   "cell_type": "markdown",
   "metadata": {},
   "source": [
    "Next, we need to specify number of steps for BICePs sampling. We recommend to run at least 1M steps for converged Monte Carlo samplings. In BICePs, we also prepare functions of checking convergence of Monte Carlo. More information can be found [here]."
   ]
  },
  {
   "cell_type": "code",
   "execution_count": 19,
   "metadata": {
    "collapsed": true
   },
   "outputs": [],
   "source": [
    "# REQUIRED: number of MCMC steps for each lambda\n",
    "nsteps = 1000000"
   ]
  },
  {
   "cell_type": "markdown",
   "metadata": {},
   "source": [
    "We need to specify what lambda values we want to use in BICePs samplings. Briefly, lambda values are similar to the parameters used in free energy perturbation (FEP) and has effect on the BICePs score. The lambda values represent how much prior information from computational modeling is included in BICePs sampling (1.0 means all, 0.0 means none). As we explained in [this work](https://pubs.acs.org/doi/10.1021/acs.jpcb.7b11871), one can consider BICePs score as the relative free energy change between different models. More lambda values will increase the samplings for [multistate Bennett acceptance ratio (MBAR)](http://www.alchemistry.org/wiki/Multistate_Bennett_Acceptance_Ratio) predictions in free energy change and populations. However more lambda values also will slow down the whole process of BICePs (as more samplings need to run), so balancing the accuracy and efficiency is important. To successfully finish a BICePs sampling, lambda values of 0.0 and 1.0 are necessary. Based on our experience, the lambda values of 0.0,0.5,1.0 are good enough for BICePs sampling."
   ]
  },
  {
   "cell_type": "code",
   "execution_count": 20,
   "metadata": {
    "collapsed": true
   },
   "outputs": [],
   "source": [
    "# REQUIRED: specify how many lambdas to sample (more lambdas will provide higher accuracy but slower the whole process, lambda=0.0 and 1.0 are necessary)\n",
    "lambda_values = [0.0,0.5,1.0]"
   ]
  },
  {
   "cell_type": "markdown",
   "metadata": {},
   "source": [
    "Print what experimental observables are included in BICePs sampling. This is optional and provides a chance for double check before running BICePs sampling.\n",
    "\n",
    "In this tutorial, we used both J couplings and NOE (pairwise distances) in BICePs sampling. "
   ]
  },
  {
   "cell_type": "code",
   "execution_count": 21,
   "metadata": {},
   "outputs": [
    {
     "name": "stdout",
     "output_type": "stream",
     "text": [
      "['J', 'noe']\n"
     ]
    }
   ],
   "source": [
    "# OPTIONAL but RECOMMENDED: print experimental restraints included (a chance for double check)\n",
    "res = list_res(data)\n",
    "print res\n",
    "  "
   ]
  },
  {
   "cell_type": "markdown",
   "metadata": {},
   "source": [
    "Another key parameter for BICePs set-up is the type of reference potential for each experimental observables. More information of reference potential can be found [here](https://github.com/vvoelz/biceps/blob/master/BICePs_2.0/markdown/Theory.ipynb).\n",
    "\n",
    "Three reference potentials are supported in BICePs: uniform ('uniform'), exponential ('exp'), Gaussian ('gau').  \n",
    "\n",
    "As we found in previous research, exponential reference potential is useful in most cases. Some higher level task may require more in reference potential selection (e.g [force field parametrization](https://pubs.acs.org/doi/10.1021/acs.jpcb.7b11871)).\n",
    "\n",
    "(Noet: It will be helpful to print out what is the order of experimental observables included in BICePs sampling as shown above.)"
   ]
  },
  {
   "cell_type": "code",
   "execution_count": 22,
   "metadata": {
    "collapsed": true
   },
   "outputs": [],
   "source": [
    "# REQUIRED: specify reference potential to use for each experimental observable\n",
    "# will be in the same order as the printed observables from (print res)\n",
    "ref=['uniform','exp']\n"
   ]
  },
  {
   "cell_type": "markdown",
   "metadata": {},
   "source": [
    "If you want, you can specify nuisance parameters (uncertainty in experiments) range but it's not required. Our default parameters range is broad enough.\n",
    "\"gamma\" is a scaling factor converting distances to NOE intensity in experiments. It is only used when NOE restraint is ued in BICePs sampling."
   ]
  },
  {
   "cell_type": "code",
   "execution_count": 23,
   "metadata": {
    "collapsed": true
   },
   "outputs": [],
   "source": [
    "# OPTIONAL: specify nuisance parameters for each experimnetal observable\n",
    "# will be in the same order as the printed observables from (print res)\n",
    "# only specify if you want to narrow down the default range  \n",
    "uncern=[[0.05,20.0,1.02],[0.05,5.0,1.02]]\n",
    "gamma = [0.2,5.0,1.01]  "
   ]
  },
  {
   "cell_type": "markdown",
   "metadata": {},
   "source": [
    "Now we need to set up BICePs samplings and feed arguments using variables we defined above. In most cases, you don't need to modify this part as long as you defined all these parameters shown above. "
   ]
  },
  {
   "cell_type": "code",
   "execution_count": 26,
   "metadata": {},
   "outputs": [
    {
     "ename": "TypeError",
     "evalue": "init_res() takes at least 4 arguments (0 given)",
     "output_type": "error",
     "traceback": [
      "\u001b[0;31m---------------------------------------------------------------------------\u001b[0m",
      "\u001b[0;31mTypeError\u001b[0m                                 Traceback (most recent call last)",
      "\u001b[0;32m<ipython-input-26-4ce85a3c8143>\u001b[0m in \u001b[0;36m<module>\u001b[0;34m()\u001b[0m\n\u001b[0;32m----> 1\u001b[0;31m \u001b[0minit_res\u001b[0m\u001b[0;34m(\u001b[0m\u001b[0;34m)\u001b[0m\u001b[0;34m\u001b[0m\u001b[0m\n\u001b[0m",
      "\u001b[0;31mTypeError\u001b[0m: init_res() takes at least 4 arguments (0 given)"
     ]
    }
   ],
   "source": [
    "init_res()"
   ]
  },
  {
   "cell_type": "code",
   "execution_count": 27,
   "metadata": {},
   "outputs": [
    {
     "name": "stdout",
     "output_type": "stream",
     "text": [
      "lambda 0.0\n"
     ]
    },
    {
     "ename": "UnboundLocalError",
     "evalue": "local variable 'R' referenced before assignment",
     "output_type": "error",
     "traceback": [
      "\u001b[0;31m---------------------------------------------------------------------------\u001b[0m",
      "\u001b[0;31mUnboundLocalError\u001b[0m                         Traceback (most recent call last)",
      "\u001b[0;32m<ipython-input-27-fb00fb7ccd94>\u001b[0m in \u001b[0;36m<module>\u001b[0;34m()\u001b[0m\n\u001b[1;32m     18\u001b[0m             \u001b[0;32mif\u001b[0m \u001b[0mverbose\u001b[0m\u001b[0;34m:\u001b[0m\u001b[0;34m\u001b[0m\u001b[0m\n\u001b[1;32m     19\u001b[0m                 \u001b[0;32mprint\u001b[0m \u001b[0mFile\u001b[0m\u001b[0;34m\u001b[0m\u001b[0m\n\u001b[0;32m---> 20\u001b[0;31m             \u001b[0mR\u001b[0m \u001b[0;34m=\u001b[0m \u001b[0minit_res\u001b[0m\u001b[0;34m(\u001b[0m\u001b[0;34m'top/%d.fixed.pdb'\u001b[0m\u001b[0;34m%\u001b[0m\u001b[0mi\u001b[0m\u001b[0;34m,\u001b[0m\u001b[0mlam\u001b[0m\u001b[0;34m,\u001b[0m\u001b[0menergies\u001b[0m\u001b[0;34m[\u001b[0m\u001b[0mi\u001b[0m\u001b[0;34m]\u001b[0m\u001b[0;34m,\u001b[0m\u001b[0mref\u001b[0m\u001b[0;34m[\u001b[0m\u001b[0mk\u001b[0m\u001b[0;34m]\u001b[0m\u001b[0;34m,\u001b[0m\u001b[0mFile\u001b[0m\u001b[0;34m,\u001b[0m\u001b[0muncern\u001b[0m\u001b[0;34m[\u001b[0m\u001b[0mk\u001b[0m\u001b[0;34m]\u001b[0m\u001b[0;34m,\u001b[0m\u001b[0mgamma\u001b[0m\u001b[0;34m)\u001b[0m\u001b[0;34m\u001b[0m\u001b[0m\n\u001b[0m\u001b[1;32m     21\u001b[0m             \u001b[0mensemble\u001b[0m\u001b[0;34m[\u001b[0m\u001b[0;34m-\u001b[0m\u001b[0;36m1\u001b[0m\u001b[0;34m]\u001b[0m\u001b[0;34m.\u001b[0m\u001b[0mappend\u001b[0m\u001b[0;34m(\u001b[0m\u001b[0mR\u001b[0m\u001b[0;34m)\u001b[0m\u001b[0;34m\u001b[0m\u001b[0m\n\u001b[1;32m     22\u001b[0m         \u001b[0;31m#print ensemble\u001b[0m\u001b[0;34m\u001b[0m\u001b[0;34m\u001b[0m\u001b[0m\n",
      "\u001b[0;32m/Users/suvince/git/biceps/BICePs_2.0/biceps/init_res.py\u001b[0m in \u001b[0;36minit_res\u001b[0;34m(PDB_filename, lam, energy, data, ref, uncern, gamma)\u001b[0m\n\u001b[1;32m    109\u001b[0m     \u001b[0;32melse\u001b[0m\u001b[0;34m:\u001b[0m\u001b[0;34m\u001b[0m\u001b[0m\n\u001b[1;32m    110\u001b[0m         \u001b[0;32mraise\u001b[0m \u001b[0mValueError\u001b[0m\u001b[0;34m(\u001b[0m\u001b[0;34m\"Incompatible File extension. Use:{.noe,.J,.cs_H,.cs_Ha, .cs_Ca, .cs_N,.pf}\"\u001b[0m\u001b[0;34m)\u001b[0m\u001b[0;34m\u001b[0m\u001b[0m\n\u001b[0;32m--> 111\u001b[0;31m     \u001b[0;32mreturn\u001b[0m \u001b[0mR\u001b[0m\u001b[0;34m\u001b[0m\u001b[0m\n\u001b[0m\u001b[1;32m    112\u001b[0m \u001b[0;34m\u001b[0m\u001b[0m\n\u001b[1;32m    113\u001b[0m \u001b[0;31m#__all__ = [\u001b[0m\u001b[0;34m\u001b[0m\u001b[0;34m\u001b[0m\u001b[0m\n",
      "\u001b[0;31mUnboundLocalError\u001b[0m: local variable 'R' referenced before assignment"
     ]
    }
   ],
   "source": [
    "######################\n",
    "# Main:\n",
    "######################\n",
    "\n",
    "for j in lambda_values:\n",
    "    print 'lambda', j\n",
    "    verbose = False #False\n",
    "    lam = j\n",
    "    # We will instantiate a number of Restraint() objects to construct the ensemble\n",
    "    # experimental data and pre-computed model data are compiled for each state\n",
    "    ensemble = []\n",
    "    for i in range(energies.shape[0]):   # number of states\n",
    "        if verbose:\n",
    "            print '\\n#### STRUCTURE %d ####'%i\n",
    "        ensemble.append([])\n",
    "        for k in range(len(data[0])):   # number of experimental observables\n",
    "            File = data[i][k]\n",
    "            if verbose:\n",
    "                print File\n",
    "            R = init_res('top/%d.fixed.pdb'%i,lam,energies[i],ref[k],File,uncern[k],gamma)\n",
    "            ensemble[-1].append(R)\n",
    "        #print ensemble\n",
    "        \n",
    "        \n",
    "    ##########################################\n",
    "    # Next, let's do posterior MCMC sampling\n",
    "    ########## Posterior Sampling ############\n",
    "\n",
    "    sampler = PosteriorSampler(ensemble)\n",
    "    sampler.compile_nuisance_parameters()\n",
    "\n",
    "    sampler.sample(nsteps)  # number of steps\n",
    "\n",
    "    print 'Processing trajectory...',\n",
    "\n",
    "    sampler.traj.process()  # compute averages, etc.\n",
    "    print '...Done.'\n",
    "    print 'Writing results...',\n",
    "    sampler.traj.write_results(os.path.join(outdir,'traj_lambda%2.2f.npz'%lam))\n",
    "    print '...Done.'\n",
    "    sampler.traj.read_results(os.path.join(outdir,'traj_lambda%2.2f.npz'%lam))     \n",
    "    print 'Pickling the sampler object ...',\n",
    "    outfilename = 'sampler_lambda%2.2f.pkl'%lam\n",
    "    print outfilename,\n",
    "    fout = open(os.path.join(outdir, outfilename), 'wb')\n",
    "    # Pickle dictionary using protocol 0.\n",
    "    cPickle.dump(sampler, fout)\n",
    "    fout.close()\n",
    "    print '...Done.'\n",
    "\n"
   ]
  },
  {
   "cell_type": "markdown",
   "metadata": {},
   "source": [
    "Now you can check your pre-defined output folder and see if the output files from BICePs sampling are there. In this case, we defined `outdir` as 'results_ref_normal'."
   ]
  },
  {
   "cell_type": "code",
   "execution_count": 10,
   "metadata": {},
   "outputs": [
    {
     "name": "stdout",
     "output_type": "stream",
     "text": [
      "results_ref_normal/sampler_lambda0.00.pkl\r\n",
      "results_ref_normal/sampler_lambda0.50.pkl\r\n",
      "results_ref_normal/sampler_lambda1.00.pkl\r\n",
      "results_ref_normal/traj_lambda0.00.npz\r\n",
      "results_ref_normal/traj_lambda0.50.npz\r\n",
      "results_ref_normal/traj_lambda1.00.npz\r\n"
     ]
    }
   ],
   "source": [
    "ls results_ref_normal/*"
   ]
  },
  {
   "cell_type": "markdown",
   "metadata": {},
   "source": [
    "Then, we need to run functions in `Analysis` to get predicted populations of each conformational states and BICePs score. A figure of posterior distribution of populations and nuisance parameters will be plotted as well. "
   ]
  },
  {
   "cell_type": "code",
   "execution_count": 13,
   "metadata": {},
   "outputs": [
    {
     "name": "stdout",
     "output_type": "stream",
     "text": [
      "Loading results_ref_normal/traj_lambda0.00.npz ...\n",
      "Loading results_ref_normal/traj_lambda0.50.npz ...\n",
      "Loading results_ref_normal/traj_lambda1.00.npz ...\n",
      "Loading results_ref_normal/sampler_lambda0.00.pkl ...\n",
      "Loading results_ref_normal/sampler_lambda0.50.pkl ...\n",
      "Loading results_ref_normal/sampler_lambda1.00.pkl ...\n",
      "lam = [0.0, 0.5, 1.0]\n",
      "nstates 100\n",
      "Writing BS.dat...\n",
      "...Done.\n",
      "Writing populations.dat...\n",
      "...Done.\n"
     ]
    },
    {
     "data": {
      "image/png": "[encoded data removed]",
      "text/plain": [
       "<matplotlib.figure.Figure at 0x12308e990>"
      ]
     },
     "metadata": {},
     "output_type": "display_data"
    }
   ],
   "source": [
    "#########################################\n",
    "# Let's do analysis using MBAR algorithm and plot figures\n",
    "############ MBAR and Figures ###########\n",
    "# Specify necessary argument values\n",
    "\n",
    "%matplotlib inline\n",
    "\n",
    "nstates = 100\n",
    "A = Analysis(nstates, dataFiles, outdir)\n",
    "A.plot()\n"
   ]
  },
  {
   "cell_type": "markdown",
   "metadata": {
    "collapsed": true
   },
   "source": [
    "The output files include: population information (\"populations.dat\"), figure of sampled parameters distribution (\"BICePs.pdf\"), BICePs score information (\"BS.dat\")."
   ]
  },
  {
   "cell_type": "markdown",
   "metadata": {},
   "source": [
    "First, let's take a look at the populations file."
   ]
  },
  {
   "cell_type": "code",
   "execution_count": 14,
   "metadata": {},
   "outputs": [
    {
     "name": "stdout",
     "output_type": "stream",
     "text": [
      "1.940951750211206139e-02 1.965295952585544015e-03 2.518654530092589994e-05 1.312192450287664146e-03 1.346988432769095814e-04 1.731430769268453722e-06\n",
      "3.973859690611369899e-03 5.176070440751079360e-04 8.533265313914739636e-06 5.910857636645087823e-04 7.719505082542716843e-05 1.273572543192784700e-06\n",
      "7.066926003822748825e-03 6.480830834055151257e-03 7.522431621209690888e-04 5.901280465293672582e-04 5.401060184726528190e-04 6.309701334641999357e-05\n",
      "7.789946228009547724e-04 2.135928486708404961e-04 7.412528528316641996e-06 2.462451425520415394e-04 6.754409265688017712e-05 2.344652387111030718e-06\n",
      "0.000000000000000000e+00 0.000000000000000000e+00 0.000000000000000000e+00 0.000000000000000000e+00 0.000000000000000000e+00 nan\n",
      "1.299690406472597815e-03 3.095841929479092869e-07 9.334755191048316192e-12 3.601857994946521305e-04 8.588729229939138591e-08 nan\n",
      "7.506524582218565556e-03 5.654387450233056001e-03 5.390879675479798294e-04 6.399815494293711101e-04 4.817773260234562978e-04 4.619991286908470203e-05\n",
      "1.540876705740767960e-02 8.848023343679400909e-04 6.430608225027611979e-06 1.196034476073680594e-03 6.948452081068879293e-05 5.058564559311597397e-07\n",
      "3.653716006957630213e-03 8.228302004364973499e-04 2.345379260670910071e-05 5.436412012567700194e-04 1.226780954268534920e-04 3.500378808235631197e-06\n",
      "4.387885162368432290e-03 1.211060701100663550e-05 4.230619410350300313e-09 6.597436443083986961e-04 1.827447938831705787e-06 6.160119807032380989e-10\n",
      "6.262353681366850111e-03 4.098196630624384440e-03 3.394496880086972368e-04 6.041714552766840008e-04 3.954752738344899181e-04 3.289784651528148324e-05\n",
      "3.398725436288829727e-03 1.274503219850231517e-06 6.049205580893612932e-11 5.816773329771269445e-04 2.187350341569196269e-07 2.328306436538696289e-10\n",
      "2.353038016758457474e-03 5.317523973078497335e-04 1.520958593270727022e-05 4.364203661176876254e-04 9.875303528128485974e-05 2.826480594532237466e-06\n",
      "2.711730437972459384e-03 8.790886196075042847e-05 3.607000664818116320e-07 5.116454774932696669e-04 1.662175752638719159e-05 6.821669661492110796e-08\n",
      "1.193010717837506007e-03 1.058016874233569382e-04 1.187594738993880128e-06 3.306567684497115512e-04 2.934920962044075264e-05 3.294928131115922574e-07\n",
      "1.074717703162919591e-03 2.520746414935715052e-05 7.483268693597722176e-08 3.238320929192186237e-04 7.601943153855704188e-06 2.256956547406267828e-08\n",
      "2.499324869868146948e-03 6.751070515953472295e-07 2.308198077116685454e-11 4.991088182099637097e-04 1.350942503758447568e-07 2.016372521837331812e-10\n",
      "3.843032814697489030e-02 1.898287276808408031e-02 1.186799084938794380e-03 1.563100406424638078e-03 7.791587315206025119e-04 4.972599652442923491e-05\n",
      "1.348081287170899145e-03 5.166806969247872416e-05 2.506431358018090805e-07 3.600033555744050050e-04 1.381231739480124666e-05 6.701206100871873616e-08\n",
      "3.199663172926747734e-03 6.819411026910415785e-04 1.839572438333547666e-05 5.115055671699781812e-04 1.092151163013881473e-04 2.948668526187809015e-06\n",
      "1.292625022684124048e-03 4.843996114811677245e-04 2.297536583428794188e-05 3.044974363841927061e-04 1.141629873829285612e-04 5.417809327083939787e-06\n",
      "1.279357962135976301e-01 4.940060307610183443e-03 2.414347879176048650e-05 3.233856461287288545e-03 1.386772332131946332e-04 6.852336477437957214e-07\n",
      "6.701641035778527211e-03 9.817692494129559577e-05 1.820392803164594397e-07 8.094238376164980585e-04 1.192193700263751121e-05 2.211584737382954593e-08\n",
      "1.846886863142227497e-02 5.292120521440679681e-04 1.919316433562912039e-06 1.325103507049028417e-03 3.852944197820821294e-05 1.399426448285356305e-07\n",
      "1.684459676264848937e-03 1.552221973821765744e-05 1.810399674617713117e-08 4.081275038151861755e-04 3.766009378496401070e-06 4.396123715792597452e-09\n",
      "5.596642270777829609e-03 3.357474289700235204e-06 2.549338518065269454e-10 7.453475864188039693e-04 4.492001312344643556e-07 nan\n",
      "4.797121946380933366e-03 2.877835104664328014e-06 2.185149838851430104e-10 6.903935703609347802e-04 4.158072395499333409e-07 nan\n",
      "5.627808779826137808e-02 2.191112200189415660e-05 1.079735412190530042e-09 2.289693000689547141e-03 9.345409396615899801e-07 nan\n",
      "2.313310043354555035e-03 3.788376049460584483e-04 7.852351699533244300e-06 4.446414230662217720e-04 7.292205626046272340e-05 1.512257108057047201e-06\n",
      "6.927490564792027072e-04 1.052278638440373726e-04 2.023079677115902086e-06 2.448315050797126875e-04 3.720615576314600242e-05 7.154171638719179965e-07\n",
      "1.603263668871646175e-03 3.772948662319031143e-03 1.123787668809717033e-03 1.990521683089390695e-04 4.668640798603459238e-04 1.394726472700499181e-04\n",
      "5.155876184559149422e-03 6.342486573829297924e-04 9.875158056393829042e-06 6.750577956830923964e-04 8.333200251663258075e-05 1.298654695458489865e-06\n",
      "2.054244566390339699e-02 7.601531786007198477e-03 3.560225500887082006e-04 1.205481810268711068e-03 4.496132393238651617e-04 2.124051806203158401e-05\n",
      "3.088779830081378464e-03 3.351063447983637644e-03 4.601567219348901006e-04 3.717105419910884338e-04 4.026668536968367840e-04 5.547232533936320400e-05\n",
      "2.691469399849211186e-03 8.527180758388652748e-06 3.419392768932993931e-09 5.171312909143195363e-04 1.641995620782253462e-06 6.687551092517129863e-10\n",
      "3.830628820680415103e-03 1.944446218758555389e-03 1.249249605626001625e-04 4.979570037058146702e-04 2.529743475143918772e-04 1.628727883949848980e-05\n",
      "4.238229475553634273e-03 5.526495224164040820e-04 9.121002029210956152e-06 6.103015178764565046e-04 7.980636203413967464e-05 1.318168355185970549e-06\n",
      "1.987341030139866405e-03 8.696272630696944006e-03 4.816386339163702957e-03 1.602860424249748998e-04 6.947460495832393076e-04 3.865905236100291653e-04\n",
      "1.272175360848959436e-02 1.819841609704402341e-01 3.294940854210723913e-01 2.070689722535353340e-04 2.333077971545028263e-03 3.581755782036794098e-03\n",
      "6.416499861985558439e-03 5.588280439252568677e-02 6.160069574548932003e-02 1.898855647494453311e-04 1.540502122447743802e-03 1.699084901268522931e-03\n",
      "5.895159309281972071e-03 4.840187730170697478e-06 5.029860972172173206e-10 7.647441092379147565e-04 6.309350554764251880e-07 0.000000000000000000e+00\n",
      "1.788806745619320182e-03 1.103319306083871965e-04 8.613237711951882147e-07 4.099541678451337052e-04 2.531943276569187975e-05 1.977006729395178866e-07\n",
      "1.198870080001102068e-02 1.129785243070280387e-05 1.347556732866905804e-09 1.086452921837621982e-03 1.033995442543214250e-06 2.328306436538696289e-10\n",
      "3.648096048445070849e-03 1.109217086654679107e-03 4.268686490016548873e-05 5.256341724459868275e-04 1.600894265912588502e-04 6.168904523728408444e-06\n",
      "3.979333809440266378e-03 1.453472189352655874e-03 6.719400120780427699e-05 5.356031797024126198e-04 1.959331675795922885e-04 9.073053518709167908e-06\n",
      "2.696377358694124204e-02 8.294321773989699054e-02 3.229300867316275969e-02 7.356373053452774143e-04 2.081200788343753189e-03 8.610366894591693632e-04\n",
      "1.820193675545311862e-03 9.065326396073825066e-03 5.714479928380589158e-03 1.419422724415598082e-04 6.997292839415598887e-04 4.429500003264557196e-04\n",
      "3.309550764476032469e-03 2.709655972134017432e-03 2.807932633905885211e-04 4.166219759360914837e-04 3.409218833677939500e-04 3.542584579221175379e-05\n",
      "3.898949124578221515e-03 1.050839575134077108e-06 3.584688101909705438e-11 6.228575735784416768e-04 1.684100838375567601e-07 1.164153218269348145e-10\n",
      "7.837167436114622632e-03 5.136706751121433712e-03 4.261258127640221716e-04 6.753043855732223820e-04 4.427425169019079247e-04 3.692679488281346597e-05\n",
      "2.196001060453589560e-03 4.123836963935367805e-03 9.801619756117929683e-04 2.571993120848700470e-04 4.814245887174703801e-04 1.148291850937460836e-04\n",
      "5.629507075361583901e-03 7.038155296368309166e-05 1.113716736611536362e-07 7.431237847034833375e-04 9.333033007230056931e-06 1.477511784825949648e-08\n",
      "5.449511963798281400e-03 1.499656957437700555e-04 5.223404584420165975e-07 7.258606199203108782e-04 2.006113445896935248e-05 6.990466237468028057e-08\n",
      "2.012114679795784511e-03 2.828526866518465965e-04 5.032633552559673262e-06 4.190917269422639964e-04 5.899136016478749139e-05 1.050012130312588259e-06\n",
      "3.954334378245771831e-03 4.559906900625243509e-05 6.655274775724251413e-08 6.237491290260119281e-04 7.215718694190787028e-06 1.053413937414401984e-08\n",
      "1.992554270800583893e-03 2.047819357240410199e-04 2.663793474244613435e-06 4.243365210781015499e-04 4.367137584675376006e-05 5.682528434227958199e-07\n",
      "1.841254959653415568e-02 1.863577330265542287e-03 2.387307319939857564e-05 1.278807424179951441e-03 1.311245164431886563e-04 1.684530213688834022e-06\n",
      "2.708458043083838973e-03 9.115366922785028692e-05 3.882876888905428814e-07 5.110297243072127070e-04 1.723522796813085344e-05 7.343426457030291498e-08\n",
      "1.068345199600240214e-02 1.200821439442623095e-02 1.708333609570011902e-03 6.832241956210653158e-04 7.635333269523451307e-04 1.098854476684662574e-04\n",
      "2.700951570887499820e-02 2.034411598967753587e-01 1.939493243943506418e-01 4.693118894698273614e-04 2.750437216322472629e-03 2.724562327352112682e-03\n",
      "3.629285108872171151e-03 4.632314322599029310e-04 7.483458867918457713e-06 5.656590489026143117e-04 7.237488471664400228e-05 1.169983019544814918e-06\n",
      "4.241583996104081322e-03 2.564534729232459398e-04 1.962530973509402088e-06 6.307383342072680251e-04 3.825702106974501873e-05 2.929057617571152340e-07\n",
      "1.925947153286422520e-03 7.369592741346409071e-05 3.569193010033444580e-07 4.301654821135238930e-04 1.648478481386575405e-05 7.985200094040204345e-08\n",
      "2.814180325401149929e-03 8.530883541590927877e-04 3.273132044090409920e-05 4.620223270903851885e-04 1.402388479981020442e-04 5.386104736427896702e-06\n",
      "8.053717029294915619e-04 9.326140274024119492e-05 1.366894330834256266e-06 2.683364598931993559e-04 3.109025363575943103e-05 4.557397572977075652e-07\n",
      "1.259834268293857917e-02 9.817343353439245135e-02 9.682822378267008645e-02 2.950752281336424055e-04 2.036100331806317987e-03 2.034603807640211065e-03\n",
      "7.333486369164532448e-03 7.566329375401359414e-04 9.880693293995435056e-06 8.114569836395713835e-04 8.415316675267239907e-05 1.100203008493064203e-06\n",
      "3.772347386659591351e-02 3.129131446370259084e-02 3.285211669700860426e-03 1.390043806931946270e-03 1.145275195058695393e-03 1.241076057990906701e-04\n",
      "2.783652816203074920e-03 2.279985748549373525e-03 2.363614352480780667e-04 3.821003418450419830e-04 3.128229495648688816e-04 3.250474099176781502e-05\n",
      "3.102503791618360651e-03 1.959301155896042701e-04 1.566092790339368435e-06 5.391042901039425983e-04 3.412458083913827542e-05 2.728600068037113857e-07\n",
      "1.753899209669951276e-03 6.550035549816257685e-03 3.096065240513645733e-03 1.647188669350515015e-04 6.109480946671880892e-04 2.899531838222248778e-04\n",
      "2.434692605590926817e-03 5.496043585855314717e-04 1.570303582254517494e-05 4.439563022824187847e-04 1.003531769045905650e-04 2.869207195055911312e-06\n",
      "4.073340219040488819e-03 3.123506914056939365e-03 3.031528669019678546e-04 4.698263932206958159e-04 3.601264525388473249e-04 3.506413756007760191e-05\n",
      "1.886223092699257364e-03 1.376419465293210465e-05 1.271264693514240207e-08 4.322375970281004350e-04 3.158969778907115547e-06 2.922001387460886629e-09\n",
      "8.659940408499711140e-04 1.314794085427450909e-04 2.526550609172062423e-06 2.737223754608891649e-04 4.158091713955475649e-05 7.991755575730980088e-07\n",
      "2.168776220639045960e-03 1.241301512214576519e-03 8.992226714577000735e-05 3.663018634961667970e-04 2.097157559696715128e-04 1.521239301445258039e-05\n",
      "3.094576346818422863e-03 5.422450591874294901e-06 1.202590027560290764e-09 5.547621248752236450e-04 9.745448392315227654e-07 2.016372521837331812e-10\n",
      "1.467900566186308708e-02 2.099053905957326549e-05 3.799076608856921666e-09 1.199915710338958410e-03 1.736700420089061989e-06 2.851581367178794324e-10\n",
      "7.009013249648088362e-04 1.924130849351168848e-04 6.685590101307425925e-06 2.335530845806776988e-04 6.413777173264222694e-05 2.229047721259129782e-06\n",
      "6.017227021893889471e-02 9.824695567029362309e-03 2.030342140320051669e-04 2.196156283274762044e-03 3.727608147102549094e-04 7.803057731023860886e-06\n",
      "2.884482220136819208e-03 4.206663917077912984e-02 7.764887860908453732e-02 8.605117227929831006e-05 1.182410001951831333e-03 2.115278277489171781e-03\n",
      "5.195734813572716604e-03 4.264743362902834178e-06 4.430642519537286717e-10 7.182519083995617809e-04 5.920722468129470991e-07 2.016372521837331812e-10\n",
      "8.150967671429754091e-04 8.381245729505160114e-05 1.090775562095913642e-06 2.715740460917792230e-04 2.794055305843380068e-05 3.636783351283437888e-07\n",
      "1.164489999801343600e-03 1.335708344287755978e-04 1.939165771069895072e-06 3.227611378975152063e-04 3.705129558881760463e-05 5.380124242657545125e-07\n",
      "6.307847459169124704e-03 5.813912757478112425e-03 6.782397833520192876e-04 5.568425330792265869e-04 5.123070683550184088e-04 6.011139323212852809e-05\n",
      "2.629495174766960375e-03 2.528841164975914602e-02 3.078209317547386803e-02 1.107401000608694482e-04 1.030464879838090654e-03 1.251060733884390560e-03\n",
      "1.309393283207782588e-03 5.602647385130055113e-04 3.034197827855855678e-05 3.002275419434187139e-04 1.285140676059426368e-04 6.964227541816551639e-06\n",
      "1.943552534045838165e-01 4.474529157127982160e-05 1.303844143762944441e-09 3.855242324233950496e-03 1.056388526724012051e-06 1.164153218269348145e-10\n",
      "3.891635457432318645e-03 7.881611050764014692e-04 2.020343749120634413e-05 5.664972097213960729e-04 1.149907371722331905e-04 2.950590791503145105e-06\n",
      "2.434247069829753585e-03 5.500230797488292467e-04 1.572985042330721228e-05 4.438752589042584259e-04 1.004295898567745458e-04 2.874106591878870819e-06\n",
      "6.129164629501193673e-03 7.458742214132874082e-02 1.148834132291685073e-01 1.481179970196289033e-04 1.630731790293307422e-03 2.428617719222058314e-03\n",
      "1.371389239108067315e-03 3.738615194203376291e-03 1.289995566687851536e-03 1.716219199456402568e-04 4.662218440065479265e-04 1.613154852810277202e-04\n",
      "4.916608161329438786e-03 3.498144706760597522e-02 3.150194477106471602e-02 1.882366395269612460e-04 1.283202913011788999e-03 1.164052423612584736e-03\n",
      "3.546711122151879891e-03 4.673757023644364850e-03 7.795318542043183641e-04 3.738596122325847648e-04 4.913066686863232745e-04 8.230210617244275776e-05\n",
      "1.085659548213779857e-02 1.220637505277655244e-02 1.737029465084249935e-03 6.886646502679577174e-04 7.697611442665935628e-04 1.108350458147435108e-04\n",
      "6.099244409157655866e-03 7.555789944824198301e-07 1.184830011879967060e-11 7.780419391836334653e-04 9.686867094112722951e-08 1.164153218269348145e-10\n",
      "3.895941068164265886e-03 8.789601078751374530e-04 2.509882396051210662e-05 5.612051704580579923e-04 1.268864522248606041e-04 3.627227371026197089e-06\n",
      "3.708116509181014209e-03 4.838912317006727193e-04 7.992259118516642502e-06 5.710013827097034636e-04 7.469736294825167358e-05 1.234597243646981403e-06\n",
      "2.699224293995161617e-03 7.756777911094303590e-07 2.821387568019417813e-11 5.186172592835313570e-04 1.493658483449055098e-07 nan\n",
      "1.829648863741040188e-03 7.001205381129693706e-05 3.390824463433972369e-07 4.192970986492646542e-04 1.606730625644741141e-05 7.782997687467402294e-08\n",
      "\n"
     ]
    }
   ],
   "source": [
    "fin = open('populations.dat','r')\n",
    "text = fin.read()\n",
    "fin.close()\n",
    "print text"
   ]
  },
  {
   "cell_type": "markdown",
   "metadata": {},
   "source": [
    "There are 100 rows corresponding to 100 clustered states. 6 columns corresponding to populations of each state (row) for 3 lambda values (first 3 columns) and population change (last 3 columns). "
   ]
  },
  {
   "cell_type": "markdown",
   "metadata": {},
   "source": [
    "Then let's take a look at the output figure (\"BICePs.pdf\")."
   ]
  },
  {
   "cell_type": "markdown",
   "metadata": {},
   "source": [
    "<img src=\"BICePs.png\" height=\"500\" width=\"500\">"
   ]
  },
  {
   "cell_type": "markdown",
   "metadata": {},
   "source": [
    "The top left panel shows the population of each states in the presence (y-axis) and absense (x-axis) of computational modeling prior information. You can find some states (e.g state 38, 59) get awarded after including computational prior information. If you check [this work](https://onlinelibrary.wiley.com/doi/full/10.1002/jcc.23738) you will see how misleading the results will be if we only use experimental restraints without computational prior information. \n",
    "The other three panels show the distribution of nuisance parameters in the presence or absence of computational modeling information. It may not be clear in this example due to the limit of finite sampling, but based on our experience, including prior information from our simulations will lower the nuisance parameters than only using experimental restraints."
   ]
  }
 ],
 "metadata": {
  "kernelspec": {
   "display_name": "Python 2",
   "language": "python",
   "name": "python2"
  },
  "language_info": {
   "codemirror_mode": {
    "name": "ipython",
    "version": 2
   },
   "file_extension": ".py",
   "mimetype": "text/x-python",
   "name": "python",
   "nbconvert_exporter": "python",
   "pygments_lexer": "ipython2",
   "version": "2.7.13"
  }
 },
 "nbformat": 4,
 "nbformat_minor": 1
}
