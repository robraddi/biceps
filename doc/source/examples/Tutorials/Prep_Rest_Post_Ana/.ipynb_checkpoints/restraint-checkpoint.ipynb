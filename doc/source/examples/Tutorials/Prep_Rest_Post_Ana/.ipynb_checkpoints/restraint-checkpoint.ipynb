{
 "cells": [
  {
   "cell_type": "markdown",
   "metadata": {},
   "source": [
    "<h1 style=\"align: center;font-size: 18pt;\">Restraint</h1>\n",
    "\n",
    "<hr style=\"height:2.5px\">\n",
    "\n",
    "This tutorial shows the user how to appropriately use the `Restraint class` to building the ensemble by importing the data files that were prepared from the previous tutorial [Preparation](https://biceps.readthedocs.io/en/latest/examples/Tutorials/Prep_Rest_Post_Ana/Preparation.html) via the `Preparation class`.  For simplicity, we will construct an ensemble for only a single lambda value.\n",
    "\n",
    "<hr style=\"height:2.5px\">"
   ]
  },
  {
   "cell_type": "code",
   "execution_count": 18,
   "metadata": {},
   "outputs": [],
   "source": [
    "import sys, os\n",
    "import numpy as np\n",
    "import biceps\n",
    "from biceps import init_res # class to initialize restraints"
   ]
  },
  {
   "cell_type": "code",
   "execution_count": 19,
   "metadata": {},
   "outputs": [
    {
     "name": "stdout",
     "output_type": "stream",
     "text": [
      "[['../../cineromycin_B/noe_J/0.J', '../../cineromycin_B/noe_J/0.noe'], ['../../cineromycin_B/noe_J/1.J', '../../cineromycin_B/noe_J/1.noe'], ['../../cineromycin_B/noe_J/2.J', '../../cineromycin_B/noe_J/2.noe'], ['../../cineromycin_B/noe_J/3.J', '../../cineromycin_B/noe_J/3.noe'], ['../../cineromycin_B/noe_J/4.J', '../../cineromycin_B/noe_J/4.noe'], ['../../cineromycin_B/noe_J/5.J', '../../cineromycin_B/noe_J/5.noe'], ['../../cineromycin_B/noe_J/6.J', '../../cineromycin_B/noe_J/6.noe'], ['../../cineromycin_B/noe_J/7.J', '../../cineromycin_B/noe_J/7.noe'], ['../../cineromycin_B/noe_J/8.J', '../../cineromycin_B/noe_J/8.noe'], ['../../cineromycin_B/noe_J/9.J', '../../cineromycin_B/noe_J/9.noe'], ['../../cineromycin_B/noe_J/10.J', '../../cineromycin_B/noe_J/10.noe'], ['../../cineromycin_B/noe_J/11.J', '../../cineromycin_B/noe_J/11.noe'], ['../../cineromycin_B/noe_J/12.J', '../../cineromycin_B/noe_J/12.noe'], ['../../cineromycin_B/noe_J/13.J', '../../cineromycin_B/noe_J/13.noe'], ['../../cineromycin_B/noe_J/14.J', '../../cineromycin_B/noe_J/14.noe'], ['../../cineromycin_B/noe_J/15.J', '../../cineromycin_B/noe_J/15.noe'], ['../../cineromycin_B/noe_J/16.J', '../../cineromycin_B/noe_J/16.noe'], ['../../cineromycin_B/noe_J/17.J', '../../cineromycin_B/noe_J/17.noe'], ['../../cineromycin_B/noe_J/18.J', '../../cineromycin_B/noe_J/18.noe'], ['../../cineromycin_B/noe_J/19.J', '../../cineromycin_B/noe_J/19.noe'], ['../../cineromycin_B/noe_J/20.J', '../../cineromycin_B/noe_J/20.noe'], ['../../cineromycin_B/noe_J/21.J', '../../cineromycin_B/noe_J/21.noe'], ['../../cineromycin_B/noe_J/22.J', '../../cineromycin_B/noe_J/22.noe'], ['../../cineromycin_B/noe_J/23.J', '../../cineromycin_B/noe_J/23.noe'], ['../../cineromycin_B/noe_J/24.J', '../../cineromycin_B/noe_J/24.noe'], ['../../cineromycin_B/noe_J/25.J', '../../cineromycin_B/noe_J/25.noe'], ['../../cineromycin_B/noe_J/26.J', '../../cineromycin_B/noe_J/26.noe'], ['../../cineromycin_B/noe_J/27.J', '../../cineromycin_B/noe_J/27.noe'], ['../../cineromycin_B/noe_J/28.J', '../../cineromycin_B/noe_J/28.noe'], ['../../cineromycin_B/noe_J/29.J', '../../cineromycin_B/noe_J/29.noe'], ['../../cineromycin_B/noe_J/30.J', '../../cineromycin_B/noe_J/30.noe'], ['../../cineromycin_B/noe_J/31.J', '../../cineromycin_B/noe_J/31.noe'], ['../../cineromycin_B/noe_J/32.J', '../../cineromycin_B/noe_J/32.noe'], ['../../cineromycin_B/noe_J/33.J', '../../cineromycin_B/noe_J/33.noe'], ['../../cineromycin_B/noe_J/34.J', '../../cineromycin_B/noe_J/34.noe'], ['../../cineromycin_B/noe_J/35.J', '../../cineromycin_B/noe_J/35.noe'], ['../../cineromycin_B/noe_J/36.J', '../../cineromycin_B/noe_J/36.noe'], ['../../cineromycin_B/noe_J/37.J', '../../cineromycin_B/noe_J/37.noe'], ['../../cineromycin_B/noe_J/38.J', '../../cineromycin_B/noe_J/38.noe'], ['../../cineromycin_B/noe_J/39.J', '../../cineromycin_B/noe_J/39.noe'], ['../../cineromycin_B/noe_J/40.J', '../../cineromycin_B/noe_J/40.noe'], ['../../cineromycin_B/noe_J/41.J', '../../cineromycin_B/noe_J/41.noe'], ['../../cineromycin_B/noe_J/42.J', '../../cineromycin_B/noe_J/42.noe'], ['../../cineromycin_B/noe_J/43.J', '../../cineromycin_B/noe_J/43.noe'], ['../../cineromycin_B/noe_J/44.J', '../../cineromycin_B/noe_J/44.noe'], ['../../cineromycin_B/noe_J/45.J', '../../cineromycin_B/noe_J/45.noe'], ['../../cineromycin_B/noe_J/46.J', '../../cineromycin_B/noe_J/46.noe'], ['../../cineromycin_B/noe_J/47.J', '../../cineromycin_B/noe_J/47.noe'], ['../../cineromycin_B/noe_J/48.J', '../../cineromycin_B/noe_J/48.noe'], ['../../cineromycin_B/noe_J/49.J', '../../cineromycin_B/noe_J/49.noe'], ['../../cineromycin_B/noe_J/50.J', '../../cineromycin_B/noe_J/50.noe'], ['../../cineromycin_B/noe_J/51.J', '../../cineromycin_B/noe_J/51.noe'], ['../../cineromycin_B/noe_J/52.J', '../../cineromycin_B/noe_J/52.noe'], ['../../cineromycin_B/noe_J/53.J', '../../cineromycin_B/noe_J/53.noe'], ['../../cineromycin_B/noe_J/54.J', '../../cineromycin_B/noe_J/54.noe'], ['../../cineromycin_B/noe_J/55.J', '../../cineromycin_B/noe_J/55.noe'], ['../../cineromycin_B/noe_J/56.J', '../../cineromycin_B/noe_J/56.noe'], ['../../cineromycin_B/noe_J/57.J', '../../cineromycin_B/noe_J/57.noe'], ['../../cineromycin_B/noe_J/58.J', '../../cineromycin_B/noe_J/58.noe'], ['../../cineromycin_B/noe_J/59.J', '../../cineromycin_B/noe_J/59.noe'], ['../../cineromycin_B/noe_J/60.J', '../../cineromycin_B/noe_J/60.noe'], ['../../cineromycin_B/noe_J/61.J', '../../cineromycin_B/noe_J/61.noe'], ['../../cineromycin_B/noe_J/62.J', '../../cineromycin_B/noe_J/62.noe'], ['../../cineromycin_B/noe_J/63.J', '../../cineromycin_B/noe_J/63.noe'], ['../../cineromycin_B/noe_J/64.J', '../../cineromycin_B/noe_J/64.noe'], ['../../cineromycin_B/noe_J/65.J', '../../cineromycin_B/noe_J/65.noe'], ['../../cineromycin_B/noe_J/66.J', '../../cineromycin_B/noe_J/66.noe'], ['../../cineromycin_B/noe_J/67.J', '../../cineromycin_B/noe_J/67.noe'], ['../../cineromycin_B/noe_J/68.J', '../../cineromycin_B/noe_J/68.noe'], ['../../cineromycin_B/noe_J/69.J', '../../cineromycin_B/noe_J/69.noe'], ['../../cineromycin_B/noe_J/70.J', '../../cineromycin_B/noe_J/70.noe'], ['../../cineromycin_B/noe_J/71.J', '../../cineromycin_B/noe_J/71.noe'], ['../../cineromycin_B/noe_J/72.J', '../../cineromycin_B/noe_J/72.noe'], ['../../cineromycin_B/noe_J/73.J', '../../cineromycin_B/noe_J/73.noe'], ['../../cineromycin_B/noe_J/74.J', '../../cineromycin_B/noe_J/74.noe'], ['../../cineromycin_B/noe_J/75.J', '../../cineromycin_B/noe_J/75.noe'], ['../../cineromycin_B/noe_J/76.J', '../../cineromycin_B/noe_J/76.noe'], ['../../cineromycin_B/noe_J/77.J', '../../cineromycin_B/noe_J/77.noe'], ['../../cineromycin_B/noe_J/78.J', '../../cineromycin_B/noe_J/78.noe'], ['../../cineromycin_B/noe_J/79.J', '../../cineromycin_B/noe_J/79.noe'], ['../../cineromycin_B/noe_J/80.J', '../../cineromycin_B/noe_J/80.noe'], ['../../cineromycin_B/noe_J/81.J', '../../cineromycin_B/noe_J/81.noe'], ['../../cineromycin_B/noe_J/82.J', '../../cineromycin_B/noe_J/82.noe'], ['../../cineromycin_B/noe_J/83.J', '../../cineromycin_B/noe_J/83.noe'], ['../../cineromycin_B/noe_J/84.J', '../../cineromycin_B/noe_J/84.noe'], ['../../cineromycin_B/noe_J/85.J', '../../cineromycin_B/noe_J/85.noe'], ['../../cineromycin_B/noe_J/86.J', '../../cineromycin_B/noe_J/86.noe'], ['../../cineromycin_B/noe_J/87.J', '../../cineromycin_B/noe_J/87.noe'], ['../../cineromycin_B/noe_J/88.J', '../../cineromycin_B/noe_J/88.noe'], ['../../cineromycin_B/noe_J/89.J', '../../cineromycin_B/noe_J/89.noe'], ['../../cineromycin_B/noe_J/90.J', '../../cineromycin_B/noe_J/90.noe'], ['../../cineromycin_B/noe_J/91.J', '../../cineromycin_B/noe_J/91.noe'], ['../../cineromycin_B/noe_J/92.J', '../../cineromycin_B/noe_J/92.noe'], ['../../cineromycin_B/noe_J/93.J', '../../cineromycin_B/noe_J/93.noe'], ['../../cineromycin_B/noe_J/94.J', '../../cineromycin_B/noe_J/94.noe'], ['../../cineromycin_B/noe_J/95.J', '../../cineromycin_B/noe_J/95.noe'], ['../../cineromycin_B/noe_J/96.J', '../../cineromycin_B/noe_J/96.noe'], ['../../cineromycin_B/noe_J/97.J', '../../cineromycin_B/noe_J/97.noe'], ['../../cineromycin_B/noe_J/98.J', '../../cineromycin_B/noe_J/98.noe'], ['../../cineromycin_B/noe_J/99.J', '../../cineromycin_B/noe_J/99.noe']]\n",
      "100 2\n"
     ]
    }
   ],
   "source": [
    "data_dir = \"../../cineromycin_B/\"\n",
    "\n",
    "#########################################\n",
    "# Let's create our ensemble of structures\n",
    "############ Initialization #############    \n",
    "# Specify necessary argument values\n",
    "dataFiles = data_dir+'noe_J'                  # output directory of BICePs formated input file from this scripts\n",
    "out_dir=dataFiles       \n",
    "data = biceps.sort_data(dataFiles)   # sorting data in the folder and figure out what types of data are used\n",
    "print data\n",
    "print len(data),len(data[0])\n",
    "\n",
    "energies_filename =  data_dir+'cineromycinB_QMenergies.dat'\n",
    "energies = np.loadtxt(energies_filename)*627.509  # convert from hartrees to kcal/mol\n",
    "energies = energies/0.5959   # convert to reduced free energies F = f/kT\n",
    "energies -= energies.min()  # set ground state to zero, just in case\n",
    "outdir = data_dir+'results_ref_normal'\n",
    "\n",
    "# Make a new directory if we have to\n",
    "if not os.path.exists(outdir):\n",
    "    os.mkdir(outdir)"
   ]
  },
  {
   "cell_type": "code",
   "execution_count": 20,
   "metadata": {},
   "outputs": [
    {
     "name": "stdout",
     "output_type": "stream",
     "text": [
      "['J', 'noe']\n"
     ]
    }
   ],
   "source": [
    "res = biceps.list_res(data)\n",
    "print res"
   ]
  },
  {
   "cell_type": "markdown",
   "metadata": {},
   "source": [
    "Another key parameter for BICePs set-up is the type of reference potential for each experimental observables. More information of reference potential can be found [here](https://biceps.readthedocs.io/en/latest/theory.html).\n",
    "\n",
    "Three reference potentials are supported in BICePs: uniform ('uniform'), exponential ('exp'), Gaussian ('gau').  \n",
    "\n",
    "As we found in previous research, exponential reference potential is useful in most cases. Some higher level task may require more in reference potential selection (e.g [force field parametrization](https://pubs.acs.org/doi/10.1021/acs.jpcb.7b11871)).\n",
    "\n",
    "(Noet: It will be helpful to print out what is the order of experimental observables included in BICePs sampling as shown above.)"
   ]
  },
  {
   "cell_type": "code",
   "execution_count": 21,
   "metadata": {},
   "outputs": [],
   "source": [
    "ref=['uniform','exp']\n",
    "uncern=[[0.05,20.0,1.02],[0.05,5.0,1.02]]\n",
    "gamma = [0.2,5.0,1.01]"
   ]
  },
  {
   "cell_type": "markdown",
   "metadata": {},
   "source": [
    "#### Quick note on lambda values:\n",
    "We need to specify what lambda value(s) we want to use in BICePs samplings. Briefly, lambda values are similar to the parameters used in free energy perturbation (FEP) and has effect on the BICePs score. The lambda values represent how much prior information from computational modeling is included in BICePs sampling (1.0 means all, 0.0 means none). As we explained in [this work](https://pubs.acs.org/doi/10.1021/acs.jpcb.7b11871), one can consider BICePs score as the relative free energy change between different models. More lambda values will increase the samplings for [multistate Bennett acceptance ratio (MBAR)](http://www.alchemistry.org/wiki/Multistate_Bennett_Acceptance_Ratio) predictions in free energy change and populations. However more lambda values also will slow down the whole process of BICePs (as more samplings need to run), so balancing the accuracy and efficiency is important. To successfully finish a BICePs sampling, lambda values of 0.0 and 1.0 are necessary. Based on our experience, the lambda values of 0.0,0.5,1.0 are good enough for BICePs sampling.\n",
    "**In this tutorial, we will go through a single lambda (0.0) for simplicity.**"
   ]
  },
  {
   "cell_type": "code",
   "execution_count": 22,
   "metadata": {},
   "outputs": [
    {
     "name": "stdout",
     "output_type": "stream",
     "text": [
      "[[<biceps.Restraint.Restraint_J object at 0x1a15254c50>, <biceps.Restraint.Restraint_noe object at 0x1a1593d710>], [<biceps.Restraint.Restraint_J object at 0x1a1524cd10>, <biceps.Restraint.Restraint_noe object at 0x1a15254d90>], [<biceps.Restraint.Restraint_J object at 0x1a15254e10>, <biceps.Restraint.Restraint_noe object at 0x1a1593d850>], [<biceps.Restraint.Restraint_J object at 0x1a1528f1d0>, <biceps.Restraint.Restraint_noe object at 0x1a152cb210>], [<biceps.Restraint.Restraint_J object at 0x1a15242d50>, <biceps.Restraint.Restraint_noe object at 0x1a153054d0>], [<biceps.Restraint.Restraint_J object at 0x1a152fe1d0>, <biceps.Restraint.Restraint_noe object at 0x1a152fe210>], [<biceps.Restraint.Restraint_J object at 0x1a152e4bd0>, <biceps.Restraint.Restraint_noe object at 0x1a152e4c10>], [<biceps.Restraint.Restraint_J object at 0x1a1535cf10>, <biceps.Restraint.Restraint_noe object at 0x1a1531f850>], [<biceps.Restraint.Restraint_J object at 0x1a15347710>, <biceps.Restraint.Restraint_noe object at 0x1a153e8b90>], [<biceps.Restraint.Restraint_J object at 0x1a15425c10>, <biceps.Restraint.Restraint_noe object at 0x1a15425cd0>], [<biceps.Restraint.Restraint_J object at 0x1a15448790>, <biceps.Restraint.Restraint_noe object at 0x1a15461cd0>], [<biceps.Restraint.Restraint_J object at 0x1a154857d0>, <biceps.Restraint.Restraint_noe object at 0x1a1549fcd0>], [<biceps.Restraint.Restraint_J object at 0x1a1548c650>, <biceps.Restraint.Restraint_noe object at 0x1a154d4dd0>], [<biceps.Restraint.Restraint_J object at 0x1a15519f10>, <biceps.Restraint.Restraint_noe object at 0x1a154c0a10>], [<biceps.Restraint.Restraint_J object at 0x1a15556fd0>, <biceps.Restraint.Restraint_noe object at 0x1a15565290>], [<biceps.Restraint.Restraint_J object at 0x1a1558ced0>, <biceps.Restraint.Restraint_noe object at 0x1a15506b90>], [<biceps.Restraint.Restraint_J object at 0x1a155e0290>, <biceps.Restraint.Restraint_noe object at 0x1a155d8090>], [<biceps.Restraint.Restraint_J object at 0x1a155ac2d0>, <biceps.Restraint.Restraint_noe object at 0x1a155e82d0>], [<biceps.Restraint.Restraint_J object at 0x1a15615250>, <biceps.Restraint.Restraint_noe object at 0x1a156252d0>], [<biceps.Restraint.Restraint_J object at 0x1a15543b50>, <biceps.Restraint.Restraint_noe object at 0x1a15543e10>], [<biceps.Restraint.Restraint_J object at 0x1a15654310>, <biceps.Restraint.Restraint_noe object at 0x1a156ce3d0>], [<biceps.Restraint.Restraint_J object at 0x1a1570c050>, <biceps.Restraint.Restraint_noe object at 0x1a1570c490>], [<biceps.Restraint.Restraint_J object at 0x1a1569f4d0>, <biceps.Restraint.Restraint_noe object at 0x1a1518b3d0>], [<biceps.Restraint.Restraint_J object at 0x1a15725fd0>, <biceps.Restraint.Restraint_noe object at 0x1a15732310>], [<biceps.Restraint.Restraint_J object at 0x1a151be2d0>, <biceps.Restraint.Restraint_noe object at 0x1a151be310>], [<biceps.Restraint.Restraint_J object at 0x1a151e8050>, <biceps.Restraint.Restraint_noe object at 0x1a15767c90>], [<biceps.Restraint.Restraint_J object at 0x1a15160ad0>, <biceps.Restraint.Restraint_noe object at 0x1a1520cc50>], [<biceps.Restraint.Restraint_J object at 0x1a15779210>, <biceps.Restraint.Restraint_noe object at 0x1a15789350>], [<biceps.Restraint.Restraint_J object at 0x1a157fa550>, <biceps.Restraint.Restraint_noe object at 0x1a151dce10>], [<biceps.Restraint.Restraint_J object at 0x1a157b6150>, <biceps.Restraint.Restraint_noe object at 0x1a157c6410>], [<biceps.Restraint.Restraint_J object at 0x1a158034d0>, <biceps.Restraint.Restraint_noe object at 0x1a1586f410>], [<biceps.Restraint.Restraint_J object at 0x1a158c3850>, <biceps.Restraint.Restraint_noe object at 0x1a15891810>], [<biceps.Restraint.Restraint_J object at 0x1a15901850>, <biceps.Restraint.Restraint_noe object at 0x1a158cc810>], [<biceps.Restraint.Restraint_J object at 0x1a15924450>, <biceps.Restraint.Restraint_noe object at 0x1a158ba550>], [<biceps.Restraint.Restraint_J object at 0x1a1583f910>, <biceps.Restraint.Restraint_noe object at 0x1a1590ac10>], [<biceps.Restraint.Restraint_J object at 0x1a15094e50>, <biceps.Restraint.Restraint_noe object at 0x1a15933590>], [<biceps.Restraint.Restraint_J object at 0x1a1577a250>, <biceps.Restraint.Restraint_noe object at 0x1a1577a2d0>], [<biceps.Restraint.Restraint_J object at 0x1a15382b50>, <biceps.Restraint.Restraint_noe object at 0x1a1552b110>], [<biceps.Restraint.Restraint_J object at 0x1a1552b0d0>, <biceps.Restraint.Restraint_noe object at 0x1a159587d0>], [<biceps.Restraint.Restraint_J object at 0x1a15761390>, <biceps.Restraint.Restraint_noe object at 0x1a15761790>], [<biceps.Restraint.Restraint_J object at 0x1a159504d0>, <biceps.Restraint.Restraint_noe object at 0x1a15950450>], [<biceps.Restraint.Restraint_J object at 0x1a1592b990>, <biceps.Restraint.Restraint_noe object at 0x1a1592b910>], [<biceps.Restraint.Restraint_J object at 0x1a16021b90>, <biceps.Restraint.Restraint_noe object at 0x1a15913450>], [<biceps.Restraint.Restraint_J object at 0x1a158f6150>, <biceps.Restraint.Restraint_noe object at 0x1a158ef850>], [<biceps.Restraint.Restraint_J object at 0x1a158c30d0>, <biceps.Restraint.Restraint_noe object at 0x1a1586f790>], [<biceps.Restraint.Restraint_J object at 0x1a158cc350>, <biceps.Restraint.Restraint_noe object at 0x1a158cc2d0>], [<biceps.Restraint.Restraint_J object at 0x1a158ba110>, <biceps.Restraint.Restraint_noe object at 0x1a158896d0>], [<biceps.Restraint.Restraint_J object at 0x1a1589ab50>, <biceps.Restraint.Restraint_noe object at 0x1a15891290>], [<biceps.Restraint.Restraint_J object at 0x1a1584ab90>, <biceps.Restraint.Restraint_noe object at 0x1a1584abd0>], [<biceps.Restraint.Restraint_J object at 0x1a15828090>, <biceps.Restraint.Restraint_noe object at 0x1a15828150>], [<biceps.Restraint.Restraint_J object at 0x1a15803110>, <biceps.Restraint.Restraint_noe object at 0x1a15803150>], [<biceps.Restraint.Restraint_J object at 0x1a157e2090>, <biceps.Restraint.Restraint_noe object at 0x1a1580e190>], [<biceps.Restraint.Restraint_J object at 0x1a157f3bd0>, <biceps.Restraint.Restraint_noe object at 0x1a157f3b50>], [<biceps.Restraint.Restraint_J object at 0x1a157a5b90>, <biceps.Restraint.Restraint_noe object at 0x1a157a5b50>], [<biceps.Restraint.Restraint_J object at 0x1a157d0fd0>, <biceps.Restraint.Restraint_noe object at 0x1a157ad590>], [<biceps.Restraint.Restraint_J object at 0x1a15792510>, <biceps.Restraint.Restraint_noe object at 0x1a15789b90>], [<biceps.Restraint.Restraint_J object at 0x1a15770210>, <biceps.Restraint.Restraint_noe object at 0x1a15756ed0>], [<biceps.Restraint.Restraint_J object at 0x1a1573dd90>, <biceps.Restraint.Restraint_noe object at 0x1a1573de50>], [<biceps.Restraint.Restraint_J object at 0x1a151d3290>, <biceps.Restraint.Restraint_noe object at 0x1a151d3350>], [<biceps.Restraint.Restraint_J object at 0x1a15767410>, <biceps.Restraint.Restraint_noe object at 0x1a15767ad0>], [<biceps.Restraint.Restraint_J object at 0x1a15200fd0>, <biceps.Restraint.Restraint_noe object at 0x1a152009d0>], [<biceps.Restraint.Restraint_J object at 0x1a151e8190>, <biceps.Restraint.Restraint_noe object at 0x1a1520c2d0>], [<biceps.Restraint.Restraint_J object at 0x1a1573a090>, <biceps.Restraint.Restraint_noe object at 0x1a1514f650>], [<biceps.Restraint.Restraint_J object at 0x1a1571fad0>, <biceps.Restraint.Restraint_noe object at 0x1a15160390>], [<biceps.Restraint.Restraint_J object at 0x1a15152390>, <biceps.Restraint.Restraint_noe object at 0x1a15152850>], [<biceps.Restraint.Restraint_J object at 0x1a156faa90>, <biceps.Restraint.Restraint_noe object at 0x1a156f19d0>], [<biceps.Restraint.Restraint_J object at 0x1a156ce4d0>, <biceps.Restraint.Restraint_noe object at 0x1a15690810>], [<biceps.Restraint.Restraint_J object at 0x1a1570c910>, <biceps.Restraint.Restraint_noe object at 0x1a1570cad0>], [<biceps.Restraint.Restraint_J object at 0x1a156dddd0>, <biceps.Restraint.Restraint_noe object at 0x1a156ddd50>], [<biceps.Restraint.Restraint_J object at 0x1a156bc410>, <biceps.Restraint.Restraint_noe object at 0x1a151b0210>], [<biceps.Restraint.Restraint_J object at 0x1a156bc390>, <biceps.Restraint.Restraint_noe object at 0x1a1566d650>], [<biceps.Restraint.Restraint_J object at 0x1a1567ffd0>, <biceps.Restraint.Restraint_noe object at 0x1a15676310>], [<biceps.Restraint.Restraint_J object at 0x1a1565a410>, <biceps.Restraint.Restraint_noe object at 0x1a1562ef50>], [<biceps.Restraint.Restraint_J object at 0x1a15640fd0>, <biceps.Restraint.Restraint_noe object at 0x1a156360d0>], [<biceps.Restraint.Restraint_J object at 0x1a155f3150>, <biceps.Restraint.Restraint_noe object at 0x1a155f3190>], [<biceps.Restraint.Restraint_J object at 0x1a155d1150>, <biceps.Restraint.Restraint_noe object at 0x1a155d10d0>], [<biceps.Restraint.Restraint_J object at 0x1a155ac050>, <biceps.Restraint.Restraint_noe object at 0x1a155ac990>], [<biceps.Restraint.Restraint_J object at 0x1a155b4e50>, <biceps.Restraint.Restraint_noe object at 0x1a155b4dd0>], [<biceps.Restraint.Restraint_J object at 0x1a155d8ed0>, <biceps.Restraint.Restraint_noe object at 0x1a155821d0>], [<biceps.Restraint.Restraint_J object at 0x1a15565090>, <biceps.Restraint.Restraint_noe object at 0x1a15565050>], [<biceps.Restraint.Restraint_J object at 0x1a1554d110>, <biceps.Restraint.Restraint_noe object at 0x1a1556fa10>], [<biceps.Restraint.Restraint_J object at 0x1a15593ad0>, <biceps.Restraint.Restraint_noe object at 0x1a155566d0>], [<biceps.Restraint.Restraint_J object at 0x1a15532dd0>, <biceps.Restraint.Restraint_noe object at 0x1a15532e10>], [<biceps.Restraint.Restraint_J object at 0x1a1553be50>, <biceps.Restraint.Restraint_noe object at 0x1a15510450>], [<biceps.Restraint.Restraint_J object at 0x1a154e5ed0>, <biceps.Restraint.Restraint_noe object at 0x1a154f4b90>], [<biceps.Restraint.Restraint_J object at 0x1a1549f650>, <biceps.Restraint.Restraint_noe object at 0x1a1549f710>], [<biceps.Restraint.Restraint_J object at 0x1a15485550>, <biceps.Restraint.Restraint_noe object at 0x1a15485650>], [<biceps.Restraint.Restraint_J object at 0x1a154ae110>, <biceps.Restraint.Restraint_noe object at 0x1a1548c290>], [<biceps.Restraint.Restraint_J object at 0x1a154250d0>, <biceps.Restraint.Restraint_noe object at 0x1a15425190>], [<biceps.Restraint.Restraint_J object at 0x1a1545ab90>, <biceps.Restraint.Restraint_noe object at 0x1a153b6d90>], [<biceps.Restraint.Restraint_J object at 0x1a15472090>, <biceps.Restraint.Restraint_noe object at 0x1a15448590>], [<biceps.Restraint.Restraint_J object at 0x1a15409950>, <biceps.Restraint.Restraint_noe object at 0x1a1541c210>], [<biceps.Restraint.Restraint_J object at 0x1a15411450>, <biceps.Restraint.Restraint_noe object at 0x1a153f0850>], [<biceps.Restraint.Restraint_J object at 0x1a153cd5d0>, <biceps.Restraint.Restraint_noe object at 0x1a153c2b10>], [<biceps.Restraint.Restraint_J object at 0x1a15399fd0>, <biceps.Restraint.Restraint_noe object at 0x1a153d6490>], [<biceps.Restraint.Restraint_J object at 0x1a15378f90>, <biceps.Restraint.Restraint_noe object at 0x1a1536d090>], [<biceps.Restraint.Restraint_J object at 0x1a15351450>, <biceps.Restraint.Restraint_noe object at 0x1a15351510>], [<biceps.Restraint.Restraint_J object at 0x1a153a3fd0>, <biceps.Restraint.Restraint_noe object at 0x1a153a3f10>], [<biceps.Restraint.Restraint_J object at 0x1a15364a90>, <biceps.Restraint.Restraint_noe object at 0x1a15340890>], [<biceps.Restraint.Restraint_J object at 0x1a152890d0>, <biceps.Restraint.Restraint_noe object at 0x1a15289190>]]\n"
     ]
    }
   ],
   "source": [
    "lam = 0.0\n",
    "verbose = False # True\n",
    "# We will instantiate a number of Structure() objects to construct the ensemble\n",
    "ensemble = []\n",
    "for i in range(energies.shape[0]):\n",
    "    if verbose:\n",
    "        print '\\n#### STRUCTURE %d ####'%i\n",
    "    ensemble.append([])\n",
    "    for k in range(len(data[0])):\n",
    "        File = data[i][k]\n",
    "        if verbose:\n",
    "            print File\n",
    "        R = biceps.init_res(data_dir+'cineromycinB_pdbs/0.fixed.pdb',\n",
    "                          lam,energies[i],File,ref[k],uncern[k],gamma)\n",
    "        ensemble[-1].append(R)\n",
    "print ensemble"
   ]
  },
  {
   "cell_type": "markdown",
   "metadata": {},
   "source": [
    "Let's save the ensemble as a pickle"
   ]
  },
  {
   "cell_type": "code",
   "execution_count": 23,
   "metadata": {},
   "outputs": [],
   "source": [
    "import cPickle as pickle\n",
    "with open(data_dir+\"ensemble.pkl\",'wb') as file:\n",
    "    pickle.dump(ensemble, file)"
   ]
  },
  {
   "cell_type": "markdown",
   "metadata": {},
   "source": [
    "### Conclusion###\n",
    "In this tutorial, we explained how to use [Restraint](https://biceps.readthedocs.io/en/latest/api.html#restraint) to construct the ensemble, which we saved as a pickle file. In the next tutorial, [PosteriorSampler](https://biceps.readthedocs.io/en/latest/examples/Tutorials/Prep_Rest_Post_Ana/posteriorsampler.html) we will Sample the posterior distribution by using the `PosteriorSampler` class."
   ]
  },
  {
   "cell_type": "markdown",
   "metadata": {},
   "source": [
    "<h6 style=\"align: justify;font-size: 12pt\"># <span style=\"color:red;\">NOTE</span>: The following cell is for pretty notebook rendering</h6>"
   ]
  },
  {
   "cell_type": "code",
   "execution_count": 24,
   "metadata": {},
   "outputs": [
    {
     "data": {
      "text/html": [
       "\n",
       "<style>\n",
       "    @font-face {\n",
       "        font-family: \"Computer Modern\";\n",
       "        src: url('http://mirrors.ctan.org/fonts/cm-unicode/fonts/otf/cmunss.otf');\n",
       "    }\n",
       "    #notebook { /* centers the page content */\n",
       "    padding-left:8%;\n",
       "    padding-right:9%;\n",
       "    }\n",
       "    #ipython-main-app {\n",
       "        position: relative;\n",
       "    }\n",
       "    #jupyter-main-app {\n",
       "        position: relative;\n",
       "    }\n",
       "    div.cell{\n",
       "        width:98%;\n",
       "        margin-left:4% !important;*/\n",
       "        margin-right:4%;\n",
       "    }\n",
       "    h1 {\n",
       "        font-family: \"Charis SIL\", Palatino, serif;\n",
       "        text-align: center;\n",
       "    }\n",
       "    h4{\n",
       "        margin-top:12px;\n",
       "        margin-bottom: 3px;\n",
       "       }\n",
       "    div.text_cell_render{\n",
       "        font-family: Computer Modern, \"Helvetica Neue\", Arial, Helvetica, Geneva, sans-serif;\n",
       "        line-height: 145%;\n",
       "        font-size: 12pt;\n",
       "        width:99%;\n",
       "        margin-left:auto;\n",
       "        margin-right:auto;\n",
       "    }\n",
       "    .output_png {\n",
       "        display: block;/*table-cell;*/\n",
       "        text-align: center;\n",
       "        align: center;\n",
       "        vertical-align: middle;\n",
       "        margin-left: auto;\n",
       "        margin-right: auto;\n",
       "        width: 100%;\n",
       "    }\n",
       "    div.output_area pre {font-weight: normal; text-align: justify; }\n",
       "    .warning{\n",
       "        color: rgb( 240, 20, 20 )\n",
       "        }\n",
       "    .CodeMirror{\n",
       "            font-family: \"Source Code Pro\", source-code-pro,Consolas, monospace;\n",
       "    }\n",
       "    .prompt{\n",
       "        display: None;\n",
       "    }\n",
       "    .text_cell_render h5 {\n",
       "        font-weight: 300;\n",
       "        font-size: 16pt;\n",
       "        color: #4057A1;\n",
       "        font-style: italic;\n",
       "        margin-bottom: .5em;\n",
       "        margin-top: 0.5em;\n",
       "        display: block;\n",
       "    }\n",
       "    /* override table width restrictions as found on https://github.com/getpelican/pelican/issues/1311 */\n",
       "    .wy-table-responsive table td, .wy-table-responsive table th {\n",
       "        /* !important prevents the common CSS stylesheets from\n",
       "           overriding this as on RTD they are loaded after this stylesheet */\n",
       "        white-space: normal !important;\n",
       "    }\n",
       "\n",
       "    .wy-table-responsive {\n",
       "        overflow: visible !important;\n",
       "    }\n",
       "</style>\n",
       "\n",
       "<!-- MathJax configuration -->\n",
       "<script type=\"text/x-mathjax-config\">\n",
       "    src=\"http://cdn.mathjax.org/mathjax/latest/MathJax.js?config=TeX-AMS-MML_HTMLorMML\">\n",
       "    MathJax.Hub.Config({\n",
       "                        TeX: {\n",
       "                           extensions: [\"AMSmath.js\"]\n",
       "                           },\n",
       "                tex2jax: {\n",
       "                    inlineMath: [ ['$','$'], [\"\\\\(\",\"\\\\)\"] ],\n",
       "                    displayMath: [ ['$$','$$'], [\"\\\\[\",\"\\\\]\"] ]\n",
       "                },\n",
       "                displayAlign: 'center', // Change this to 'center' to center equations.\n",
       "                \"HTML-CSS\": {\n",
       "                    styles: {'.MathJax_Display': {\"margin\": 4}},\n",
       "                    linebreaks: { automatic: true }}\n",
       "        });\n",
       "</script>\n"
      ],
      "text/plain": [
       "<IPython.core.display.HTML object>"
      ]
     },
     "execution_count": 24,
     "metadata": {},
     "output_type": "execute_result"
    }
   ],
   "source": [
    "from IPython.core.display import HTML\n",
    "def css_styling():\n",
    "    styles = open(\"../../../theme.css\", \"r\").read()\n",
    "    return HTML(styles)\n",
    "css_styling()"
   ]
  }
 ],
 "metadata": {
  "kernelspec": {
   "display_name": "Python 2",
   "language": "python",
   "name": "python2"
  },
  "language_info": {
   "codemirror_mode": {
    "name": "ipython",
    "version": 2
   },
   "file_extension": ".py",
   "mimetype": "text/x-python",
   "name": "python",
   "nbconvert_exporter": "python",
   "pygments_lexer": "ipython2",
   "version": "2.7.16"
  }
 },
 "nbformat": 4,
 "nbformat_minor": 2
}
