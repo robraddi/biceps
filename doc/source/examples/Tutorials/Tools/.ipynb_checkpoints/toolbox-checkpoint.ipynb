{
 "cells": [
  {
   "cell_type": "code",
   "execution_count": null,
   "metadata": {
    "collapsed": true
   },
   "outputs": [],
   "source": [
    "# import source code\n",
    "sys.path.append('new_src')\n",
    "from toolbox import *"
   ]
  },
  {
   "cell_type": "code",
   "execution_count": null,
   "metadata": {
    "collapsed": true
   },
   "outputs": [],
   "source": [
    "# function: convert_pop_to_energy\n",
    "# convert from population to energy(kT): E = -kT*log(P) \n",
    "\n",
    "pop_filename = 'population.txt'\n",
    "out = convert_pop_to_energy(pop_filename)\n",
    "print out"
   ]
  },
  {
   "cell_type": "code",
   "execution_count": null,
   "metadata": {
    "collapsed": true
   },
   "outputs": [],
   "source": [
    "# function: get_J3_HN_HA\n",
    "# Compute J3_HN_HA for frames in trajectories\n",
    "\n",
    "# for only 1 *gro/*pdb file\n",
    "J = get_J3_HN_HA('J3/example.gro',model = \"Habeck\", outname='J3_out.npy')\n",
    "\n",
    "# for 1 trajectory\n",
    "J = get_J3_HN_HA(traj='J3/example.xtc',top='J3/example.gro',model = \"Habeck\", outname='J3_out.npy')\n",
    "\n",
    "# for 1 trajectory with selected frames\n",
    "\n",
    "frames = [0,1,3,5,7,9]\n",
    "J = get_J3_HN_HA(traj='J3/example.xtc',top='J3/example.gro',frame = frames, model = \"Habeck\", outname='J3_out.npy')\n",
    "\n"
   ]
  },
  {
   "cell_type": "code",
   "execution_count": null,
   "metadata": {
    "collapsed": true
   },
   "outputs": [],
   "source": [
    "# function: compute_nonaa_Jcoupling\n",
    "# compute J coupling constants of non-natural amino acids\n",
    "# Karplus relations need to be determined \n",
    "\n",
    "index = np.load('ind.npy') # atom indices\n",
    "karplus_key = np.load('Karplus.npy') # Karplus relation for each J coupling constant\n",
    "for i in range(100):\n",
    "    print i\n",
    "    J = compute_nonaa_Jcoupling('top/%d.pdb'%i, index = index, karplus_key = karplus_key)\n",
    "    np.savetxt('J_coupling/%d.txt'%i,J)"
   ]
  },
  {
   "cell_type": "code",
   "execution_count": null,
   "metadata": {
    "collapsed": true
   },
   "outputs": [],
   "source": [
    "# function: plot_ref\n",
    "# plot reference potential for each experimental restraints\n",
    "# BICePs sampling needs to be finished in advance\n",
    "\n",
    "outdir = 'results_ref_normal'\n",
    "p = plot_ref(outdir)"
   ]
  }
 ],
 "metadata": {
  "kernelspec": {
   "display_name": "Python 2",
   "language": "python",
   "name": "python2"
  },
  "language_info": {
   "codemirror_mode": {
    "name": "ipython",
    "version": 2
   },
   "file_extension": ".py",
   "mimetype": "text/x-python",
   "name": "python",
   "nbconvert_exporter": "python",
   "pygments_lexer": "ipython2",
   "version": "2.7.12"
  }
 },
 "nbformat": 4,
 "nbformat_minor": 0
}
