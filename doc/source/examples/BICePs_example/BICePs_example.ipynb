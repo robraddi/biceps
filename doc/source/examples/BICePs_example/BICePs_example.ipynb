{
 "cells": [
  {
   "cell_type": "markdown",
   "metadata": {},
   "source": [
    "<h1 style=\"align: center;font-size: 18pt;\"> Sampling </h1>\n",
    "<hr style=\"height:2.5px\">\n",
    "<h2 style=\"align: center;font-size: 12pt;\"> Summary:  In this example, we are going to show how to set up a \"master\" script to set up BICePs samplings. You are welcome to take this as a template for you and make necessary modification to get it work for you. All input files used in this tutorial are prepared from [this tutorial](https://biceps.readthedocs.io/en/latest/tutorials/Preparation/Preparation.html).\n",
    "\n",
    "<hr style=\"height:2.5px\">\n",
    "\n",
    "\n",
    "\n",
    "<hr style=\"height:2.5px\">\n",
    "<h2 style=\"align: center;font-size: 12pt;\"> Summary: In our previous work (DOI: <a href=\"https://onlinelibrary-wiley-com.libproxy.temple.edu/doi/pdf/10.1002/jcc.23738\">10.1002/jcc.23738</a>), we determine solution-state conformational populations of the 14-membered macrocycle cineromycin B, using a combination of previously published sparse Nuclear Magnetic Resonance (NMR) observables and replica exchange molecular dynamic/Quantum mehcanics (QM)-refined conformational ensembles. Cineromycin B is a 14-membered macrolide antibiotic that has become increasingly known for having activity against methicillin-resistant Staphylococcus Aureus (MRSA). In this example, we show how to calculate the consistency of computational modeling with experiment, and the relative importance of reference potentials and other model parameters. </h2>\n",
    "<hr style=\"height:2.5px\">"
   ]
  },
  {
   "cell_type": "markdown",
   "metadata": {},
   "source": [
    "First, we need to import source code for BICePs classes. More information of these classes can be found [here](https://biceps.readthedocs.io/en/latest/workflow.html)."
   ]
  },
  {
   "cell_type": "code",
   "execution_count": 2,
   "metadata": {},
   "outputs": [],
   "source": [
    "# import source code\n",
    "import sys, os, glob, cPickle\n",
    "import numpy as np\n",
    "import biceps"
   ]
  },
  {
   "cell_type": "markdown",
   "metadata": {},
   "source": [
    "Now we need to specify input files and output files folder."
   ]
  },
  {
   "cell_type": "code",
   "execution_count": 3,
   "metadata": {},
   "outputs": [],
   "source": [
    "############ Initialization #############\n",
    "# Specify necessary argument values\n",
    "\n",
    "# REQUIRED: specify number of states\n",
    "states=100\n",
    "\n",
    "# REQUIRED: specify directory of input data (BICePs readable format)\n",
    "dataFiles = 'noe_J'   \n",
    "\n",
    "# REQUIRED: sort data and figure out what experimental restraints are included for each state\n",
    "data = sort_data(dataFiles)\n",
    "\n",
    "# REQUIRED: energy file name of each state (computational prior distribution)\n",
    "\n",
    "energies_filename = 'energy.dat'\n",
    "energies = loadtxt(energies_filename)\n",
    "energies -= energies.min()  # set ground state to zero, just in case\n",
    "\n",
    "# REQUIRED: specify outcome directory of BICePs sampling\n",
    "outdir = 'results_ref_normal'\n",
    "# Make a new directory if we have to\n",
    "if not os.path.exists(outdir):\n",
    "    os.mkdir(outdir)\n"
   ]
  },
  {
   "cell_type": "markdown",
   "metadata": {},
   "source": [
    "Next, we need to specify number of steps for BICePs sampling. We recommend to run at least 1M steps for converged Monte Carlo samplings. In BICePs, we also prepare functions of checking convergence of Monte Carlo. More information can be found [here]."
   ]
  },
  {
   "cell_type": "code",
   "execution_count": 4,
   "metadata": {
    "collapsed": true
   },
   "outputs": [],
   "source": [
    "# REQUIRED: number of MCMC steps for each lambda\n",
    "nsteps = 1000000"
   ]
  },
  {
   "cell_type": "markdown",
   "metadata": {},
   "source": [
    "We need to specify what lambda values we want to use in BICePs samplings. Briefly, lambda values are similar to the parameters used in free energy perturbation (FEP) and has effect on the BICePs score. The lambda values represent how much prior information from computational modeling is included in BICePs sampling (1.0 means all, 0.0 means none). As we explained in [this work](https://pubs.acs.org/doi/10.1021/acs.jpcb.7b11871), one can consider BICePs score as the relative free energy change between different models. More lambda values will increase the samplings for [multistate Bennett acceptance ratio (MBAR)](http://www.alchemistry.org/wiki/Multistate_Bennett_Acceptance_Ratio) predictions in free energy change and populations. However more lambda values also will slow down the whole process of BICePs (as more samplings need to run), so balancing the accuracy and efficiency is important. To successfully finish a BICePs sampling, lambda values of 0.0 and 1.0 are necessary. Based on our experience, the lambda values of 0.0,0.5,1.0 are good enough for BICePs sampling."
   ]
  },
  {
   "cell_type": "code",
   "execution_count": 17,
   "metadata": {
    "collapsed": true
   },
   "outputs": [],
   "source": [
    "# REQUIRED: specify how many lambdas to sample (more lambdas will provide higher \n",
    "# accuracy but slower the whole process, lambda=0.0 and 1.0 are necessary)\n",
    "lambda_values = [0.0,0.5,1.0]"
   ]
  },
  {
   "cell_type": "markdown",
   "metadata": {},
   "source": [
    "Print what experimental observables are included in BICePs sampling. This is optional and provides a chance for double check before running BICePs sampling.\n",
    "\n",
    "In this tutorial, we used both J couplings and NOE (pairwise distances) in BICePs sampling. "
   ]
  },
  {
   "cell_type": "code",
   "execution_count": 18,
   "metadata": {},
   "outputs": [
    {
     "name": "stdout",
     "output_type": "stream",
     "text": [
      "['J', 'noe']\n"
     ]
    }
   ],
   "source": [
    "# OPTIONAL but RECOMMENDED: print experimental restraints included (a chance for double check)\n",
    "res = list_res(data)\n",
    "print res\n",
    "  "
   ]
  },
  {
   "cell_type": "markdown",
   "metadata": {},
   "source": [
    "Anoter key parameter for BICePs set-up is the type of reference potential for each experimental observables. More information of reference potential can be found [here](https://biceps.readthedocs.io/en/latest/theory.html).\n",
    "\n",
    "Three reference potentials are supported in BICePs: uniform ('uniform'), exponential ('exp'), Gaussian ('gau').  \n",
    "\n",
    "As we found in previous research, exponential reference potential is useful in most cases. Some higher level task may require more in reference potential selection (e.g [force field parametrization](https://pubs.acs.org/doi/10.1021/acs.jpcb.7b11871)).\n",
    "\n",
    "(Noet: It will be helpful to print out what is the order of experimental observables included in BICePs sampling as shown above.)"
   ]
  },
  {
   "cell_type": "code",
   "execution_count": 19,
   "metadata": {
    "collapsed": true
   },
   "outputs": [],
   "source": [
    "# REQUIRED: specify reference potential to use for each experimental observable\n",
    "# will be in the same order as the printed observables from (print res)\n",
    "ref=['uniform','exp']\n"
   ]
  },
  {
   "cell_type": "markdown",
   "metadata": {},
   "source": [
    "If you want, you can specify nuisance parameters (uncertainty in experiments) range but it's not required. Our default parameters range is broad enough.\n",
    "\"gamma\" is a scaling factor converting distances to NOE intensity in experiments. It is only used when NOE restraint is ued in BICePs sampling."
   ]
  },
  {
   "cell_type": "code",
   "execution_count": 20,
   "metadata": {
    "collapsed": true
   },
   "outputs": [],
   "source": [
    "# OPTIONAL: specify nuisance parameters for each experimnetal observable\n",
    "# will be in the same order as the printed observables from (print res)\n",
    "# only specify if you want to narrow down the default range  \n",
    "uncern=[[0.05,20.0,1.02],[0.05,5.0,1.02]]\n",
    "gamma = [0.2,5.0,1.01]  "
   ]
  },
  {
   "cell_type": "markdown",
   "metadata": {},
   "source": [
    "Now we need to set up BICePs samplings and feed arguments using variables we defined above. In most cases, you don't need to modify this part as long as you defined all these parameters shown above. "
   ]
  },
  {
   "cell_type": "code",
   "execution_count": 21,
   "metadata": {},
   "outputs": [
    {
     "name": "stdout",
     "output_type": "stream",
     "text": [
      "lambda 0.0\n",
      "\n",
      "Accepted 78.9713 % \n",
      "\n",
      "\n",
      "Accepted [ 24.5301  24.2915  23.8452   6.3045] % \n",
      "\n",
      "Processing trajectory... ...Done.\n",
      "Writing results... ...Done.\n",
      "Pickling the sampler object ... sampler_lambda0.00.pkl ...Done.\n",
      "lambda 0.5\n",
      "\n",
      "Accepted 75.1632 % \n",
      "\n",
      "\n",
      "Accepted [ 24.5772  24.337   23.8817   2.3673] % \n",
      "\n",
      "Processing trajectory... ...Done.\n",
      "Writing results... ...Done.\n",
      "Pickling the sampler object ... sampler_lambda0.50.pkl ...Done.\n",
      "lambda 1.0\n",
      "\n",
      "Accepted 73.8704 % \n",
      "\n",
      "\n",
      "Accepted [ 24.4841  24.3542  23.8694   1.1627] % \n",
      "\n",
      "Processing trajectory... ...Done.\n",
      "Writing results... ...Done.\n",
      "Pickling the sampler object ... sampler_lambda1.00.pkl ...Done.\n"
     ]
    }
   ],
   "source": [
    "######################\n",
    "# Main:\n",
    "######################\n",
    "\n",
    "for j in lambda_values:\n",
    "    print 'lambda', j\n",
    "    verbose = False #False\n",
    "    lam = j\n",
    "    # We will instantiate a number of Restraint() objects to construct the ensemble\n",
    "    # experimental data and pre-computed model data are compiled for each state\n",
    "    ensemble = []\n",
    "    for i in range(energies.shape[0]):   # number of states\n",
    "        if verbose:\n",
    "            print '\\n#### STRUCTURE %d ####'%i\n",
    "        ensemble.append([])\n",
    "        for k in range(len(data[0])):   # number of experimental observables\n",
    "            File = data[i][k]\n",
    "            if verbose:\n",
    "                print File\n",
    "            R=init_res('top/%d.fixed.pdb'%i,lam,energies[i],ref[k],File,uncern[k],gamma)\n",
    "            ensemble[-1].append(R)\n",
    "        #print ensemble\n",
    "        \n",
    "    ##########################################\n",
    "    # Next, let's do posterior MCMC sampling\n",
    "    ########## Posterior Sampling ############\n",
    "\n",
    "    sampler = PosteriorSampler(ensemble)\n",
    "    sampler.compile_nuisance_parameters()\n",
    "\n",
    "    sampler.sample(nsteps)  # number of steps\n",
    "\n",
    "    print 'Processing trajectory...',\n",
    "\n",
    "    sampler.traj.process()  # compute averages, etc.\n",
    "    print '...Done.'\n",
    "    print 'Writing results...',\n",
    "    sampler.traj.write_results(os.path.join(outdir,'traj_lambda%2.2f.npz'%lam))\n",
    "    print '...Done.'\n",
    "    sampler.traj.read_results(os.path.join(outdir,'traj_lambda%2.2f.npz'%lam))     \n",
    "    print 'Pickling the sampler object ...',\n",
    "    outfilename = 'sampler_lambda%2.2f.pkl'%lam\n",
    "    print outfilename,\n",
    "    fout = open(os.path.join(outdir, outfilename), 'wb')\n",
    "    # Pickle dictionary using protocol 0.\n",
    "    cPickle.dump(sampler, fout)\n",
    "    fout.close()\n",
    "    print '...Done.'\n",
    "\n"
   ]
  },
  {
   "cell_type": "markdown",
   "metadata": {},
   "source": [
    "Now you can check your pre-defined output folder and see if the output files from BICePs sampling are there. In this case, we defined `outdir` as 'results_ref_normal'."
   ]
  },
  {
   "cell_type": "code",
   "execution_count": 22,
   "metadata": {},
   "outputs": [
    {
     "name": "stdout",
     "output_type": "stream",
     "text": [
      "results_ref_normal/sampler_lambda0.00.pkl\r\n",
      "results_ref_normal/sampler_lambda0.50.pkl\r\n",
      "results_ref_normal/sampler_lambda1.00.pkl\r\n",
      "results_ref_normal/traj_lambda0.00.npz\r\n",
      "results_ref_normal/traj_lambda0.50.npz\r\n",
      "results_ref_normal/traj_lambda1.00.npz\r\n"
     ]
    }
   ],
   "source": [
    "ls results_ref_normal/*"
   ]
  },
  {
   "cell_type": "markdown",
   "metadata": {},
   "source": [
    "Then, we need to run functions in [Analysis](https://biceps.readthedocs.io/en/latest/api.html#analysis) to get predicted populations of each conformational states and BICePs score. A figure of posterior distribution of populations and nuisance parameters will be plotted as well. "
   ]
  },
  {
   "cell_type": "code",
   "execution_count": 23,
   "metadata": {},
   "outputs": [
    {
     "name": "stdout",
     "output_type": "stream",
     "text": [
      "Loading results_ref_normal/traj_lambda0.00.npz ...\n",
      "Loading results_ref_normal/traj_lambda0.50.npz ...\n",
      "Loading results_ref_normal/traj_lambda1.00.npz ...\n",
      "Loading results_ref_normal/sampler_lambda0.00.pkl ...\n",
      "Loading results_ref_normal/sampler_lambda0.50.pkl ...\n",
      "Loading results_ref_normal/sampler_lambda1.00.pkl ...\n",
      "lam = [0.0, 0.5, 1.0]\n",
      "nstates 100\n",
      "Writing BS.dat..."
     ]
    },
    {
     "name": "stderr",
     "output_type": "stream",
     "text": [
      "/Users/yunhuige/anaconda/lib/python2.7/site-packages/pymbar-3.0.3-py2.7-macosx-10.6-x86_64.egg/pymbar/mbar.py:919: RuntimeWarning: invalid value encountered in sqrt\n",
      "  sigma = np.sqrt(covA_ij[0:K,0:K].diagonal())\n",
      "/Users/yunhuige/anaconda/lib/python2.7/site-packages/matplotlib/scale.py:101: RuntimeWarning: invalid value encountered in less_equal\n",
      "  a[a <= 0.0] = 1e-300\n"
     ]
    },
    {
     "name": "stdout",
     "output_type": "stream",
     "text": [
      "\n",
      "...Done.\n",
      "Writing populations.dat...\n",
      "...Done.\n"
     ]
    }
   ],
   "source": [
    "#########################################\n",
    "# Let's do analysis using MBAR algorithm and plot figures\n",
    "############ MBAR and Figures ###########\n",
    "# Specify necessary argument values\n",
    "\n",
    "A = Analysis(100,dataFiles,outdir)\n",
    "A.plot()\n"
   ]
  },
  {
   "cell_type": "markdown",
   "metadata": {
    "collapsed": true
   },
   "source": [
    "The output files include: population information (\"populations.dat\"), figure of sampled parameters distribution (\"BICePs.pdf\"), BICePs score information (\"BS.dat\")."
   ]
  },
  {
   "cell_type": "markdown",
   "metadata": {},
   "source": [
    "First, let's take a look at the populations file."
   ]
  },
  {
   "cell_type": "code",
   "execution_count": 24,
   "metadata": {},
   "outputs": [
    {
     "name": "stdout",
     "output_type": "stream",
     "text": [
      "1.848100802180208113e-02 1.894884993601575474e-03 2.410698459454074793e-05 1.280402543365765722e-03 1.329988784903084144e-04 1.696905651117369616e-06\n",
      "4.761675616906435593e-03 6.280459740108934596e-04 1.027840908274235687e-05 6.462804530015955982e-04 8.551182227710229903e-05 1.400704430581652832e-06\n",
      "7.172209802804641043e-03 6.660350849429397257e-03 7.674393477665741869e-04 5.927516519678294182e-04 5.492710384965966914e-04 6.371095205278202707e-05\n",
      "1.009932844303840227e-03 2.804069185777802176e-04 9.660237118902514908e-06 2.799663067303218966e-04 7.777082748460685947e-05 2.680166694591291964e-06\n",
      "1.905086325399985014e-04 9.433407857750708558e-06 5.795960333898619865e-08 1.346949549305315760e-04 6.670650712372997174e-06 4.098629525312328793e-08\n",
      "1.399662387020939036e-03 3.376028756552074128e-07 1.010391770250862464e-11 3.737592638299200797e-04 9.025559100580362788e-08 0.000000000000000000e+00\n",
      "7.411622035859766200e-03 5.653324273974913439e-03 5.350536901649327604e-04 6.342537688941091763e-04 4.834444170247695089e-04 4.602142310936990630e-05\n",
      "1.190289672794575537e-02 6.921098278680481997e-04 4.993444185030782023e-06 1.053040080890456105e-03 6.178236563906610191e-05 4.463353115095281656e-07\n",
      "2.430139356192073663e-03 5.541796766947992836e-04 1.568096711479505245e-05 4.431294662185153508e-04 1.011881268980720276e-04 2.865175024483157056e-06\n",
      "5.584387201954754687e-03 1.560738567341068972e-05 5.412372772184426140e-09 7.437290909071011223e-04 2.088103042813913735e-06 7.081267575614875344e-10\n",
      "5.881801772553929553e-03 3.897710370973417326e-03 3.204878564744273461e-04 5.841594560187286398e-04 3.871670627169377646e-04 3.196496304055179233e-05\n",
      "3.398709365333374421e-03 1.290573857337662389e-06 6.080824732634937391e-11 5.816766895697378370e-04 2.214931753646655076e-07 nan\n",
      "2.833242641278266305e-03 6.483481301933213814e-04 1.840922852669457654e-05 4.782120816979825210e-04 1.096022937988530154e-04 3.114561397903811945e-06\n",
      "2.323418660277853931e-03 7.627067599269565790e-05 3.106637296301784090e-07 4.736144022375358910e-04 1.557553534544121437e-05 6.345446690813183251e-08\n",
      "9.167550244293387607e-04 8.232761389859177825e-05 9.173616726254607556e-07 2.897524306040218404e-04 2.603773422200433978e-05 2.901720262000714065e-07\n",
      "7.813867267272289752e-04 1.855858095400897412e-05 5.469231978416644324e-08 2.761335836192751613e-04 6.562456542892905252e-06 1.934001543381863224e-08\n",
      "3.399070244421542597e-03 9.297240244343640825e-07 3.155342653826664900e-11 5.817382419045000587e-04 1.595627743519635357e-07 0.000000000000000000e+00\n",
      "3.768213621503035959e-02 1.884808969526985400e-02 1.169774089700759134e-03 1.545298161647055838e-03 7.795898777871262085e-04 4.938279700423598741e-05\n",
      "1.251206117350633917e-03 4.856003556286125900e-05 2.338470881380061428e-07 3.467665664028579718e-04 1.347124261323159847e-05 6.488000412049132074e-08\n",
      "2.537662234411097728e-03 5.476718284127546355e-04 1.466593717713848832e-05 4.551803239859413897e-04 9.837648705987583767e-05 2.636209177638863588e-06\n",
      "1.717555068462051082e-03 6.517572612512179120e-04 3.068767028735486235e-05 3.503255279610663765e-04 1.330213683199608335e-04 6.267893708449075053e-06\n",
      "1.208516925631604177e-01 4.725381669517414451e-03 2.292576732254580918e-05 3.158302453744184571e-03 1.362743767730573911e-04 6.681030794036549861e-07\n",
      "5.715063962546951259e-03 8.477998578393375340e-05 1.560516691423430302e-07 7.478557945935619157e-04 1.114509543806079070e-05 2.052115192479520477e-08\n",
      "1.768500919117954595e-02 5.131433492111536765e-04 1.847459608850243740e-06 1.297095773797380183e-03 3.816589540194480055e-05 1.376028119092817103e-07\n",
      "2.476861169951272146e-03 2.311207049476848852e-05 2.675955501629800892e-08 4.946353292305474434e-04 4.624792532078969493e-06 5.351307305768692832e-09\n",
      "5.296782089444507235e-03 3.217668020472075341e-06 2.425348810675131972e-10 7.252390930988942891e-04 4.424828771282465946e-07 nan\n",
      "4.697146381205996590e-03 2.853403715530333784e-06 2.150777334009035258e-10 6.832039109733871766e-04 4.166310988708612596e-07 2.016372521837331812e-10\n",
      "5.777722034441090670e-02 2.277854129917322723e-05 1.114289105430543714e-09 2.317877640036788631e-03 9.591491570265053237e-07 nan\n",
      "2.394713421496996730e-03 3.971154353248351754e-04 8.171143177637674171e-06 4.519761705570505628e-04 7.506316185487886083e-05 1.545336175352130960e-06\n",
      "7.780414838587379478e-04 1.196744789571102530e-04 2.284037185829035366e-06 2.592378231070670410e-04 3.989444201868592998e-05 7.615259581682127684e-07\n",
      "1.810363236597334335e-03 4.314054695631508451e-03 1.275582067772340622e-03 2.106862744393539412e-04 5.001316274125536731e-04 1.483856364221385505e-04\n",
      "4.704872365173251580e-03 5.860692077022111590e-04 9.058427123731505048e-06 6.445780459294262041e-04 8.054738637307352271e-05 1.246009531929264776e-06\n",
      "2.743997369931627794e-02 1.028197729093105472e-02 4.780490097540113226e-04 1.386565369671359255e-03 5.249844826089362535e-04 2.469442844518871471e-05\n",
      "2.090416743255607557e-03 2.296532278249996395e-03 3.130509784941004625e-04 3.048489435028723803e-04 3.345527655329782134e-04 4.570586059577909165e-05\n",
      "2.392321922879858676e-03 7.675021898911893459e-06 3.055220076930709183e-09 4.876262075327797625e-04 1.567453876315545185e-06 6.049117565511995954e-10\n",
      "4.331549765193232204e-03 2.226451056928757666e-03 1.419991778783824543e-04 5.282946809411097127e-04 2.717906323154824699e-04 1.737634231348079839e-05\n",
      "3.174030847841846636e-03 4.191026968043409795e-04 6.866455354526124211e-06 5.280796998304266654e-04 6.987526374040358508e-05 1.145494959161382552e-06\n",
      "1.690557605007914077e-03 7.490912116473680271e-03 4.118530278519161314e-03 1.471135452916152325e-04 6.465301498606995656e-04 3.569124001341867172e-04\n",
      "1.297422359123645563e-02 1.879368612479352940e-01 3.377889151608299834e-01 2.092217337555750390e-04 2.368905771067088793e-03 3.596117705907292492e-03\n",
      "6.908199884811061509e-03 6.092406585344578573e-02 6.666773426174454897e-02 1.969083210041262539e-04 1.607199534652646285e-03 1.760678917332616665e-03\n",
      "4.696095258046373289e-03 3.904339180405003162e-06 4.027747024792915909e-10 6.830517462861677947e-04 5.700796738022687499e-07 nan\n",
      "1.411178827553705162e-03 8.813812883623484140e-05 6.830436116711524619e-07 3.640670188268700039e-04 2.276250372546960695e-05 1.764312129999052168e-07\n",
      "1.009037000042622978e-02 9.628859467536443617e-06 1.140106675734386954e-09 9.978968825038363535e-04 9.601775403706300484e-07 nan\n",
      "2.652215692120263313e-03 8.165882147439518235e-04 3.119609313584348342e-05 4.477385079905983590e-04 1.380198101321337620e-04 5.277836979239734984e-06\n",
      "3.028475233730842930e-03 1.120119509836037253e-03 5.140525643243520904e-05 4.666657457352155008e-04 1.728007456840163238e-04 7.940438554032870085e-06\n",
      "2.429118081936754159e-02 7.566461302570504088e-02 2.924420615492850928e-02 6.937344109095920468e-04 2.001738685039045756e-03 8.177086688668543709e-04\n",
      "1.456658420891487893e-03 7.346281211072280826e-03 4.597060368037197975e-03 1.263198911972761133e-04 6.317829005762263346e-04 3.967129643937621877e-04\n",
      "2.507375066407302455e-03 2.078779336659009047e-03 2.138455969349362107e-04 3.616890971478745965e-04 2.997318718921877009e-04 3.089868218422932745e-05\n",
      "4.298826731315097405e-03 1.173228954876037733e-06 3.972999707002600189e-11 6.538612923930423341e-04 1.790809369480234349e-07 0.000000000000000000e+00\n",
      "6.226892161230290768e-03 4.132767494112510320e-03 3.403403446573527447e-04 6.007784511442849614e-04 3.987974895219349204e-04 3.298413873467023765e-05\n",
      "1.910308423007434087e-03 3.632590248899836283e-03 8.571013280949113522e-04 2.389377704441381133e-04 4.530482991787293198e-04 1.072279006826373950e-04\n",
      "5.036142466337878432e-03 6.375738024844146423e-05 1.001534142286431006e-07 7.030710750452764078e-04 8.937039593496439333e-06 1.404047933698051640e-08\n",
      "4.669430640326099891e-03 1.301194520479942440e-04 4.499076275976676698e-07 6.721061889918007303e-04 1.879806623402857527e-05 6.502137040213351318e-08\n",
      "1.397547987481484455e-03 1.989382477765033741e-04 3.513764742724134749e-06 3.491200685678052607e-04 4.974178516206780552e-05 8.788112839174723274e-07\n",
      "4.942206863300713238e-03 5.770952310535371055e-05 8.361359249420274864e-08 6.968606824100341806e-04 8.169661971907512063e-06 1.184064581978245733e-08\n",
      "1.356957863787533469e-03 1.412185759224193760e-04 1.823560289437864412e-06 3.500976800682358892e-04 3.646909518144775150e-05 4.710278723755814099e-07\n",
      "1.947830061343025498e-02 1.996312535423649948e-03 2.538685114639172014e-05 1.313767766536603045e-03 1.365048012428527119e-04 1.741183035532518737e-06\n",
      "2.610653438740895282e-03 8.897033933297215924e-05 3.762219280556422518e-07 5.016456447540025738e-04 1.713076918147712462e-05 7.245560944048473545e-08\n",
      "1.117916327848300639e-02 1.272389598551737500e-02 1.796940736000562922e-03 6.966407863769742779e-04 7.879631474087792249e-04 1.126523033167798466e-04\n",
      "2.593162966951534365e-02 1.977861229872790449e-01 1.871822473432045442e-01 4.565569062801400155e-04 2.727165302946223807e-03 2.682492177998480835e-03\n",
      "3.712477883143439072e-03 4.798271184078828355e-04 7.694998449769840931e-06 5.716730203159087588e-04 7.407029219359866296e-05 1.188678588898081704e-06\n",
      "6.028127811516181822e-03 3.690684708568259254e-04 2.803717627175572602e-06 7.508795363290569902e-04 4.618002277936961272e-05 3.510588912826447521e-07\n",
      "1.251282880564197342e-03 4.848401821688774760e-05 2.331012169953794455e-07 3.467878143488223558e-04 1.345015534624173135e-05 6.467298109282662860e-08\n",
      "3.033394665026278858e-03 9.311400140168402118e-04 3.546532095688448294e-05 4.789264429224827772e-04 1.472157569886175068e-04 5.613314714571653976e-06\n",
      "8.936822027745261465e-04 1.047930949173991877e-04 1.524702308186576261e-06 2.824664870412985020e-04 3.314214200322742991e-05 4.822804798760321180e-07\n",
      "1.364882564212122062e-02 1.077010232756199226e-01 1.054501510822591914e-01 3.076629038095720476e-04 2.124102510508658458e-03 2.111750258013533627e-03\n",
      "5.787503273568139761e-03 6.046582518983711907e-04 7.838474533006234424e-06 7.210813747209086433e-04 7.564061442676010881e-05 9.814655984536113222e-07\n",
      "3.833988033839097476e-02 3.220378078565655500e-02 3.356338875952769030e-03 1.397513429200876196e-03 1.165157520810303953e-03 1.254575826749051396e-04\n",
      "2.715761361468338464e-03 2.252436985899164412e-03 2.318016526341448724e-04 3.763612978417964976e-04 3.120024463520966939e-04 3.218202531346794014e-05\n",
      "3.006229598809140313e-03 1.922449767928213760e-04 1.525424398352015487e-06 5.305066195739642151e-04 3.400128797353904619e-05 2.698882294552621283e-07\n",
      "1.891358154537892133e-03 7.152482132205539855e-03 3.356159713256090527e-03 1.703613131098664349e-04 6.394245634979795964e-04 3.013730463514092722e-04\n",
      "2.105144515130996652e-03 4.812069896467097152e-04 1.364849522134115034e-05 4.124086931280548018e-04 9.437982448455338274e-05 2.678501228831333262e-06\n",
      "3.835137993501325226e-03 2.977945613841459505e-03 2.869163926568774059e-04 4.546815480235689272e-04 3.529040740682853265e-04 3.410510376519215091e-05\n",
      "3.375038055731582887e-03 2.493907854383969891e-05 2.286572553522603357e-08 5.776391607491983661e-04 4.280037136994105531e-06 3.922004375588851318e-09\n",
      "7.780938977313134330e-04 1.196241398904174247e-04 2.281962378614110776e-06 2.592552734324883590e-04 3.987766309731454958e-05 7.608341593795039169e-07\n",
      "2.775636599335218335e-03 1.608678019193954256e-03 1.156853814687774928e-04 4.133564260776421669e-04 2.396538759558311082e-04 1.726396319110759541e-05\n",
      "3.194330902976272313e-03 5.667849182433570832e-06 1.247842718044012145e-09 5.635942738231342498e-04 1.002627423881879242e-06 2.328306436538696289e-10\n",
      "1.747469196154249893e-02 2.530349219753702528e-05 4.546260257143330819e-09 1.306962823194332849e-03 1.919903127292104441e-06 3.681375715146283064e-10\n",
      "6.989891577062756767e-04 1.943086531963622576e-04 6.702189096374766564e-06 2.329165828935913086e-04 6.476950539923750493e-05 2.234581980164695417e-06\n",
      "6.614030707184559432e-02 1.093535515179344664e-02 2.243377763628817689e-04 2.292852707655675115e-03 3.955502219385008270e-04 8.231074531895608484e-06\n",
      "2.411978139533088594e-03 3.561945727703252906e-02 6.526856458343521794e-02 7.788170749668348037e-05 1.093299249701604279e-03 1.952394768267097167e-03\n",
      "6.594518268384641502e-03 5.481166332144127296e-06 5.652829315749841044e-10 8.084920396515106553e-04 6.756384831017485455e-07 2.016372521837331812e-10\n",
      "1.356892091809669409e-03 1.412826054216775873e-04 1.825302767155534411e-06 3.500807338353446592e-04 3.648562818963924369e-05 4.714780147761798914e-07\n",
      "9.840546275110551022e-04 1.142981140018761721e-04 1.647258487391667359e-06 2.965409116609592113e-04 3.446639348438792046e-05 4.968113573652845059e-07\n",
      "5.927285660862979810e-03 5.532063633517658729e-03 6.406507056202492834e-04 5.382328632008562047e-04 5.014395883273027902e-04 5.839062452253743928e-05\n",
      "2.194954811566063313e-03 2.137562089633182616e-02 2.582942429210333124e-02 1.004569269077717841e-04 9.513408640460894062e-04 1.147255147521519759e-03\n",
      "1.373086803498679842e-03 5.949290217208691445e-04 3.198417478111892365e-05 3.068531751119815535e-04 1.330082617201196410e-04 7.155447996806420434e-06\n",
      "2.023528244608623350e-01 4.717417454802586008e-05 1.364590218599914806e-09 3.909909762682372593e-03 1.093227843188698255e-06 1.164153218269348145e-10\n",
      "3.470213160337243252e-03 7.116770818880180371e-04 1.810975777583045954e-05 5.344973979446803435e-04 1.098352188618689302e-04 2.797460927144586127e-06\n",
      "2.590468295203374183e-03 5.927049025531427873e-04 1.682680224357469001e-05 4.573282816989536698e-04 1.047864367524951819e-04 2.977063336483037726e-06\n",
      "6.609784067521662365e-03 8.145083922090901041e-02 1.245393767115698935e-01 1.540774580590637650e-04 1.702237486397885184e-03 2.510399097958405240e-03\n",
      "9.562050410389932864e-04 2.639642054379942593e-03 9.041529045799023834e-04 1.426603938264956047e-04 3.928362789064520559e-04 1.348223651638137286e-04\n",
      "4.492867610641271270e-03 3.236978205827090171e-02 2.893735033108790766e-02 1.788890341555167136e-04 1.238706366898533915e-03 1.115089667098118596e-03\n",
      "3.600313303065982851e-03 4.804238837707419663e-03 7.954478592255842528e-04 3.753752453258422722e-04 4.994594522796353504e-04 8.306771805158892803e-05\n",
      "1.104662833563563318e-02 1.257670217622708364e-02 1.776669488137816444e-03 6.924445485490464229e-04 7.834994494957730690e-04 1.120307198878705299e-04\n",
      "4.599423023753601569e-03 5.769672664079905644e-07 8.981260180007666349e-12 6.762620168982608508e-04 8.515301350724944157e-08 nan\n",
      "3.805880605665779015e-03 8.694726519362649952e-04 2.464674239721631466e-05 5.540645187953290160e-04 1.268435742055592586e-04 3.599493002316104898e-06\n",
      "3.350060599536019978e-03 4.426811454967261028e-04 7.258254968833810494e-06 5.424481771521767791e-04 7.183927162265881449e-05 1.178623565214345992e-06\n",
      "3.399010867212837184e-03 9.890970733561488260e-07 3.571365425614203559e-11 5.817281143996687722e-04 1.697524217286406530e-07 1.646361269956798229e-10\n",
      "7.700198372708744188e-04 2.983671197265280739e-05 1.434507566067111384e-07 2.721197443048924873e-04 1.055037121064030629e-05 5.072823529745880182e-08\n",
      "\n"
     ]
    }
   ],
   "source": [
    "fin = open('populations.dat','r')\n",
    "text = fin.read()\n",
    "fin.close()\n",
    "print text"
   ]
  },
  {
   "cell_type": "markdown",
   "metadata": {},
   "source": [
    "There are 100 rows corresponding to 100 clustered states. 6 columns corresponding to populations of each state (row) for 3 lambda values (first 3 columns) and population change (last 3 columns). "
   ]
  },
  {
   "cell_type": "markdown",
   "metadata": {},
   "source": [
    "Then let's take a look at the output figure (\"BICePs.pdf\")."
   ]
  },
  {
   "cell_type": "markdown",
   "metadata": {},
   "source": [
    "<img src=\"BICePs.png\" height=\"500\" width=\"500\" align=\"center\">"
   ]
  },
  {
   "cell_type": "markdown",
   "metadata": {},
   "source": [
    "The top left panel shows the population of each states in the presence (y-axis) and absense (x-axis) of computational modeling prior information. You can find some states (e.g state 38, 59) get awarded after including computational prior information. If you check [this work](https://onlinelibrary.wiley.com/doi/full/10.1002/jcc.23738) you will see how misleading the results will be if we only use experimental restraints without computational prior information. \n",
    "The other three panels show the distribution of nuisance parameters in the presence or absence of computational modeling information. It may not be clear in this example due to the limit of finite sampling, but based on our experience, including prior information from our simulations will lower the nuisance parameters than only using experimental restraints."
   ]
  },
  {
   "cell_type": "code",
   "execution_count": 1,
   "metadata": {},
   "outputs": [
    {
     "data": {
      "text/html": [
       "\n",
       "<style>\n",
       "    @font-face {\n",
       "        font-family: \"Computer Modern\";\n",
       "        src: url('http://mirrors.ctan.org/fonts/cm-unicode/fonts/otf/cmunss.otf');\n",
       "    }\n",
       "    #notebook { /* centers the page content */\n",
       "    padding-left:8%;\n",
       "    padding-right:9%;\n",
       "    }\n",
       "    #ipython-main-app {\n",
       "        position: relative;\n",
       "    }\n",
       "    #jupyter-main-app {\n",
       "        position: relative;\n",
       "    }\n",
       "    div.cell{\n",
       "        width:98%;\n",
       "        margin-left:4% !important;*/\n",
       "        margin-right:4%;\n",
       "    }\n",
       "    h1 {\n",
       "        font-family: \"Charis SIL\", Palatino, serif;\n",
       "        text-align: center;\n",
       "    }\n",
       "    h4{\n",
       "        margin-top:12px;\n",
       "        margin-bottom: 3px;\n",
       "       }\n",
       "    div.text_cell_render{\n",
       "        font-family: Computer Modern, \"Helvetica Neue\", Arial, Helvetica, Geneva, sans-serif;\n",
       "        line-height: 145%;\n",
       "        font-size: 12pt;\n",
       "        width:99%;\n",
       "        margin-left:auto;\n",
       "        margin-right:auto;\n",
       "    }\n",
       "    .output_png {\n",
       "        display: block;/*table-cell;*/\n",
       "        text-align: center;\n",
       "        align: center;\n",
       "        vertical-align: middle;\n",
       "        margin-left: auto;\n",
       "        margin-right: auto;\n",
       "        width: 100%;\n",
       "    }\n",
       "    div.output_area pre {font-weight: normal; text-align: justify; }\n",
       "    .warning{\n",
       "        color: rgb( 240, 20, 20 )\n",
       "        }\n",
       "    .CodeMirror{\n",
       "            font-family: \"Source Code Pro\", source-code-pro,Consolas, monospace;\n",
       "    }\n",
       "    .prompt{\n",
       "        display: None;\n",
       "    }\n",
       "    .text_cell_render h5 {\n",
       "        font-weight: 300;\n",
       "        font-size: 16pt;\n",
       "        color: #4057A1;\n",
       "        font-style: italic;\n",
       "        margin-bottom: .5em;\n",
       "        margin-top: 0.5em;\n",
       "        display: block;\n",
       "    }\n",
       "    /* override table width restrictions as found on https://github.com/getpelican/pelican/issues/1311 */\n",
       "    .wy-table-responsive table td, .wy-table-responsive table th {\n",
       "        /* !important prevents the common CSS stylesheets from\n",
       "           overriding this as on RTD they are loaded after this stylesheet */\n",
       "        white-space: normal !important;\n",
       "    }\n",
       "\n",
       "    .wy-table-responsive {\n",
       "        overflow: visible !important;\n",
       "    }\n",
       "</style>\n",
       "\n",
       "<!-- MathJax configuration -->\n",
       "<script type=\"text/x-mathjax-config\">\n",
       "    src=\"http://cdn.mathjax.org/mathjax/latest/MathJax.js?config=TeX-AMS-MML_HTMLorMML\">\n",
       "    MathJax.Hub.Config({\n",
       "                        TeX: {\n",
       "                           extensions: [\"AMSmath.js\"]\n",
       "                           },\n",
       "                tex2jax: {\n",
       "                    inlineMath: [ ['$','$'], [\"\\\\(\",\"\\\\)\"] ],\n",
       "                    displayMath: [ ['$$','$$'], [\"\\\\[\",\"\\\\]\"] ]\n",
       "                },\n",
       "                displayAlign: 'center', // Change this to 'center' to center equations.\n",
       "                \"HTML-CSS\": {\n",
       "                    styles: {'.MathJax_Display': {\"margin\": 4}},\n",
       "                    linebreaks: { automatic: true }}\n",
       "        });\n",
       "</script>\n"
      ],
      "text/plain": [
       "<IPython.core.display.HTML object>"
      ]
     },
     "execution_count": 1,
     "metadata": {},
     "output_type": "execute_result"
    }
   ],
   "source": [
    "from IPython.core.display import HTML\n",
    "def css_styling():\n",
    "    styles = open(\"../../theme.css\", \"r\").read()\n",
    "    return HTML(styles)\n",
    "css_styling()"
   ]
  }
 ],
 "metadata": {
  "kernelspec": {
   "display_name": "Python 2",
   "language": "python",
   "name": "python2"
  },
  "language_info": {
   "codemirror_mode": {
    "name": "ipython",
    "version": 2
   },
   "file_extension": ".py",
   "mimetype": "text/x-python",
   "name": "python",
   "nbconvert_exporter": "python",
   "pygments_lexer": "ipython2",
   "version": "2.7.16"
  }
 },
 "nbformat": 4,
 "nbformat_minor": 1
}
